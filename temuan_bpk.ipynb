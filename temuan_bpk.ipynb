{
 "cells": [
  {
   "cell_type": "code",
   "execution_count": 42,
   "metadata": {},
   "outputs": [],
   "source": [
    "import pandas as pd\n",
    "import numpy as np\n",
    "import plotly.express as px\n",
    "pd.options.plotting.backend = \"plotly\"\n",
    "from utils import *\n",
    "from operator import itemgetter\n",
    "\n",
    "import gensim\n",
    "from gensim.utils import simple_preprocess\n",
    "import gensim.corpora as corpora\n",
    "\n",
    "import pyLDAvis\n",
    "import pyLDAvis.gensim_models"
   ]
  },
  {
   "cell_type": "code",
   "execution_count": 2,
   "metadata": {},
   "outputs": [
    {
     "data": {
      "text/html": [
       "<div>\n",
       "<style scoped>\n",
       "    .dataframe tbody tr th:only-of-type {\n",
       "        vertical-align: middle;\n",
       "    }\n",
       "\n",
       "    .dataframe tbody tr th {\n",
       "        vertical-align: top;\n",
       "    }\n",
       "\n",
       "    .dataframe thead th {\n",
       "        text-align: right;\n",
       "    }\n",
       "</style>\n",
       "<table border=\"1\" class=\"dataframe\">\n",
       "  <thead>\n",
       "    <tr style=\"text-align: right;\">\n",
       "      <th></th>\n",
       "      <th>tahun_lhp</th>\n",
       "      <th>nomor_lhp</th>\n",
       "      <th>tanggal_lhp</th>\n",
       "      <th>nama_entitas</th>\n",
       "      <th>jenis_pemeriksaan</th>\n",
       "      <th>opini_lhp</th>\n",
       "      <th>judul_temuan</th>\n",
       "      <th>is_signifikan</th>\n",
       "    </tr>\n",
       "  </thead>\n",
       "  <tbody>\n",
       "    <tr>\n",
       "      <th>0</th>\n",
       "      <td>2021</td>\n",
       "      <td>04/LHP/XIX.PLU/05/2021</td>\n",
       "      <td>2021-05-19</td>\n",
       "      <td>Pemkab Poso</td>\n",
       "      <td>LK</td>\n",
       "      <td>WTP</td>\n",
       "      <td>Kelemahan Pengendalian dan Penatausahaan Aset ...</td>\n",
       "      <td>0</td>\n",
       "    </tr>\n",
       "    <tr>\n",
       "      <th>1</th>\n",
       "      <td>2021</td>\n",
       "      <td>04/LHP/XIX.PLU/05/2021</td>\n",
       "      <td>2021-05-19</td>\n",
       "      <td>Pemkab Poso</td>\n",
       "      <td>LK</td>\n",
       "      <td>WTP</td>\n",
       "      <td>Belanja Perjalanan Dinas Tidak Sesuai Ketentua...</td>\n",
       "      <td>0</td>\n",
       "    </tr>\n",
       "    <tr>\n",
       "      <th>2</th>\n",
       "      <td>2021</td>\n",
       "      <td>04/LHP/XIX.PLU/05/2021</td>\n",
       "      <td>2021-05-19</td>\n",
       "      <td>Pemkab Poso</td>\n",
       "      <td>LK</td>\n",
       "      <td>WTP</td>\n",
       "      <td>Kelemahan Pengendalian Belanja Modal pada Dina...</td>\n",
       "      <td>0</td>\n",
       "    </tr>\n",
       "    <tr>\n",
       "      <th>3</th>\n",
       "      <td>2021</td>\n",
       "      <td>04/LHP/XIX.PLU/05/2021</td>\n",
       "      <td>2021-05-19</td>\n",
       "      <td>Pemkab Poso</td>\n",
       "      <td>LK</td>\n",
       "      <td>WTP</td>\n",
       "      <td>Kekurangan Volume Pekerjaan dalam Tiga Paket B...</td>\n",
       "      <td>0</td>\n",
       "    </tr>\n",
       "    <tr>\n",
       "      <th>4</th>\n",
       "      <td>2021</td>\n",
       "      <td>04/LHP/XIX.PLU/05/2021</td>\n",
       "      <td>2021-05-19</td>\n",
       "      <td>Pemkab Poso</td>\n",
       "      <td>LK</td>\n",
       "      <td>WTP</td>\n",
       "      <td>Penggunaan Langsung atas Penerimaan Pendapatan...</td>\n",
       "      <td>1</td>\n",
       "    </tr>\n",
       "  </tbody>\n",
       "</table>\n",
       "</div>"
      ],
      "text/plain": [
       "   tahun_lhp               nomor_lhp tanggal_lhp nama_entitas  \\\n",
       "0       2021  04/LHP/XIX.PLU/05/2021  2021-05-19  Pemkab Poso   \n",
       "1       2021  04/LHP/XIX.PLU/05/2021  2021-05-19  Pemkab Poso   \n",
       "2       2021  04/LHP/XIX.PLU/05/2021  2021-05-19  Pemkab Poso   \n",
       "3       2021  04/LHP/XIX.PLU/05/2021  2021-05-19  Pemkab Poso   \n",
       "4       2021  04/LHP/XIX.PLU/05/2021  2021-05-19  Pemkab Poso   \n",
       "\n",
       "  jenis_pemeriksaan opini_lhp  \\\n",
       "0                LK       WTP   \n",
       "1                LK       WTP   \n",
       "2                LK       WTP   \n",
       "3                LK       WTP   \n",
       "4                LK       WTP   \n",
       "\n",
       "                                        judul_temuan is_signifikan  \n",
       "0  Kelemahan Pengendalian dan Penatausahaan Aset ...             0  \n",
       "1  Belanja Perjalanan Dinas Tidak Sesuai Ketentua...             0  \n",
       "2  Kelemahan Pengendalian Belanja Modal pada Dina...             0  \n",
       "3  Kekurangan Volume Pekerjaan dalam Tiga Paket B...             0  \n",
       "4  Penggunaan Langsung atas Penerimaan Pendapatan...             1  "
      ]
     },
     "execution_count": 2,
     "metadata": {},
     "output_type": "execute_result"
    }
   ],
   "source": [
    "# Read data\n",
    "\n",
    "df = pd.read_excel(\"data/TemuanBPK.xlsx\")\n",
    "\n",
    "df = df[[\"LHP_Tahun\", \"NomorLHP\", \"LHP_Tanggal\", \"NamaEntitas\", \"Jenis_Pemeriksaan\", \"LHP_Opini\", \"JudulTemuan\", \"isSignifikan\"]]\n",
    "\n",
    "df = df.rename(columns={\"LHP_Tahun\": \"tahun_lhp\",\n",
    "                   \"NomorLHP\": \"nomor_lhp\",\n",
    "                   \"LHP_Tanggal\": \"tanggal_lhp\",\n",
    "                   \"NamaEntitas\": \"nama_entitas\",\n",
    "                   \"Jenis_Pemeriksaan\": \"jenis_pemeriksaan\",\n",
    "                   \"LHP_Opini\": \"opini_lhp\",\n",
    "                   \"JudulTemuan\": \"judul_temuan\",\n",
    "                   \"isSignifikan\": \"is_signifikan\"})\n",
    "\n",
    "df.head()"
   ]
  },
  {
   "cell_type": "code",
   "execution_count": 3,
   "metadata": {},
   "outputs": [
    {
     "name": "stdout",
     "output_type": "stream",
     "text": [
      "<class 'pandas.core.frame.DataFrame'>\n",
      "Int64Index: 104545 entries, 0 to 104621\n",
      "Data columns (total 8 columns):\n",
      " #   Column             Non-Null Count   Dtype         \n",
      "---  ------             --------------   -----         \n",
      " 0   tahun_lhp          104545 non-null  int64         \n",
      " 1   nomor_lhp          104545 non-null  object        \n",
      " 2   tanggal_lhp        104545 non-null  datetime64[ns]\n",
      " 3   nama_entitas       104545 non-null  object        \n",
      " 4   jenis_pemeriksaan  104545 non-null  object        \n",
      " 5   opini_lhp          104545 non-null  object        \n",
      " 6   judul_temuan       104545 non-null  object        \n",
      " 7   is_signifikan      104545 non-null  object        \n",
      "dtypes: datetime64[ns](1), int64(1), object(6)\n",
      "memory usage: 7.2+ MB\n"
     ]
    }
   ],
   "source": [
    "# Drop null values\n",
    "\n",
    "df = df.dropna()\n",
    "\n",
    "df.info()"
   ]
  },
  {
   "cell_type": "code",
   "execution_count": 4,
   "metadata": {},
   "outputs": [
    {
     "data": {
      "application/vnd.plotly.v1+json": {
       "config": {
        "plotlyServerURL": "https://plot.ly"
       },
       "data": [
        {
         "alignmentgroup": "True",
         "hovertemplate": "jenis_pemeriksaan=Kinerja<br>tahun_lhp=%{x}<br>value=%{y}<extra></extra>",
         "legendgroup": "Kinerja",
         "marker": {
          "color": "#636efa",
          "pattern": {
           "shape": ""
          }
         },
         "name": "Kinerja",
         "offsetgroup": "Kinerja",
         "orientation": "v",
         "showlegend": true,
         "textposition": "auto",
         "type": "bar",
         "x": [
          2017,
          2018,
          2019,
          2020,
          2021
         ],
         "xaxis": "x",
         "y": [
          2890,
          2598,
          3202,
          2431,
          3297
         ],
         "yaxis": "y"
        },
        {
         "alignmentgroup": "True",
         "hovertemplate": "jenis_pemeriksaan=LK<br>tahun_lhp=%{x}<br>value=%{y}<extra></extra>",
         "legendgroup": "LK",
         "marker": {
          "color": "#EF553B",
          "pattern": {
           "shape": ""
          }
         },
         "name": "LK",
         "offsetgroup": "LK",
         "orientation": "v",
         "showlegend": true,
         "textposition": "auto",
         "type": "bar",
         "x": [
          2017,
          2018,
          2019,
          2020,
          2021
         ],
         "xaxis": "x",
         "y": [
          14522,
          15084,
          14290,
          12997,
          13927
         ],
         "yaxis": "y"
        },
        {
         "alignmentgroup": "True",
         "hovertemplate": "jenis_pemeriksaan=PDTT<br>tahun_lhp=%{x}<br>value=%{y}<extra></extra>",
         "legendgroup": "PDTT",
         "marker": {
          "color": "#00cc96",
          "pattern": {
           "shape": ""
          }
         },
         "name": "PDTT",
         "offsetgroup": "PDTT",
         "orientation": "v",
         "showlegend": true,
         "textposition": "auto",
         "type": "bar",
         "x": [
          2017,
          2018,
          2019,
          2020,
          2021
         ],
         "xaxis": "x",
         "y": [
          3785,
          4062,
          3987,
          4495,
          2978
         ],
         "yaxis": "y"
        }
       ],
       "layout": {
        "barmode": "relative",
        "legend": {
         "title": {
          "text": "jenis_pemeriksaan"
         },
         "tracegroupgap": 0
        },
        "template": {
         "data": {
          "bar": [
           {
            "error_x": {
             "color": "#2a3f5f"
            },
            "error_y": {
             "color": "#2a3f5f"
            },
            "marker": {
             "line": {
              "color": "#E5ECF6",
              "width": 0.5
             },
             "pattern": {
              "fillmode": "overlay",
              "size": 10,
              "solidity": 0.2
             }
            },
            "type": "bar"
           }
          ],
          "barpolar": [
           {
            "marker": {
             "line": {
              "color": "#E5ECF6",
              "width": 0.5
             },
             "pattern": {
              "fillmode": "overlay",
              "size": 10,
              "solidity": 0.2
             }
            },
            "type": "barpolar"
           }
          ],
          "carpet": [
           {
            "aaxis": {
             "endlinecolor": "#2a3f5f",
             "gridcolor": "white",
             "linecolor": "white",
             "minorgridcolor": "white",
             "startlinecolor": "#2a3f5f"
            },
            "baxis": {
             "endlinecolor": "#2a3f5f",
             "gridcolor": "white",
             "linecolor": "white",
             "minorgridcolor": "white",
             "startlinecolor": "#2a3f5f"
            },
            "type": "carpet"
           }
          ],
          "choropleth": [
           {
            "colorbar": {
             "outlinewidth": 0,
             "ticks": ""
            },
            "type": "choropleth"
           }
          ],
          "contour": [
           {
            "colorbar": {
             "outlinewidth": 0,
             "ticks": ""
            },
            "colorscale": [
             [
              0,
              "#0d0887"
             ],
             [
              0.1111111111111111,
              "#46039f"
             ],
             [
              0.2222222222222222,
              "#7201a8"
             ],
             [
              0.3333333333333333,
              "#9c179e"
             ],
             [
              0.4444444444444444,
              "#bd3786"
             ],
             [
              0.5555555555555556,
              "#d8576b"
             ],
             [
              0.6666666666666666,
              "#ed7953"
             ],
             [
              0.7777777777777778,
              "#fb9f3a"
             ],
             [
              0.8888888888888888,
              "#fdca26"
             ],
             [
              1,
              "#f0f921"
             ]
            ],
            "type": "contour"
           }
          ],
          "contourcarpet": [
           {
            "colorbar": {
             "outlinewidth": 0,
             "ticks": ""
            },
            "type": "contourcarpet"
           }
          ],
          "heatmap": [
           {
            "colorbar": {
             "outlinewidth": 0,
             "ticks": ""
            },
            "colorscale": [
             [
              0,
              "#0d0887"
             ],
             [
              0.1111111111111111,
              "#46039f"
             ],
             [
              0.2222222222222222,
              "#7201a8"
             ],
             [
              0.3333333333333333,
              "#9c179e"
             ],
             [
              0.4444444444444444,
              "#bd3786"
             ],
             [
              0.5555555555555556,
              "#d8576b"
             ],
             [
              0.6666666666666666,
              "#ed7953"
             ],
             [
              0.7777777777777778,
              "#fb9f3a"
             ],
             [
              0.8888888888888888,
              "#fdca26"
             ],
             [
              1,
              "#f0f921"
             ]
            ],
            "type": "heatmap"
           }
          ],
          "heatmapgl": [
           {
            "colorbar": {
             "outlinewidth": 0,
             "ticks": ""
            },
            "colorscale": [
             [
              0,
              "#0d0887"
             ],
             [
              0.1111111111111111,
              "#46039f"
             ],
             [
              0.2222222222222222,
              "#7201a8"
             ],
             [
              0.3333333333333333,
              "#9c179e"
             ],
             [
              0.4444444444444444,
              "#bd3786"
             ],
             [
              0.5555555555555556,
              "#d8576b"
             ],
             [
              0.6666666666666666,
              "#ed7953"
             ],
             [
              0.7777777777777778,
              "#fb9f3a"
             ],
             [
              0.8888888888888888,
              "#fdca26"
             ],
             [
              1,
              "#f0f921"
             ]
            ],
            "type": "heatmapgl"
           }
          ],
          "histogram": [
           {
            "marker": {
             "pattern": {
              "fillmode": "overlay",
              "size": 10,
              "solidity": 0.2
             }
            },
            "type": "histogram"
           }
          ],
          "histogram2d": [
           {
            "colorbar": {
             "outlinewidth": 0,
             "ticks": ""
            },
            "colorscale": [
             [
              0,
              "#0d0887"
             ],
             [
              0.1111111111111111,
              "#46039f"
             ],
             [
              0.2222222222222222,
              "#7201a8"
             ],
             [
              0.3333333333333333,
              "#9c179e"
             ],
             [
              0.4444444444444444,
              "#bd3786"
             ],
             [
              0.5555555555555556,
              "#d8576b"
             ],
             [
              0.6666666666666666,
              "#ed7953"
             ],
             [
              0.7777777777777778,
              "#fb9f3a"
             ],
             [
              0.8888888888888888,
              "#fdca26"
             ],
             [
              1,
              "#f0f921"
             ]
            ],
            "type": "histogram2d"
           }
          ],
          "histogram2dcontour": [
           {
            "colorbar": {
             "outlinewidth": 0,
             "ticks": ""
            },
            "colorscale": [
             [
              0,
              "#0d0887"
             ],
             [
              0.1111111111111111,
              "#46039f"
             ],
             [
              0.2222222222222222,
              "#7201a8"
             ],
             [
              0.3333333333333333,
              "#9c179e"
             ],
             [
              0.4444444444444444,
              "#bd3786"
             ],
             [
              0.5555555555555556,
              "#d8576b"
             ],
             [
              0.6666666666666666,
              "#ed7953"
             ],
             [
              0.7777777777777778,
              "#fb9f3a"
             ],
             [
              0.8888888888888888,
              "#fdca26"
             ],
             [
              1,
              "#f0f921"
             ]
            ],
            "type": "histogram2dcontour"
           }
          ],
          "mesh3d": [
           {
            "colorbar": {
             "outlinewidth": 0,
             "ticks": ""
            },
            "type": "mesh3d"
           }
          ],
          "parcoords": [
           {
            "line": {
             "colorbar": {
              "outlinewidth": 0,
              "ticks": ""
             }
            },
            "type": "parcoords"
           }
          ],
          "pie": [
           {
            "automargin": true,
            "type": "pie"
           }
          ],
          "scatter": [
           {
            "marker": {
             "colorbar": {
              "outlinewidth": 0,
              "ticks": ""
             }
            },
            "type": "scatter"
           }
          ],
          "scatter3d": [
           {
            "line": {
             "colorbar": {
              "outlinewidth": 0,
              "ticks": ""
             }
            },
            "marker": {
             "colorbar": {
              "outlinewidth": 0,
              "ticks": ""
             }
            },
            "type": "scatter3d"
           }
          ],
          "scattercarpet": [
           {
            "marker": {
             "colorbar": {
              "outlinewidth": 0,
              "ticks": ""
             }
            },
            "type": "scattercarpet"
           }
          ],
          "scattergeo": [
           {
            "marker": {
             "colorbar": {
              "outlinewidth": 0,
              "ticks": ""
             }
            },
            "type": "scattergeo"
           }
          ],
          "scattergl": [
           {
            "marker": {
             "colorbar": {
              "outlinewidth": 0,
              "ticks": ""
             }
            },
            "type": "scattergl"
           }
          ],
          "scattermapbox": [
           {
            "marker": {
             "colorbar": {
              "outlinewidth": 0,
              "ticks": ""
             }
            },
            "type": "scattermapbox"
           }
          ],
          "scatterpolar": [
           {
            "marker": {
             "colorbar": {
              "outlinewidth": 0,
              "ticks": ""
             }
            },
            "type": "scatterpolar"
           }
          ],
          "scatterpolargl": [
           {
            "marker": {
             "colorbar": {
              "outlinewidth": 0,
              "ticks": ""
             }
            },
            "type": "scatterpolargl"
           }
          ],
          "scatterternary": [
           {
            "marker": {
             "colorbar": {
              "outlinewidth": 0,
              "ticks": ""
             }
            },
            "type": "scatterternary"
           }
          ],
          "surface": [
           {
            "colorbar": {
             "outlinewidth": 0,
             "ticks": ""
            },
            "colorscale": [
             [
              0,
              "#0d0887"
             ],
             [
              0.1111111111111111,
              "#46039f"
             ],
             [
              0.2222222222222222,
              "#7201a8"
             ],
             [
              0.3333333333333333,
              "#9c179e"
             ],
             [
              0.4444444444444444,
              "#bd3786"
             ],
             [
              0.5555555555555556,
              "#d8576b"
             ],
             [
              0.6666666666666666,
              "#ed7953"
             ],
             [
              0.7777777777777778,
              "#fb9f3a"
             ],
             [
              0.8888888888888888,
              "#fdca26"
             ],
             [
              1,
              "#f0f921"
             ]
            ],
            "type": "surface"
           }
          ],
          "table": [
           {
            "cells": {
             "fill": {
              "color": "#EBF0F8"
             },
             "line": {
              "color": "white"
             }
            },
            "header": {
             "fill": {
              "color": "#C8D4E3"
             },
             "line": {
              "color": "white"
             }
            },
            "type": "table"
           }
          ]
         },
         "layout": {
          "annotationdefaults": {
           "arrowcolor": "#2a3f5f",
           "arrowhead": 0,
           "arrowwidth": 1
          },
          "autotypenumbers": "strict",
          "coloraxis": {
           "colorbar": {
            "outlinewidth": 0,
            "ticks": ""
           }
          },
          "colorscale": {
           "diverging": [
            [
             0,
             "#8e0152"
            ],
            [
             0.1,
             "#c51b7d"
            ],
            [
             0.2,
             "#de77ae"
            ],
            [
             0.3,
             "#f1b6da"
            ],
            [
             0.4,
             "#fde0ef"
            ],
            [
             0.5,
             "#f7f7f7"
            ],
            [
             0.6,
             "#e6f5d0"
            ],
            [
             0.7,
             "#b8e186"
            ],
            [
             0.8,
             "#7fbc41"
            ],
            [
             0.9,
             "#4d9221"
            ],
            [
             1,
             "#276419"
            ]
           ],
           "sequential": [
            [
             0,
             "#0d0887"
            ],
            [
             0.1111111111111111,
             "#46039f"
            ],
            [
             0.2222222222222222,
             "#7201a8"
            ],
            [
             0.3333333333333333,
             "#9c179e"
            ],
            [
             0.4444444444444444,
             "#bd3786"
            ],
            [
             0.5555555555555556,
             "#d8576b"
            ],
            [
             0.6666666666666666,
             "#ed7953"
            ],
            [
             0.7777777777777778,
             "#fb9f3a"
            ],
            [
             0.8888888888888888,
             "#fdca26"
            ],
            [
             1,
             "#f0f921"
            ]
           ],
           "sequentialminus": [
            [
             0,
             "#0d0887"
            ],
            [
             0.1111111111111111,
             "#46039f"
            ],
            [
             0.2222222222222222,
             "#7201a8"
            ],
            [
             0.3333333333333333,
             "#9c179e"
            ],
            [
             0.4444444444444444,
             "#bd3786"
            ],
            [
             0.5555555555555556,
             "#d8576b"
            ],
            [
             0.6666666666666666,
             "#ed7953"
            ],
            [
             0.7777777777777778,
             "#fb9f3a"
            ],
            [
             0.8888888888888888,
             "#fdca26"
            ],
            [
             1,
             "#f0f921"
            ]
           ]
          },
          "colorway": [
           "#636efa",
           "#EF553B",
           "#00cc96",
           "#ab63fa",
           "#FFA15A",
           "#19d3f3",
           "#FF6692",
           "#B6E880",
           "#FF97FF",
           "#FECB52"
          ],
          "font": {
           "color": "#2a3f5f"
          },
          "geo": {
           "bgcolor": "white",
           "lakecolor": "white",
           "landcolor": "#E5ECF6",
           "showlakes": true,
           "showland": true,
           "subunitcolor": "white"
          },
          "hoverlabel": {
           "align": "left"
          },
          "hovermode": "closest",
          "mapbox": {
           "style": "light"
          },
          "paper_bgcolor": "white",
          "plot_bgcolor": "#E5ECF6",
          "polar": {
           "angularaxis": {
            "gridcolor": "white",
            "linecolor": "white",
            "ticks": ""
           },
           "bgcolor": "#E5ECF6",
           "radialaxis": {
            "gridcolor": "white",
            "linecolor": "white",
            "ticks": ""
           }
          },
          "scene": {
           "xaxis": {
            "backgroundcolor": "#E5ECF6",
            "gridcolor": "white",
            "gridwidth": 2,
            "linecolor": "white",
            "showbackground": true,
            "ticks": "",
            "zerolinecolor": "white"
           },
           "yaxis": {
            "backgroundcolor": "#E5ECF6",
            "gridcolor": "white",
            "gridwidth": 2,
            "linecolor": "white",
            "showbackground": true,
            "ticks": "",
            "zerolinecolor": "white"
           },
           "zaxis": {
            "backgroundcolor": "#E5ECF6",
            "gridcolor": "white",
            "gridwidth": 2,
            "linecolor": "white",
            "showbackground": true,
            "ticks": "",
            "zerolinecolor": "white"
           }
          },
          "shapedefaults": {
           "line": {
            "color": "#2a3f5f"
           }
          },
          "ternary": {
           "aaxis": {
            "gridcolor": "white",
            "linecolor": "white",
            "ticks": ""
           },
           "baxis": {
            "gridcolor": "white",
            "linecolor": "white",
            "ticks": ""
           },
           "bgcolor": "#E5ECF6",
           "caxis": {
            "gridcolor": "white",
            "linecolor": "white",
            "ticks": ""
           }
          },
          "title": {
           "x": 0.05
          },
          "xaxis": {
           "automargin": true,
           "gridcolor": "white",
           "linecolor": "white",
           "ticks": "",
           "title": {
            "standoff": 15
           },
           "zerolinecolor": "white",
           "zerolinewidth": 2
          },
          "yaxis": {
           "automargin": true,
           "gridcolor": "white",
           "linecolor": "white",
           "ticks": "",
           "title": {
            "standoff": 15
           },
           "zerolinecolor": "white",
           "zerolinewidth": 2
          }
         }
        },
        "title": {
         "text": "Jenis Pemeriksaan per Tahun"
        },
        "xaxis": {
         "anchor": "y",
         "domain": [
          0,
          1
         ],
         "title": {
          "text": "tahun_lhp"
         }
        },
        "yaxis": {
         "anchor": "x",
         "domain": [
          0,
          1
         ],
         "title": {
          "text": "value"
         }
        }
       }
      }
     },
     "metadata": {},
     "output_type": "display_data"
    }
   ],
   "source": [
    "# Jenis Pemeriksaan per Tahun\n",
    "\n",
    "df2 = df.groupby([\"tahun_lhp\", \"jenis_pemeriksaan\"]).size().reset_index(name=\"value\")\n",
    "\n",
    "fig = px.bar(df2, x=\"tahun_lhp\", y=\"value\", color=\"jenis_pemeriksaan\", title=\"Jenis Pemeriksaan per Tahun\")\n",
    "fig.show()"
   ]
  },
  {
   "cell_type": "code",
   "execution_count": 5,
   "metadata": {},
   "outputs": [
    {
     "data": {
      "application/vnd.plotly.v1+json": {
       "config": {
        "plotlyServerURL": "https://plot.ly"
       },
       "data": [
        {
         "alignmentgroup": "True",
         "hovertemplate": "opini_lhp=BLANK<br>tahun_lhp=%{x}<br>value=%{y}<extra></extra>",
         "legendgroup": "BLANK",
         "marker": {
          "color": "#636efa",
          "pattern": {
           "shape": ""
          }
         },
         "name": "BLANK",
         "offsetgroup": "BLANK",
         "orientation": "v",
         "showlegend": true,
         "textposition": "auto",
         "type": "bar",
         "x": [
          2017,
          2018,
          2019,
          2020,
          2021
         ],
         "xaxis": "x",
         "y": [
          6696,
          6714,
          7237,
          6987,
          6291
         ],
         "yaxis": "y"
        },
        {
         "alignmentgroup": "True",
         "hovertemplate": "opini_lhp=TMP<br>tahun_lhp=%{x}<br>value=%{y}<extra></extra>",
         "legendgroup": "TMP",
         "marker": {
          "color": "#EF553B",
          "pattern": {
           "shape": ""
          }
         },
         "name": "TMP",
         "offsetgroup": "TMP",
         "orientation": "v",
         "showlegend": true,
         "textposition": "auto",
         "type": "bar",
         "x": [
          2017,
          2018,
          2019,
          2020,
          2021
         ],
         "xaxis": "x",
         "y": [
          955,
          805,
          466,
          235,
          178
         ],
         "yaxis": "y"
        },
        {
         "alignmentgroup": "True",
         "hovertemplate": "opini_lhp=WDP<br>tahun_lhp=%{x}<br>value=%{y}<extra></extra>",
         "legendgroup": "WDP",
         "marker": {
          "color": "#00cc96",
          "pattern": {
           "shape": ""
          }
         },
         "name": "WDP",
         "offsetgroup": "WDP",
         "orientation": "v",
         "showlegend": true,
         "textposition": "auto",
         "type": "bar",
         "x": [
          2017,
          2018,
          2019,
          2020,
          2021
         ],
         "xaxis": "x",
         "y": [
          3773,
          3140,
          2346,
          1163,
          1341
         ],
         "yaxis": "y"
        },
        {
         "alignmentgroup": "True",
         "hovertemplate": "opini_lhp=WTP<br>tahun_lhp=%{x}<br>value=%{y}<extra></extra>",
         "legendgroup": "WTP",
         "marker": {
          "color": "#ab63fa",
          "pattern": {
           "shape": ""
          }
         },
         "name": "WTP",
         "offsetgroup": "WTP",
         "orientation": "v",
         "showlegend": true,
         "textposition": "auto",
         "type": "bar",
         "x": [
          2017,
          2018,
          2019,
          2020,
          2021
         ],
         "xaxis": "x",
         "y": [
          9746,
          11011,
          11371,
          11526,
          12340
         ],
         "yaxis": "y"
        },
        {
         "alignmentgroup": "True",
         "hovertemplate": "opini_lhp=WTP-DPP<br>tahun_lhp=%{x}<br>value=%{y}<extra></extra>",
         "legendgroup": "WTP-DPP",
         "marker": {
          "color": "#FFA15A",
          "pattern": {
           "shape": ""
          }
         },
         "name": "WTP-DPP",
         "offsetgroup": "WTP-DPP",
         "orientation": "v",
         "showlegend": true,
         "textposition": "auto",
         "type": "bar",
         "x": [
          2017,
          2018,
          2019,
          2020
         ],
         "xaxis": "x",
         "y": [
          27,
          74,
          59,
          12
         ],
         "yaxis": "y"
        },
        {
         "alignmentgroup": "True",
         "hovertemplate": "opini_lhp=TW<br>tahun_lhp=%{x}<br>value=%{y}<extra></extra>",
         "legendgroup": "TW",
         "marker": {
          "color": "#19d3f3",
          "pattern": {
           "shape": ""
          }
         },
         "name": "TW",
         "offsetgroup": "TW",
         "orientation": "v",
         "showlegend": true,
         "textposition": "auto",
         "type": "bar",
         "x": [
          2021
         ],
         "xaxis": "x",
         "y": [
          52
         ],
         "yaxis": "y"
        }
       ],
       "layout": {
        "barmode": "group",
        "height": 600,
        "legend": {
         "title": {
          "text": "opini_lhp"
         },
         "tracegroupgap": 0
        },
        "template": {
         "data": {
          "bar": [
           {
            "error_x": {
             "color": "#2a3f5f"
            },
            "error_y": {
             "color": "#2a3f5f"
            },
            "marker": {
             "line": {
              "color": "#E5ECF6",
              "width": 0.5
             },
             "pattern": {
              "fillmode": "overlay",
              "size": 10,
              "solidity": 0.2
             }
            },
            "type": "bar"
           }
          ],
          "barpolar": [
           {
            "marker": {
             "line": {
              "color": "#E5ECF6",
              "width": 0.5
             },
             "pattern": {
              "fillmode": "overlay",
              "size": 10,
              "solidity": 0.2
             }
            },
            "type": "barpolar"
           }
          ],
          "carpet": [
           {
            "aaxis": {
             "endlinecolor": "#2a3f5f",
             "gridcolor": "white",
             "linecolor": "white",
             "minorgridcolor": "white",
             "startlinecolor": "#2a3f5f"
            },
            "baxis": {
             "endlinecolor": "#2a3f5f",
             "gridcolor": "white",
             "linecolor": "white",
             "minorgridcolor": "white",
             "startlinecolor": "#2a3f5f"
            },
            "type": "carpet"
           }
          ],
          "choropleth": [
           {
            "colorbar": {
             "outlinewidth": 0,
             "ticks": ""
            },
            "type": "choropleth"
           }
          ],
          "contour": [
           {
            "colorbar": {
             "outlinewidth": 0,
             "ticks": ""
            },
            "colorscale": [
             [
              0,
              "#0d0887"
             ],
             [
              0.1111111111111111,
              "#46039f"
             ],
             [
              0.2222222222222222,
              "#7201a8"
             ],
             [
              0.3333333333333333,
              "#9c179e"
             ],
             [
              0.4444444444444444,
              "#bd3786"
             ],
             [
              0.5555555555555556,
              "#d8576b"
             ],
             [
              0.6666666666666666,
              "#ed7953"
             ],
             [
              0.7777777777777778,
              "#fb9f3a"
             ],
             [
              0.8888888888888888,
              "#fdca26"
             ],
             [
              1,
              "#f0f921"
             ]
            ],
            "type": "contour"
           }
          ],
          "contourcarpet": [
           {
            "colorbar": {
             "outlinewidth": 0,
             "ticks": ""
            },
            "type": "contourcarpet"
           }
          ],
          "heatmap": [
           {
            "colorbar": {
             "outlinewidth": 0,
             "ticks": ""
            },
            "colorscale": [
             [
              0,
              "#0d0887"
             ],
             [
              0.1111111111111111,
              "#46039f"
             ],
             [
              0.2222222222222222,
              "#7201a8"
             ],
             [
              0.3333333333333333,
              "#9c179e"
             ],
             [
              0.4444444444444444,
              "#bd3786"
             ],
             [
              0.5555555555555556,
              "#d8576b"
             ],
             [
              0.6666666666666666,
              "#ed7953"
             ],
             [
              0.7777777777777778,
              "#fb9f3a"
             ],
             [
              0.8888888888888888,
              "#fdca26"
             ],
             [
              1,
              "#f0f921"
             ]
            ],
            "type": "heatmap"
           }
          ],
          "heatmapgl": [
           {
            "colorbar": {
             "outlinewidth": 0,
             "ticks": ""
            },
            "colorscale": [
             [
              0,
              "#0d0887"
             ],
             [
              0.1111111111111111,
              "#46039f"
             ],
             [
              0.2222222222222222,
              "#7201a8"
             ],
             [
              0.3333333333333333,
              "#9c179e"
             ],
             [
              0.4444444444444444,
              "#bd3786"
             ],
             [
              0.5555555555555556,
              "#d8576b"
             ],
             [
              0.6666666666666666,
              "#ed7953"
             ],
             [
              0.7777777777777778,
              "#fb9f3a"
             ],
             [
              0.8888888888888888,
              "#fdca26"
             ],
             [
              1,
              "#f0f921"
             ]
            ],
            "type": "heatmapgl"
           }
          ],
          "histogram": [
           {
            "marker": {
             "pattern": {
              "fillmode": "overlay",
              "size": 10,
              "solidity": 0.2
             }
            },
            "type": "histogram"
           }
          ],
          "histogram2d": [
           {
            "colorbar": {
             "outlinewidth": 0,
             "ticks": ""
            },
            "colorscale": [
             [
              0,
              "#0d0887"
             ],
             [
              0.1111111111111111,
              "#46039f"
             ],
             [
              0.2222222222222222,
              "#7201a8"
             ],
             [
              0.3333333333333333,
              "#9c179e"
             ],
             [
              0.4444444444444444,
              "#bd3786"
             ],
             [
              0.5555555555555556,
              "#d8576b"
             ],
             [
              0.6666666666666666,
              "#ed7953"
             ],
             [
              0.7777777777777778,
              "#fb9f3a"
             ],
             [
              0.8888888888888888,
              "#fdca26"
             ],
             [
              1,
              "#f0f921"
             ]
            ],
            "type": "histogram2d"
           }
          ],
          "histogram2dcontour": [
           {
            "colorbar": {
             "outlinewidth": 0,
             "ticks": ""
            },
            "colorscale": [
             [
              0,
              "#0d0887"
             ],
             [
              0.1111111111111111,
              "#46039f"
             ],
             [
              0.2222222222222222,
              "#7201a8"
             ],
             [
              0.3333333333333333,
              "#9c179e"
             ],
             [
              0.4444444444444444,
              "#bd3786"
             ],
             [
              0.5555555555555556,
              "#d8576b"
             ],
             [
              0.6666666666666666,
              "#ed7953"
             ],
             [
              0.7777777777777778,
              "#fb9f3a"
             ],
             [
              0.8888888888888888,
              "#fdca26"
             ],
             [
              1,
              "#f0f921"
             ]
            ],
            "type": "histogram2dcontour"
           }
          ],
          "mesh3d": [
           {
            "colorbar": {
             "outlinewidth": 0,
             "ticks": ""
            },
            "type": "mesh3d"
           }
          ],
          "parcoords": [
           {
            "line": {
             "colorbar": {
              "outlinewidth": 0,
              "ticks": ""
             }
            },
            "type": "parcoords"
           }
          ],
          "pie": [
           {
            "automargin": true,
            "type": "pie"
           }
          ],
          "scatter": [
           {
            "marker": {
             "colorbar": {
              "outlinewidth": 0,
              "ticks": ""
             }
            },
            "type": "scatter"
           }
          ],
          "scatter3d": [
           {
            "line": {
             "colorbar": {
              "outlinewidth": 0,
              "ticks": ""
             }
            },
            "marker": {
             "colorbar": {
              "outlinewidth": 0,
              "ticks": ""
             }
            },
            "type": "scatter3d"
           }
          ],
          "scattercarpet": [
           {
            "marker": {
             "colorbar": {
              "outlinewidth": 0,
              "ticks": ""
             }
            },
            "type": "scattercarpet"
           }
          ],
          "scattergeo": [
           {
            "marker": {
             "colorbar": {
              "outlinewidth": 0,
              "ticks": ""
             }
            },
            "type": "scattergeo"
           }
          ],
          "scattergl": [
           {
            "marker": {
             "colorbar": {
              "outlinewidth": 0,
              "ticks": ""
             }
            },
            "type": "scattergl"
           }
          ],
          "scattermapbox": [
           {
            "marker": {
             "colorbar": {
              "outlinewidth": 0,
              "ticks": ""
             }
            },
            "type": "scattermapbox"
           }
          ],
          "scatterpolar": [
           {
            "marker": {
             "colorbar": {
              "outlinewidth": 0,
              "ticks": ""
             }
            },
            "type": "scatterpolar"
           }
          ],
          "scatterpolargl": [
           {
            "marker": {
             "colorbar": {
              "outlinewidth": 0,
              "ticks": ""
             }
            },
            "type": "scatterpolargl"
           }
          ],
          "scatterternary": [
           {
            "marker": {
             "colorbar": {
              "outlinewidth": 0,
              "ticks": ""
             }
            },
            "type": "scatterternary"
           }
          ],
          "surface": [
           {
            "colorbar": {
             "outlinewidth": 0,
             "ticks": ""
            },
            "colorscale": [
             [
              0,
              "#0d0887"
             ],
             [
              0.1111111111111111,
              "#46039f"
             ],
             [
              0.2222222222222222,
              "#7201a8"
             ],
             [
              0.3333333333333333,
              "#9c179e"
             ],
             [
              0.4444444444444444,
              "#bd3786"
             ],
             [
              0.5555555555555556,
              "#d8576b"
             ],
             [
              0.6666666666666666,
              "#ed7953"
             ],
             [
              0.7777777777777778,
              "#fb9f3a"
             ],
             [
              0.8888888888888888,
              "#fdca26"
             ],
             [
              1,
              "#f0f921"
             ]
            ],
            "type": "surface"
           }
          ],
          "table": [
           {
            "cells": {
             "fill": {
              "color": "#EBF0F8"
             },
             "line": {
              "color": "white"
             }
            },
            "header": {
             "fill": {
              "color": "#C8D4E3"
             },
             "line": {
              "color": "white"
             }
            },
            "type": "table"
           }
          ]
         },
         "layout": {
          "annotationdefaults": {
           "arrowcolor": "#2a3f5f",
           "arrowhead": 0,
           "arrowwidth": 1
          },
          "autotypenumbers": "strict",
          "coloraxis": {
           "colorbar": {
            "outlinewidth": 0,
            "ticks": ""
           }
          },
          "colorscale": {
           "diverging": [
            [
             0,
             "#8e0152"
            ],
            [
             0.1,
             "#c51b7d"
            ],
            [
             0.2,
             "#de77ae"
            ],
            [
             0.3,
             "#f1b6da"
            ],
            [
             0.4,
             "#fde0ef"
            ],
            [
             0.5,
             "#f7f7f7"
            ],
            [
             0.6,
             "#e6f5d0"
            ],
            [
             0.7,
             "#b8e186"
            ],
            [
             0.8,
             "#7fbc41"
            ],
            [
             0.9,
             "#4d9221"
            ],
            [
             1,
             "#276419"
            ]
           ],
           "sequential": [
            [
             0,
             "#0d0887"
            ],
            [
             0.1111111111111111,
             "#46039f"
            ],
            [
             0.2222222222222222,
             "#7201a8"
            ],
            [
             0.3333333333333333,
             "#9c179e"
            ],
            [
             0.4444444444444444,
             "#bd3786"
            ],
            [
             0.5555555555555556,
             "#d8576b"
            ],
            [
             0.6666666666666666,
             "#ed7953"
            ],
            [
             0.7777777777777778,
             "#fb9f3a"
            ],
            [
             0.8888888888888888,
             "#fdca26"
            ],
            [
             1,
             "#f0f921"
            ]
           ],
           "sequentialminus": [
            [
             0,
             "#0d0887"
            ],
            [
             0.1111111111111111,
             "#46039f"
            ],
            [
             0.2222222222222222,
             "#7201a8"
            ],
            [
             0.3333333333333333,
             "#9c179e"
            ],
            [
             0.4444444444444444,
             "#bd3786"
            ],
            [
             0.5555555555555556,
             "#d8576b"
            ],
            [
             0.6666666666666666,
             "#ed7953"
            ],
            [
             0.7777777777777778,
             "#fb9f3a"
            ],
            [
             0.8888888888888888,
             "#fdca26"
            ],
            [
             1,
             "#f0f921"
            ]
           ]
          },
          "colorway": [
           "#636efa",
           "#EF553B",
           "#00cc96",
           "#ab63fa",
           "#FFA15A",
           "#19d3f3",
           "#FF6692",
           "#B6E880",
           "#FF97FF",
           "#FECB52"
          ],
          "font": {
           "color": "#2a3f5f"
          },
          "geo": {
           "bgcolor": "white",
           "lakecolor": "white",
           "landcolor": "#E5ECF6",
           "showlakes": true,
           "showland": true,
           "subunitcolor": "white"
          },
          "hoverlabel": {
           "align": "left"
          },
          "hovermode": "closest",
          "mapbox": {
           "style": "light"
          },
          "paper_bgcolor": "white",
          "plot_bgcolor": "#E5ECF6",
          "polar": {
           "angularaxis": {
            "gridcolor": "white",
            "linecolor": "white",
            "ticks": ""
           },
           "bgcolor": "#E5ECF6",
           "radialaxis": {
            "gridcolor": "white",
            "linecolor": "white",
            "ticks": ""
           }
          },
          "scene": {
           "xaxis": {
            "backgroundcolor": "#E5ECF6",
            "gridcolor": "white",
            "gridwidth": 2,
            "linecolor": "white",
            "showbackground": true,
            "ticks": "",
            "zerolinecolor": "white"
           },
           "yaxis": {
            "backgroundcolor": "#E5ECF6",
            "gridcolor": "white",
            "gridwidth": 2,
            "linecolor": "white",
            "showbackground": true,
            "ticks": "",
            "zerolinecolor": "white"
           },
           "zaxis": {
            "backgroundcolor": "#E5ECF6",
            "gridcolor": "white",
            "gridwidth": 2,
            "linecolor": "white",
            "showbackground": true,
            "ticks": "",
            "zerolinecolor": "white"
           }
          },
          "shapedefaults": {
           "line": {
            "color": "#2a3f5f"
           }
          },
          "ternary": {
           "aaxis": {
            "gridcolor": "white",
            "linecolor": "white",
            "ticks": ""
           },
           "baxis": {
            "gridcolor": "white",
            "linecolor": "white",
            "ticks": ""
           },
           "bgcolor": "#E5ECF6",
           "caxis": {
            "gridcolor": "white",
            "linecolor": "white",
            "ticks": ""
           }
          },
          "title": {
           "x": 0.05
          },
          "xaxis": {
           "automargin": true,
           "gridcolor": "white",
           "linecolor": "white",
           "ticks": "",
           "title": {
            "standoff": 15
           },
           "zerolinecolor": "white",
           "zerolinewidth": 2
          },
          "yaxis": {
           "automargin": true,
           "gridcolor": "white",
           "linecolor": "white",
           "ticks": "",
           "title": {
            "standoff": 15
           },
           "zerolinecolor": "white",
           "zerolinewidth": 2
          }
         }
        },
        "title": {
         "text": "Opini LHP per Tahun"
        },
        "xaxis": {
         "anchor": "y",
         "domain": [
          0,
          1
         ],
         "title": {
          "text": "tahun_lhp"
         }
        },
        "yaxis": {
         "anchor": "x",
         "domain": [
          0,
          1
         ],
         "title": {
          "text": "value"
         }
        }
       }
      }
     },
     "metadata": {},
     "output_type": "display_data"
    }
   ],
   "source": [
    "# Opini LHP per Tahun\n",
    "\n",
    "df3 = df.groupby([\"tahun_lhp\", \"opini_lhp\"]).size().reset_index(name=\"value\")\n",
    "\n",
    "fig = px.bar(df3, x=\"tahun_lhp\", y=\"value\", color=\"opini_lhp\", title=\"Opini LHP per Tahun\",\n",
    "            barmode=\"group\", height=600)\n",
    "fig.show()"
   ]
  },
  {
   "cell_type": "code",
   "execution_count": 6,
   "metadata": {},
   "outputs": [],
   "source": [
    "# Preprocess data judul\n",
    "\n",
    "df[\"judul_temuan\"] = df[\"judul_temuan\"].astype(str)\n",
    "df[\"clean\"] = df[\"judul_temuan\"].apply(lambda x: preprocess_text(x))"
   ]
  },
  {
   "cell_type": "code",
   "execution_count": 7,
   "metadata": {},
   "outputs": [
    {
     "data": {
      "text/html": [
       "<div>\n",
       "<style scoped>\n",
       "    .dataframe tbody tr th:only-of-type {\n",
       "        vertical-align: middle;\n",
       "    }\n",
       "\n",
       "    .dataframe tbody tr th {\n",
       "        vertical-align: top;\n",
       "    }\n",
       "\n",
       "    .dataframe thead th {\n",
       "        text-align: right;\n",
       "    }\n",
       "</style>\n",
       "<table border=\"1\" class=\"dataframe\">\n",
       "  <thead>\n",
       "    <tr style=\"text-align: right;\">\n",
       "      <th></th>\n",
       "      <th>tahun_lhp</th>\n",
       "      <th>nomor_lhp</th>\n",
       "      <th>tanggal_lhp</th>\n",
       "      <th>nama_entitas</th>\n",
       "      <th>jenis_pemeriksaan</th>\n",
       "      <th>opini_lhp</th>\n",
       "      <th>judul_temuan</th>\n",
       "      <th>is_signifikan</th>\n",
       "      <th>clean</th>\n",
       "    </tr>\n",
       "  </thead>\n",
       "  <tbody>\n",
       "    <tr>\n",
       "      <th>44398</th>\n",
       "      <td>2020</td>\n",
       "      <td>25/LHP/XVIII.BDG/06/2020</td>\n",
       "      <td>2020-07-01</td>\n",
       "      <td>Pemkab Pangandaran</td>\n",
       "      <td>LK</td>\n",
       "      <td>WTP</td>\n",
       "      <td>Penatausahaan Aset Tetap Pemerintah Kabupaten ...</td>\n",
       "      <td>0</td>\n",
       "      <td>penatausahaan aset pemerintah kabupaten pangan...</td>\n",
       "    </tr>\n",
       "    <tr>\n",
       "      <th>87732</th>\n",
       "      <td>2021</td>\n",
       "      <td>25/LHP/XIX.PNK/05/2021</td>\n",
       "      <td>2021-05-05</td>\n",
       "      <td>Pemkab Kubu Raya</td>\n",
       "      <td>LK</td>\n",
       "      <td>WTP</td>\n",
       "      <td>Kelebihan Pembayaran atas Kekurangan Volume Du...</td>\n",
       "      <td>0</td>\n",
       "      <td>kelebihan pembayaran kekurangan volume paket p...</td>\n",
       "    </tr>\n",
       "    <tr>\n",
       "      <th>45781</th>\n",
       "      <td>2017</td>\n",
       "      <td>92/HP/XIV/11/2018</td>\n",
       "      <td>2018-11-26</td>\n",
       "      <td>UO Kementerian Pertahanan</td>\n",
       "      <td>PDTT</td>\n",
       "      <td>BLANK</td>\n",
       "      <td>Pengadaan Pesawat Terbang Tanpa Awak (PTTA) Pe...</td>\n",
       "      <td>0</td>\n",
       "      <td>pengadaan pesawat terbang awak ptta perbatasan...</td>\n",
       "    </tr>\n",
       "    <tr>\n",
       "      <th>102789</th>\n",
       "      <td>2019</td>\n",
       "      <td>88/LHP/XVIII.SBY/12/2019</td>\n",
       "      <td>2019-12-11</td>\n",
       "      <td>Pemkab Kediri</td>\n",
       "      <td>Kinerja</td>\n",
       "      <td>BLANK</td>\n",
       "      <td>Pemerintah Daerah dan Satuan Pendidikan di Kab...</td>\n",
       "      <td>0</td>\n",
       "      <td>pemerintah daerah satuan pendidikan kabupaten ...</td>\n",
       "    </tr>\n",
       "    <tr>\n",
       "      <th>68977</th>\n",
       "      <td>2021</td>\n",
       "      <td>16/LHP/XVIII.JMB/5/2021</td>\n",
       "      <td>2021-05-07</td>\n",
       "      <td>Pemkab Kerinci</td>\n",
       "      <td>LK</td>\n",
       "      <td>WTP</td>\n",
       "      <td>Pengenaan Pajak Pertambahan Nilai dan/atau Paj...</td>\n",
       "      <td>0</td>\n",
       "      <td>pengenaan pajak pertambahan nilai pajak pengha...</td>\n",
       "    </tr>\n",
       "  </tbody>\n",
       "</table>\n",
       "</div>"
      ],
      "text/plain": [
       "        tahun_lhp                 nomor_lhp tanggal_lhp  \\\n",
       "44398        2020  25/LHP/XVIII.BDG/06/2020  2020-07-01   \n",
       "87732        2021    25/LHP/XIX.PNK/05/2021  2021-05-05   \n",
       "45781        2017         92/HP/XIV/11/2018  2018-11-26   \n",
       "102789       2019  88/LHP/XVIII.SBY/12/2019  2019-12-11   \n",
       "68977        2021   16/LHP/XVIII.JMB/5/2021  2021-05-07   \n",
       "\n",
       "                     nama_entitas jenis_pemeriksaan opini_lhp  \\\n",
       "44398          Pemkab Pangandaran                LK       WTP   \n",
       "87732            Pemkab Kubu Raya                LK       WTP   \n",
       "45781   UO Kementerian Pertahanan              PDTT     BLANK   \n",
       "102789              Pemkab Kediri           Kinerja     BLANK   \n",
       "68977              Pemkab Kerinci                LK       WTP   \n",
       "\n",
       "                                             judul_temuan is_signifikan  \\\n",
       "44398   Penatausahaan Aset Tetap Pemerintah Kabupaten ...             0   \n",
       "87732   Kelebihan Pembayaran atas Kekurangan Volume Du...             0   \n",
       "45781   Pengadaan Pesawat Terbang Tanpa Awak (PTTA) Pe...             0   \n",
       "102789  Pemerintah Daerah dan Satuan Pendidikan di Kab...             0   \n",
       "68977   Pengenaan Pajak Pertambahan Nilai dan/atau Paj...             0   \n",
       "\n",
       "                                                    clean  \n",
       "44398   penatausahaan aset pemerintah kabupaten pangan...  \n",
       "87732   kelebihan pembayaran kekurangan volume paket p...  \n",
       "45781   pengadaan pesawat terbang awak ptta perbatasan...  \n",
       "102789  pemerintah daerah satuan pendidikan kabupaten ...  \n",
       "68977   pengenaan pajak pertambahan nilai pajak pengha...  "
      ]
     },
     "execution_count": 7,
     "metadata": {},
     "output_type": "execute_result"
    }
   ],
   "source": [
    "df.sample(5)"
   ]
  },
  {
   "cell_type": "code",
   "execution_count": 8,
   "metadata": {},
   "outputs": [],
   "source": [
    "# Select data with non-empty tokens\n",
    "\n",
    "df[\"num_words\"] = df[\"clean\"].apply(lambda x: len(x))\n",
    "df = df[df[\"num_words\"] > 0]\n",
    "df = df.drop(columns=[\"num_words\"])"
   ]
  },
  {
   "cell_type": "markdown",
   "metadata": {},
   "source": [
    "#### Gensim"
   ]
  },
  {
   "cell_type": "code",
   "execution_count": 9,
   "metadata": {},
   "outputs": [],
   "source": [
    "# Convert sentences to words\n",
    "\n",
    "def sent_to_words(sentences):\n",
    "    for sentence in sentences:\n",
    "        yield(simple_preprocess(str(sentence), deacc=True))\n",
    "\n",
    "data = df[\"clean\"].values.tolist()\n",
    "data_words = list(sent_to_words(data))"
   ]
  },
  {
   "cell_type": "code",
   "execution_count": 10,
   "metadata": {},
   "outputs": [],
   "source": [
    "# Build bigram models\n",
    "bigram = gensim.models.Phrases(data_words, min_count=2, threshold=10)\n",
    "bigram_mod = gensim.models.phrases.Phraser(bigram)\n",
    "\n",
    "# Build trigram models\n",
    "trigram = gensim.models.Phrases(bigram[data_words], threshold=10)\n",
    "trigram_mod = gensim.models.phrases.Phraser(trigram)"
   ]
  },
  {
   "cell_type": "code",
   "execution_count": 11,
   "metadata": {},
   "outputs": [],
   "source": [
    "def make_bigrams(texts):\n",
    "    return [bigram_mod[doc] for doc in texts]\n",
    "\n",
    "def make_trigrams(texts):\n",
    "    return [trigram_mod[bigram_mod[doc]] for doc in texts]\n",
    "\n",
    "# Form Bigrams\n",
    "data_words_bigrams = make_bigrams(data_words)"
   ]
  },
  {
   "cell_type": "code",
   "execution_count": 12,
   "metadata": {},
   "outputs": [],
   "source": [
    "# Form corpus and dictionary\n",
    "\n",
    "# corpus\n",
    "texts = data_words_bigrams\n",
    "\n",
    "# dictionary\n",
    "id2word = corpora.Dictionary(texts)\n",
    "\n",
    "# TF-IDF\n",
    "corpus = [id2word.doc2bow(text) for text in texts]"
   ]
  },
  {
   "cell_type": "code",
   "execution_count": 13,
   "metadata": {},
   "outputs": [],
   "source": [
    "# Base LDA Model\n",
    "\n",
    "lda_model = gensim.models.LdaMulticore(corpus=corpus, id2word=id2word, num_topics=10,\n",
    "                                       random_state=1, chunksize=100, passes=10, per_word_topics=True)"
   ]
  },
  {
   "cell_type": "code",
   "execution_count": 14,
   "metadata": {},
   "outputs": [
    {
     "name": "stdout",
     "output_type": "stream",
     "text": [
      "Coherence score: 0.35544646569597677\n"
     ]
    }
   ],
   "source": [
    "# Base Model Coherence Score\n",
    "\n",
    "coherence_model = gensim.models.CoherenceModel(model=lda_model, texts=texts, dictionary=id2word, coherence=\"c_v\")\n",
    "coherence_lda = coherence_model.get_coherence()\n",
    "\n",
    "print(f\"Coherence score: {coherence_lda}\")"
   ]
  },
  {
   "cell_type": "code",
   "execution_count": 28,
   "metadata": {},
   "outputs": [
    {
     "name": "stdout",
     "output_type": "stream",
     "text": [
      "Iter 1\n",
      "Iter 2\n",
      "Iter 3\n",
      "Iter 4\n",
      "Iter 5\n",
      "Iter 6\n",
      "Iter 7\n",
      "Iter 8\n",
      "Iter 9\n",
      "Iter 10\n",
      "Iter 11\n",
      "Iter 12\n",
      "Iter 13\n",
      "Iter 14\n",
      "Iter 15\n",
      "Iter 16\n",
      "Iter 17\n",
      "Iter 18\n",
      "Iter 19\n",
      "Iter 20\n",
      "Iter 21\n",
      "Iter 22\n",
      "Iter 23\n",
      "Iter 24\n",
      "Iter 25\n",
      "Iter 26\n",
      "Iter 27\n",
      "Iter 28\n",
      "Iter 29\n",
      "Iter 30\n"
     ]
    }
   ],
   "source": [
    "# Hyperparameter tuning\n",
    "\n",
    "def compute_coherence(corpus, dictionary, k, a, b):\n",
    "    ''' \n",
    "    Compute coherence values for\n",
    "    k - number of topics\n",
    "    a - document-topic density\n",
    "    b - word-topic density\n",
    "    '''\n",
    "    \n",
    "    lda_model = gensim.models.LdaMulticore(corpus=corpus, id2word=dictionary, num_topics=k,\n",
    "                                           random_state=1, chunksize=100, passes=10,\n",
    "                                           alpha=a, eta=b)\n",
    "    coherence_model = gensim.models.CoherenceModel(model=lda_model, texts=texts, dictionary=id2word, coherence=\"c_v\")\n",
    "    \n",
    "    return coherence_model.get_coherence()  \n",
    "\n",
    "\n",
    "grid = {}\n",
    "grid[\"validation\"] = {}\n",
    "\n",
    "# topics\n",
    "min_k = 5\n",
    "max_k = 11\n",
    "k_list = range(min_k, max_k, 1)\n",
    "\n",
    "# alpha\n",
    "alpha_list = list(np.arange(0.1, 1, 0.3))\n",
    "alpha_list.append(\"symmetric\")\n",
    "alpha_list.append(\"asymmetric\")\n",
    "\n",
    "# beta\n",
    "beta_list = list()\n",
    "beta_list.append(\"symmetric\")\n",
    "\n",
    "# validation sets\n",
    "num_docs = len(corpus)\n",
    "corpus_sets = [corpus]\n",
    "corpus_title = [\"100% Corpus\"]\n",
    "\n",
    "model_results = {\"validation\": [],\n",
    "                 \"topics\": [],\n",
    "                 \"alpha\": [],\n",
    "                 \"beta\": [],\n",
    "                 \"coherence\": []}\n",
    "\n",
    "iteration = 1\n",
    "\n",
    "for i in range(len(corpus_sets)):\n",
    "    for k in k_list:\n",
    "        for a in alpha_list:\n",
    "            for b in beta_list:\n",
    "                cv = compute_coherence(corpus=corpus_sets[i], dictionary=id2word, k=k, a=a, b=b)\n",
    "\n",
    "                # save results\n",
    "                model_results[\"validation\"].append(corpus_title[i])\n",
    "                model_results[\"topics\"].append(k)\n",
    "                model_results[\"alpha\"].append(a)\n",
    "                model_results[\"beta\"].append(b)\n",
    "                model_results[\"coherence\"].append(cv)\n",
    "\n",
    "                print(f\"Iter {iteration}\")\n",
    "                iteration += 1\n",
    "\n",
    "pd.DataFrame(model_results).to_csv(\"lda_results.csv\", index=False)"
   ]
  },
  {
   "cell_type": "markdown",
   "metadata": {},
   "source": [
    "#### Best model  "
   ]
  },
  {
   "cell_type": "code",
   "execution_count": 30,
   "metadata": {},
   "outputs": [
    {
     "data": {
      "text/html": [
       "<div>\n",
       "<style scoped>\n",
       "    .dataframe tbody tr th:only-of-type {\n",
       "        vertical-align: middle;\n",
       "    }\n",
       "\n",
       "    .dataframe tbody tr th {\n",
       "        vertical-align: top;\n",
       "    }\n",
       "\n",
       "    .dataframe thead th {\n",
       "        text-align: right;\n",
       "    }\n",
       "</style>\n",
       "<table border=\"1\" class=\"dataframe\">\n",
       "  <thead>\n",
       "    <tr style=\"text-align: right;\">\n",
       "      <th></th>\n",
       "      <th>validation</th>\n",
       "      <th>topics</th>\n",
       "      <th>alpha</th>\n",
       "      <th>beta</th>\n",
       "      <th>coherence</th>\n",
       "    </tr>\n",
       "  </thead>\n",
       "  <tbody>\n",
       "    <tr>\n",
       "      <th>12</th>\n",
       "      <td>100% Corpus</td>\n",
       "      <td>7</td>\n",
       "      <td>0.7000000000000001</td>\n",
       "      <td>symmetric</td>\n",
       "      <td>0.423209</td>\n",
       "    </tr>\n",
       "  </tbody>\n",
       "</table>\n",
       "</div>"
      ],
      "text/plain": [
       "     validation  topics               alpha       beta  coherence\n",
       "12  100% Corpus       7  0.7000000000000001  symmetric   0.423209"
      ]
     },
     "execution_count": 30,
     "metadata": {},
     "output_type": "execute_result"
    }
   ],
   "source": [
    "results = pd.read_csv(\"lda_results.csv\")\n",
    "results[results[\"coherence\"] == results[\"coherence\"].max()]"
   ]
  },
  {
   "cell_type": "code",
   "execution_count": 46,
   "metadata": {},
   "outputs": [],
   "source": [
    "# Best model\n",
    "\n",
    "k = 7\n",
    "a = 0.7\n",
    "b = \"symmetric\"\n",
    "\n",
    "best_lda_model = gensim.models.LdaMulticore(corpus=corpus, id2word=id2word, num_topics=k,\n",
    "                                           random_state=1, chunksize=100, passes=10,\n",
    "                                           alpha=a, eta=b)"
   ]
  },
  {
   "cell_type": "code",
   "execution_count": 49,
   "metadata": {},
   "outputs": [
    {
     "data": {
      "text/plain": [
       "0.42901275540203787"
      ]
     },
     "execution_count": 49,
     "metadata": {},
     "output_type": "execute_result"
    }
   ],
   "source": [
    "coherence_model = gensim.models.CoherenceModel(model=best_lda_model, texts=texts, dictionary=id2word, coherence=\"c_v\")\n",
    "coherence_model.get_coherence()"
   ]
  },
  {
   "cell_type": "code",
   "execution_count": 47,
   "metadata": {},
   "outputs": [
    {
     "name": "stderr",
     "output_type": "stream",
     "text": [
      "/Users/azw/miniconda3/envs/magang-bpk/lib/python3.9/site-packages/pyLDAvis/_prepare.py:246: FutureWarning:\n",
      "\n",
      "In a future version of pandas all arguments of DataFrame.drop except for the argument 'labels' will be keyword-only.\n",
      "\n",
      "/Users/azw/miniconda3/envs/magang-bpk/lib/python3.9/site-packages/past/builtins/misc.py:45: DeprecationWarning: the imp module is deprecated in favour of importlib; see the module's documentation for alternative uses\n",
      "  from imp import reload\n",
      "/Users/azw/miniconda3/envs/magang-bpk/lib/python3.9/site-packages/past/builtins/misc.py:45: DeprecationWarning: the imp module is deprecated in favour of importlib; see the module's documentation for alternative uses\n",
      "  from imp import reload\n",
      "/Users/azw/miniconda3/envs/magang-bpk/lib/python3.9/site-packages/past/builtins/misc.py:45: DeprecationWarning: the imp module is deprecated in favour of importlib; see the module's documentation for alternative uses\n",
      "  from imp import reload\n",
      "/Users/azw/miniconda3/envs/magang-bpk/lib/python3.9/site-packages/past/builtins/misc.py:45: DeprecationWarning: the imp module is deprecated in favour of importlib; see the module's documentation for alternative uses\n",
      "  from imp import reload\n",
      "/Users/azw/miniconda3/envs/magang-bpk/lib/python3.9/site-packages/past/builtins/misc.py:45: DeprecationWarning: the imp module is deprecated in favour of importlib; see the module's documentation for alternative uses\n",
      "  from imp import reload\n",
      "/Users/azw/miniconda3/envs/magang-bpk/lib/python3.9/site-packages/past/builtins/misc.py:45: DeprecationWarning: the imp module is deprecated in favour of importlib; see the module's documentation for alternative uses\n",
      "  from imp import reload\n",
      "/Users/azw/miniconda3/envs/magang-bpk/lib/python3.9/site-packages/past/builtins/misc.py:45: DeprecationWarning: the imp module is deprecated in favour of importlib; see the module's documentation for alternative uses\n",
      "  from imp import reload\n",
      "/Users/azw/miniconda3/envs/magang-bpk/lib/python3.9/site-packages/past/builtins/misc.py:45: DeprecationWarning: the imp module is deprecated in favour of importlib; see the module's documentation for alternative uses\n",
      "  from imp import reload\n",
      "/Users/azw/miniconda3/envs/magang-bpk/lib/python3.9/site-packages/joblib/backports.py:36: DeprecationWarning: distutils Version classes are deprecated. Use packaging.version instead.\n",
      "  if LooseVersion(np.__version__) < '1.13':\n",
      "/Users/azw/miniconda3/envs/magang-bpk/lib/python3.9/site-packages/joblib/backports.py:36: DeprecationWarning: distutils Version classes are deprecated. Use packaging.version instead.\n",
      "  if LooseVersion(np.__version__) < '1.13':\n",
      "/Users/azw/miniconda3/envs/magang-bpk/lib/python3.9/site-packages/joblib/backports.py:36: DeprecationWarning: distutils Version classes are deprecated. Use packaging.version instead.\n",
      "  if LooseVersion(np.__version__) < '1.13':\n",
      "/Users/azw/miniconda3/envs/magang-bpk/lib/python3.9/site-packages/joblib/backports.py:36: DeprecationWarning: distutils Version classes are deprecated. Use packaging.version instead.\n",
      "  if LooseVersion(np.__version__) < '1.13':\n",
      "/Users/azw/miniconda3/envs/magang-bpk/lib/python3.9/site-packages/joblib/backports.py:36: DeprecationWarning: distutils Version classes are deprecated. Use packaging.version instead.\n",
      "  if LooseVersion(np.__version__) < '1.13':\n",
      "/Users/azw/miniconda3/envs/magang-bpk/lib/python3.9/site-packages/joblib/backports.py:36: DeprecationWarning: distutils Version classes are deprecated. Use packaging.version instead.\n",
      "  if LooseVersion(np.__version__) < '1.13':\n",
      "/Users/azw/miniconda3/envs/magang-bpk/lib/python3.9/site-packages/setuptools/_distutils/version.py:351: DeprecationWarning: distutils Version classes are deprecated. Use packaging.version instead.\n",
      "  other = LooseVersion(other)\n",
      "/Users/azw/miniconda3/envs/magang-bpk/lib/python3.9/site-packages/setuptools/_distutils/version.py:351: DeprecationWarning: distutils Version classes are deprecated. Use packaging.version instead.\n",
      "  other = LooseVersion(other)\n",
      "/Users/azw/miniconda3/envs/magang-bpk/lib/python3.9/site-packages/setuptools/_distutils/version.py:351: DeprecationWarning: distutils Version classes are deprecated. Use packaging.version instead.\n",
      "  other = LooseVersion(other)\n",
      "/Users/azw/miniconda3/envs/magang-bpk/lib/python3.9/site-packages/setuptools/_distutils/version.py:351: DeprecationWarning: distutils Version classes are deprecated. Use packaging.version instead.\n",
      "  other = LooseVersion(other)\n",
      "/Users/azw/miniconda3/envs/magang-bpk/lib/python3.9/site-packages/setuptools/_distutils/version.py:351: DeprecationWarning: distutils Version classes are deprecated. Use packaging.version instead.\n",
      "  other = LooseVersion(other)\n",
      "/Users/azw/miniconda3/envs/magang-bpk/lib/python3.9/site-packages/setuptools/_distutils/version.py:351: DeprecationWarning: distutils Version classes are deprecated. Use packaging.version instead.\n",
      "  other = LooseVersion(other)\n",
      "/Users/azw/miniconda3/envs/magang-bpk/lib/python3.9/site-packages/joblib/backports.py:36: DeprecationWarning: distutils Version classes are deprecated. Use packaging.version instead.\n",
      "  if LooseVersion(np.__version__) < '1.13':\n",
      "/Users/azw/miniconda3/envs/magang-bpk/lib/python3.9/site-packages/joblib/backports.py:36: DeprecationWarning: distutils Version classes are deprecated. Use packaging.version instead.\n",
      "  if LooseVersion(np.__version__) < '1.13':\n",
      "/Users/azw/miniconda3/envs/magang-bpk/lib/python3.9/site-packages/joblib/backports.py:36: DeprecationWarning: distutils Version classes are deprecated. Use packaging.version instead.\n",
      "  if LooseVersion(np.__version__) < '1.13':\n",
      "/Users/azw/miniconda3/envs/magang-bpk/lib/python3.9/site-packages/joblib/backports.py:36: DeprecationWarning: distutils Version classes are deprecated. Use packaging.version instead.\n",
      "  if LooseVersion(np.__version__) < '1.13':\n",
      "/Users/azw/miniconda3/envs/magang-bpk/lib/python3.9/site-packages/setuptools/_distutils/version.py:351: DeprecationWarning: distutils Version classes are deprecated. Use packaging.version instead.\n",
      "  other = LooseVersion(other)\n",
      "/Users/azw/miniconda3/envs/magang-bpk/lib/python3.9/site-packages/setuptools/_distutils/version.py:351: DeprecationWarning: distutils Version classes are deprecated. Use packaging.version instead.\n",
      "  other = LooseVersion(other)\n",
      "/Users/azw/miniconda3/envs/magang-bpk/lib/python3.9/site-packages/setuptools/_distutils/version.py:351: DeprecationWarning: distutils Version classes are deprecated. Use packaging.version instead.\n",
      "  other = LooseVersion(other)\n",
      "/Users/azw/miniconda3/envs/magang-bpk/lib/python3.9/site-packages/joblib/backports.py:36: DeprecationWarning: distutils Version classes are deprecated. Use packaging.version instead.\n",
      "  if LooseVersion(np.__version__) < '1.13':\n",
      "/Users/azw/miniconda3/envs/magang-bpk/lib/python3.9/site-packages/setuptools/_distutils/version.py:351: DeprecationWarning: distutils Version classes are deprecated. Use packaging.version instead.\n",
      "  other = LooseVersion(other)\n",
      "/Users/azw/miniconda3/envs/magang-bpk/lib/python3.9/site-packages/setuptools/_distutils/version.py:351: DeprecationWarning: distutils Version classes are deprecated. Use packaging.version instead.\n",
      "  other = LooseVersion(other)\n",
      "/Users/azw/miniconda3/envs/magang-bpk/lib/python3.9/site-packages/joblib/backports.py:36: DeprecationWarning: distutils Version classes are deprecated. Use packaging.version instead.\n",
      "  if LooseVersion(np.__version__) < '1.13':\n",
      "/Users/azw/miniconda3/envs/magang-bpk/lib/python3.9/site-packages/joblib/backports.py:36: DeprecationWarning: distutils Version classes are deprecated. Use packaging.version instead.\n",
      "  if LooseVersion(np.__version__) < '1.13':\n",
      "/Users/azw/miniconda3/envs/magang-bpk/lib/python3.9/site-packages/setuptools/_distutils/version.py:351: DeprecationWarning: distutils Version classes are deprecated. Use packaging.version instead.\n",
      "  other = LooseVersion(other)\n",
      "/Users/azw/miniconda3/envs/magang-bpk/lib/python3.9/site-packages/joblib/backports.py:36: DeprecationWarning: distutils Version classes are deprecated. Use packaging.version instead.\n",
      "  if LooseVersion(np.__version__) < '1.13':\n",
      "/Users/azw/miniconda3/envs/magang-bpk/lib/python3.9/site-packages/setuptools/_distutils/version.py:351: DeprecationWarning: distutils Version classes are deprecated. Use packaging.version instead.\n",
      "  other = LooseVersion(other)\n",
      "/Users/azw/miniconda3/envs/magang-bpk/lib/python3.9/site-packages/setuptools/_distutils/version.py:351: DeprecationWarning: distutils Version classes are deprecated. Use packaging.version instead.\n",
      "  other = LooseVersion(other)\n",
      "/Users/azw/miniconda3/envs/magang-bpk/lib/python3.9/site-packages/joblib/backports.py:36: DeprecationWarning: distutils Version classes are deprecated. Use packaging.version instead.\n",
      "  if LooseVersion(np.__version__) < '1.13':\n",
      "/Users/azw/miniconda3/envs/magang-bpk/lib/python3.9/site-packages/setuptools/_distutils/version.py:351: DeprecationWarning: distutils Version classes are deprecated. Use packaging.version instead.\n",
      "  other = LooseVersion(other)\n",
      "/Users/azw/miniconda3/envs/magang-bpk/lib/python3.9/site-packages/joblib/backports.py:36: DeprecationWarning: distutils Version classes are deprecated. Use packaging.version instead.\n",
      "  if LooseVersion(np.__version__) < '1.13':\n",
      "/Users/azw/miniconda3/envs/magang-bpk/lib/python3.9/site-packages/setuptools/_distutils/version.py:351: DeprecationWarning: distutils Version classes are deprecated. Use packaging.version instead.\n",
      "  other = LooseVersion(other)\n",
      "/Users/azw/miniconda3/envs/magang-bpk/lib/python3.9/site-packages/joblib/backports.py:36: DeprecationWarning: distutils Version classes are deprecated. Use packaging.version instead.\n",
      "  if LooseVersion(np.__version__) < '1.13':\n",
      "/Users/azw/miniconda3/envs/magang-bpk/lib/python3.9/site-packages/setuptools/_distutils/version.py:351: DeprecationWarning: distutils Version classes are deprecated. Use packaging.version instead.\n",
      "  other = LooseVersion(other)\n",
      "/Users/azw/miniconda3/envs/magang-bpk/lib/python3.9/site-packages/joblib/backports.py:36: DeprecationWarning: distutils Version classes are deprecated. Use packaging.version instead.\n",
      "  if LooseVersion(np.__version__) < '1.13':\n",
      "/Users/azw/miniconda3/envs/magang-bpk/lib/python3.9/site-packages/setuptools/_distutils/version.py:351: DeprecationWarning: distutils Version classes are deprecated. Use packaging.version instead.\n",
      "  other = LooseVersion(other)\n",
      "/Users/azw/miniconda3/envs/magang-bpk/lib/python3.9/site-packages/joblib/backports.py:36: DeprecationWarning: distutils Version classes are deprecated. Use packaging.version instead.\n",
      "  if LooseVersion(np.__version__) < '1.13':\n",
      "/Users/azw/miniconda3/envs/magang-bpk/lib/python3.9/site-packages/setuptools/_distutils/version.py:351: DeprecationWarning: distutils Version classes are deprecated. Use packaging.version instead.\n",
      "  other = LooseVersion(other)\n",
      "/Users/azw/miniconda3/envs/magang-bpk/lib/python3.9/site-packages/joblib/backports.py:36: DeprecationWarning: distutils Version classes are deprecated. Use packaging.version instead.\n",
      "  if LooseVersion(np.__version__) < '1.13':\n",
      "/Users/azw/miniconda3/envs/magang-bpk/lib/python3.9/site-packages/joblib/backports.py:36: DeprecationWarning: distutils Version classes are deprecated. Use packaging.version instead.\n",
      "  if LooseVersion(np.__version__) < '1.13':\n",
      "/Users/azw/miniconda3/envs/magang-bpk/lib/python3.9/site-packages/setuptools/_distutils/version.py:351: DeprecationWarning: distutils Version classes are deprecated. Use packaging.version instead.\n",
      "  other = LooseVersion(other)\n",
      "/Users/azw/miniconda3/envs/magang-bpk/lib/python3.9/site-packages/setuptools/_distutils/version.py:351: DeprecationWarning: distutils Version classes are deprecated. Use packaging.version instead.\n",
      "  other = LooseVersion(other)\n",
      "/Users/azw/miniconda3/envs/magang-bpk/lib/python3.9/site-packages/joblib/backports.py:36: DeprecationWarning: distutils Version classes are deprecated. Use packaging.version instead.\n",
      "  if LooseVersion(np.__version__) < '1.13':\n",
      "/Users/azw/miniconda3/envs/magang-bpk/lib/python3.9/site-packages/setuptools/_distutils/version.py:351: DeprecationWarning: distutils Version classes are deprecated. Use packaging.version instead.\n",
      "  other = LooseVersion(other)\n"
     ]
    },
    {
     "data": {
      "text/html": [
       "\n",
       "<link rel=\"stylesheet\" type=\"text/css\" href=\"https://cdn.jsdelivr.net/gh/bmabey/pyLDAvis@3.3.1/pyLDAvis/js/ldavis.v1.0.0.css\">\n",
       "\n",
       "\n",
       "<div id=\"ldavis_el430021402727138486402115117491\"></div>\n",
       "<script type=\"text/javascript\">\n",
       "\n",
       "var ldavis_el430021402727138486402115117491_data = {\"mdsDat\": {\"x\": [-0.13543221802391572, 0.2878955073620072, -0.23377186761556176, -0.18684629642840786, -0.02067285453034742, 0.2905723287965918, -0.0017445995603664211], \"y\": [-0.04924475605330294, -0.07507312894633451, -0.19909879305849104, -0.08108874824797802, 0.2920507280060345, -0.1386071910768088, 0.25106188937688095], \"topics\": [1, 2, 3, 4, 5, 6, 7], \"cluster\": [1, 1, 1, 1, 1, 1, 1], \"Freq\": [15.498548124874631, 15.117494531583016, 14.28675110960706, 13.951660881752263, 13.924125567094672, 13.674719079198127, 13.54670070589023]}, \"tinfo\": {\"Term\": [\"pengelolaan\", \"sesuai\", \"dinas\", \"ketentuan\", \"belanja\", \"pekerjaan\", \"memadai\", \"daerah\", \"tertib\", \"aset\", \"dana\", \"pemerintah\", \"pelaksanaan\", \"senilai\", \"sepenuhnya\", \"kelebihan_pembayaran\", \"penatausahaan\", \"paket\", \"kabupaten\", \"kekurangan_volume\", \"pembayaran\", \"kegiatan\", \"barang\", \"pendapatan\", \"pajak\", \"realisasi\", \"opd\", \"pengadaan\", \"kesehatan\", \"jasa\", \"barang\", \"realisasi\", \"jasa\", \"ketentuan\", \"penganggaran\", \"hibah\", \"didukung_bukti\", \"masyarakat\", \"kesalahan_penganggaran\", \"bukti\", \"barang_diserahkan\", \"terduga\", \"bahan_bakar\", \"berlaku\", \"penanganan_pandemi\", \"masyarakat_ketiga\", \"kondisi_senyatanya\", \"penanganan_covid\", \"minyak\", \"anggota_dprd\", \"kinerja\", \"pimpinan_anggota\", \"tunjangan_perumahan\", \"pph_pasal\", \"makan_minum\", \"diserahkan_masyarakat\", \"tunjangan_transportasi\", \"dianggarkan\", \"senyatanya\", \"bbm\", \"sesuai\", \"kegiatan\", \"kondisi\", \"belanja\", \"anggaran\", \"sekretariat_dprd\", \"bantuan_sosial\", \"sekretariat\", \"covid\", \"dprd\", \"penyusunan\", \"ta\", \"modal\", \"pengadaan\", \"lengkap\", \"dilaksanakan\", \"satker\", \"pengendalian\", \"pengamanan\", \"upaya\", \"pencatatan\", \"penyajian\", \"aset\", \"monitoring_evaluasi\", \"mendukung_pelayanan\", \"pajak_bumi\", \"utara\", \"melaksanakan\", \"piutang_pbb\", \"mendukung\", \"sistem_informasi\", \"provinsi_sulawesi\", \"provinsi_kalimantan\", \"aset_berwujud\", \"bangunan_perdesaan\", \"pelayanan_perizinan\", \"aplikasi\", \"perkotaan\", \"penyusunan_laporan\", \"evaluasi\", \"kabupaten_bolaang\", \"perkotaan_pbb\", \"kepala_sekolah\", \"pemanfaatan_dak\", \"dd_add\", \"penyerahan\", \"pelayanan_vaksinasi\", \"optimal\", \"barat\", \"sepenuhnya\", \"kebijakan_akuntansi\", \"rencana\", \"satuan_pendidikan\", \"peralatan_mesin\", \"memadai\", \"tanah\", \"pemerintah\", \"pemanfaatan\", \"penatausahaan\", \"dilaksanakan\", \"timur\", \"selatan\", \"sarana_prasarana\", \"sumber_daya\", \"dasar\", \"laporan_keuangan\", \"pengawasan\", \"dinas\", \"opd\", \"penataan_ruang\", \"gedung_bangunan\", \"enam\", \"pupr\", \"kelebihan_pembayaran\", \"tujuh\", \"jaringan\", \"delapan\", \"jalan_irigasi\", \"pendidikan_kebudayaan\", \"perhubungan\", \"sembilan\", \"personil\", \"perangkat_daerah\", \"perumahan_kawasan\", \"perjalanan\", \"perumahan_rakyat\", \"tata_ruang\", \"lingkungan_hidup\", \"biaya_langsung\", \"pertanian\", \"sebesarrp\", \"olahraga\", \"kekurangan_volume\", \"perindustrian_perdagangan\", \"produksi\", \"cipta_karya\", \"bina_marga\", \"senilai\", \"skpd\", \"paket\", \"air\", \"jasa_konsultansi\", \"pekerjaan\", \"jalan\", \"modal\", \"peningkatan\", \"peningkatan_jalan\", \"konstruksi\", \"pendidikan\", \"denda_keterlambatan\", \"biaya\", \"belanja\", \"potensi\", \"pelaksanaan\", \"kontrak\", \"pembangunan\", \"keterlambatan\", \"dikenakan_denda\", \"penyelesaian\", \"pembangunan_gedung\", \"gedung\", \"kantor\", \"miliar\", \"dicairkan\", \"keterlambatan_penyelesaian\", \"infrastruktur\", \"spesifikasi\", \"peralatan\", \"uang_muka\", \"berpotensi\", \"jakarta\", \"juta\", \"berlarut_larut\", \"penyedia\", \"selesai\", \"proyek\", \"harga_satuan\", \"jalan_jembatan\", \"dikenakan_sanksi\", \"item\", \"putus_kontrak\", \"dikenakan\", \"cermat\", \"perencanaan\", \"dimanfaatkan\", \"kelebihan\", \"pengembangan\", \"spesifikasi_kontrak\", \"pemeliharaan\", \"proses\", \"fisik\", \"pengadaan\", \"usd\", \"denda_keterlambatan\", \"jaminan\", \"minimal\", \"pekerjaan\", \"satker\", \"terlambat\", \"pengawasan\", \"sesuai\", \"hasil\", \"pendapatan\", \"pajak\", \"retribusi\", \"daerah\", \"barang_milik\", \"kekurangan\", \"sewa\", \"peraturan\", \"perusahaan\", \"pbb\", \"pemungutan\", \"penyertaan_modal\", \"penyetoran\", \"pnbp\", \"pendapatan_asli\", \"laporan\", \"bmd\", \"pajak_restoran\", \"penerima_hibah\", \"bupati\", \"kepala\", \"kekayaan_daerah\", \"kendaraan_bermotor\", \"disetor_kas\", \"penjualan\", \"penyediaan\", \"insentif_pemungutan\", \"parkir\", \"pemungutan_pajak\", \"pajak_reklame\", \"penerimaan\", \"negara\", \"didukung\", \"pedoman\", \"nomor\", \"badan\", \"piutang\", \"ditetapkan\", \"penggunaan\", \"organisasi_perangkat\", \"pasar\", \"penetapan\", \"ketiga\", \"potensi\", \"bangunan\", \"minimal\", \"hasil\", \"pemanfaatan\", \"uang\", \"operasional\", \"tertib\", \"kabupaten\", \"kas\", \"pengeluaran\", \"kas_bendahara\", \"puskesmas\", \"lingkungan\", \"dana_kapitasi\", \"kelemahan\", \"jkn\", \"memenuhi_kebutuhan\", \"kesehatan_nasional\", \"rsud\", \"obat\", \"blud\", \"alat_kesehatan\", \"bendahara\", \"blud_rsud\", \"kpu\", \"sistem_pengendalian\", \"sekolah_pengawas\", \"tenaga\", \"non_kapitasi\", \"guru_kepala\", \"kota_bitung\", \"fktp\", \"bengkulu\", \"pengelolaan\", \"badan_layanan\", \"bpjs\", \"utang\", \"bendahara_pengeluaran\", \"hak_tanah\", \"kesehatan\", \"pelayanan\", \"kelemahan_pengendalian\", \"persediaan\", \"rekening\", \"penatausahaan\", \"ta\", \"pemerintah\", \"rumah_sakit\", \"memadai\", \"keuangan\", \"kota\", \"jaminan\", \"pusat\", \"dana\", \"bantuan\", \"desa\", \"bantuan_operasional\", \"penyaluran\", \"pemberian\", \"penerima\", \"honorarium\", \"kredit\", \"sekolah_bos\", \"standar\", \"tunjangan\", \"gaji_tunjangan\", \"desa_alokasi\", \"tambahan_penghasilan\", \"sipil\", \"alokasi\", \"non\", \"guru\", \"transfer\", \"investasi\", \"khusus\", \"pns\", \"insentif\", \"pencairan\", \"peraturan_menteri\", \"tunjangan_profesi\", \"pembiayaan\", \"pengelola\", \"hukum\", \"pembayaran\", \"bos\", \"melebihi\", \"negeri\", \"pelaporan\", \"pegawai\", \"program\", \"sosial\", \"sekolah\", \"mekanisme\", \"keuangan\", \"kerja\", \"dokumen\", \"pendidikan\", \"biaya\", \"data\", \"harga\"], \"Freq\": [21713.0, 22605.0, 15634.0, 15684.0, 17348.0, 19495.0, 18745.0, 11952.0, 11725.0, 10234.0, 7838.0, 12422.0, 7871.0, 7487.0, 8099.0, 6690.0, 9701.0, 6620.0, 5697.0, 5418.0, 4867.0, 5395.0, 4804.0, 4535.0, 4433.0, 4620.0, 4315.0, 5702.0, 4560.0, 4079.0, 4803.929421081453, 4619.467505665015, 4078.1787968740537, 15680.935693316109, 1093.4210473992594, 3052.4987870050886, 935.4982424965018, 959.4558350889448, 905.4987460650715, 651.5446720155036, 622.0842321095749, 449.6408878678665, 441.77412971040076, 487.22851872000166, 269.20975008570525, 239.20706025901123, 225.65855337214637, 224.52874723531144, 215.90506886296728, 197.2574795762753, 184.66523775238178, 181.21307767868188, 178.02109378160327, 168.57282087600146, 164.4202522786082, 160.66744259456493, 159.21645787783405, 149.08482689825058, 157.18578638336206, 141.83073017586977, 21648.135980699488, 5181.093580292736, 441.53542341443654, 15851.253148710815, 1729.201865844826, 677.1188069103819, 1355.4055981384747, 660.2919518920289, 662.0187803808939, 378.87658890900383, 395.39767633085404, 1054.9757618191495, 1005.2964538507114, 1142.7017512088848, 381.12288586492224, 561.3602244720155, 425.0220628686263, 1726.2947233558943, 1005.8061372931946, 995.3171087512823, 1005.6375999737232, 796.0635012575484, 10222.515750687648, 621.2427990281692, 587.761942737699, 556.5394865281452, 546.5886093281093, 400.13193143403504, 387.7181566431697, 381.2548894986369, 350.57561850139257, 343.4280787152304, 325.7112187631768, 301.25425660421115, 290.1872785514185, 280.3119372193173, 274.45518193337057, 258.9239951496231, 233.29818774410913, 227.83179381395453, 223.81772712661422, 203.7371868918523, 202.3334045155623, 202.0970211910001, 196.8142383801772, 195.67426140716202, 194.9567958132573, 3230.0961559264065, 548.5798527273686, 7837.388955019453, 300.5804132521531, 447.0359786886731, 248.53770206284733, 517.6416850458075, 15373.195116907482, 1129.5184258102188, 7642.293268880546, 1224.0997895654655, 4159.242954400854, 1367.8893782846246, 444.0211074708555, 429.70614271974875, 444.8988642926106, 385.09242307783455, 474.9313246563656, 386.48569273023674, 422.4478299726206, 15634.118648942984, 4314.190250681725, 1536.1015670237098, 1182.0582113335147, 1127.743593302339, 1056.1243713985743, 6684.488466005459, 894.1798019853526, 740.7437132098813, 648.6808404072718, 641.6440574651823, 522.4800164170305, 482.5678188181657, 468.25434050469084, 353.2595664095166, 343.31857622598216, 336.6756460175692, 2666.0484227190173, 298.3039816371883, 294.8293778641286, 292.1908405213825, 279.1790343223774, 272.89103152908405, 317.6949930976788, 240.05635572697665, 5399.089815571976, 226.93389754206711, 216.21524204762042, 214.6484125555267, 211.749751054943, 7376.815601147323, 1811.5234539035564, 6438.618807133032, 271.8229113259556, 842.8012200685267, 14178.931386036596, 1342.244123815421, 2950.544613503254, 389.48392518505017, 477.72000024521293, 455.66913582188886, 674.8312426342613, 816.4954319648942, 778.3683846944451, 1496.1656094734774, 424.12346366460605, 7870.264653023117, 2975.910709351676, 2749.1672281044825, 1477.2072820539759, 1445.1647015584028, 1204.3855550912974, 885.0975023425378, 771.8502964082622, 671.9891322423917, 906.7464156140524, 456.14474631120027, 467.3705270199629, 415.6755152827247, 383.2870250575602, 369.7046332534368, 357.5534150429933, 347.51186888298963, 332.8177508766308, 1818.438285461072, 314.6619945738942, 300.1320149307272, 283.25874519462275, 275.87698485179743, 255.90546555208647, 247.54498369788732, 243.16103923373177, 233.25252343126115, 203.21003113286008, 1364.3874775307827, 190.2870674486941, 2035.331719583097, 572.7309808528828, 694.8121930608303, 616.1955380929086, 340.7019876441956, 896.4980217497541, 1334.6013054456757, 919.6416592931757, 4555.984466118222, 524.4498160699951, 1487.1559918637581, 986.379727433582, 1175.122264434642, 5315.756950996061, 726.1747607660345, 597.7406880690969, 509.6278780403843, 919.2444418875841, 521.5356735398798, 4534.642883513691, 4432.187840309092, 3723.3443419330333, 11946.079832162948, 1186.9025834370852, 1185.7965863729933, 1077.365019474272, 675.8536060526445, 667.8431707666903, 628.3076181276501, 497.6528261745651, 468.4313058193408, 456.5210371761625, 453.8080450264036, 425.51331209425814, 1191.2777988008736, 385.769783029348, 371.29960354211335, 365.97503304602196, 337.9388937854072, 333.0361165924782, 328.2934138773496, 309.61454873990965, 309.0420051884106, 300.208706652275, 300.16510819472717, 283.8810586846011, 274.6859851684726, 274.2431355009716, 272.21365547973704, 2643.9578090181953, 1322.065281711713, 1540.9735981475915, 553.5161292453391, 501.05447927186555, 709.5922032627851, 2236.6992377008487, 1075.5191294326173, 1787.4939294835565, 587.502484552661, 557.4744695808471, 801.7667711632314, 545.3823784631245, 766.431015417188, 664.6347136545988, 879.0046407110723, 657.6191531596212, 690.8187381819115, 541.7071463255122, 503.43005727190655, 11724.583161882381, 5696.316144240025, 3620.201905125961, 1895.6084146087835, 1731.1073902327923, 1013.6096686176278, 869.9792465529813, 672.9079185689807, 584.5866253299828, 423.28463897088045, 414.47361149414075, 380.29342411727924, 947.2861705414927, 345.2770370530632, 329.8020472494666, 321.4668679356172, 405.60001809717323, 260.87885594273376, 233.60336000035258, 232.43513577935673, 229.8472915831085, 218.06889861033923, 217.69113831353985, 192.2724690724417, 181.47710569993782, 171.6427719690185, 166.2241783723567, 21601.588812657505, 161.32020016137207, 160.66439007232606, 288.2819994441161, 479.29042057616203, 175.67772036562926, 4252.627384003702, 1000.311681014606, 484.1034932975033, 3314.9794343539106, 1040.945969477255, 5541.061291177596, 1958.3274917816002, 4779.133061814552, 420.5258516994623, 3360.129336977075, 1168.8287984767092, 436.15691668162464, 451.7062208110567, 366.1859286006713, 7837.534847030736, 2423.4882441837453, 2354.8872551748386, 1323.3033944169774, 1202.9351085751484, 1277.9974896095111, 802.0246589132008, 679.8449662723134, 647.216616264443, 545.0297866139666, 539.6254722230495, 513.6264863091191, 488.73596651714837, 474.1986568750434, 447.52598832680354, 443.2701642628884, 435.12765593897166, 422.37977218132534, 386.3849528923145, 386.50350528545636, 384.40161147894344, 369.6003813316099, 302.7106140007971, 326.8586175007207, 256.70944439117176, 235.5112198185244, 227.73167072389455, 223.64469098697876, 208.50235791659875, 207.95345809340162, 4810.642684497543, 1886.3540419686901, 682.7903589853385, 561.4589003686208, 718.2705457499897, 1284.5694341714354, 1143.3636400357766, 504.49109857743053, 1358.4651819016665, 981.2119781769456, 2050.9529123196285, 856.012476710794, 519.9634693485415, 795.7230646478506, 882.2077457124656, 531.6276591260786, 478.46275493402334], \"Total\": [21713.0, 22605.0, 15634.0, 15684.0, 17348.0, 19495.0, 18745.0, 11952.0, 11725.0, 10234.0, 7838.0, 12422.0, 7871.0, 7487.0, 8099.0, 6690.0, 9701.0, 6620.0, 5697.0, 5418.0, 4867.0, 5395.0, 4804.0, 4535.0, 4433.0, 4620.0, 4315.0, 5702.0, 4560.0, 4079.0, 4804.776496525268, 4620.316913741271, 4079.027627368299, 15684.332842682597, 1094.2682976370083, 3055.0190921731078, 936.3460108016403, 960.4058480496678, 906.3989939023933, 652.3924039597717, 622.9339729387716, 450.4874941915227, 442.6211148079585, 488.55388661172975, 270.05665193014306, 240.0538228014631, 226.5052359820557, 225.3758805983836, 216.7525633801662, 198.10449982448077, 185.5133058002781, 182.06148249040407, 178.867736363568, 169.42215724629557, 165.26748046658457, 161.51497127886944, 160.0632594498861, 149.93224646542365, 158.0835924940746, 142.6778536152638, 22605.71603155428, 5395.813192643504, 448.90659388788794, 17348.122511507216, 1944.5525593845437, 736.3320612518745, 1828.1086430798478, 857.3653624269976, 870.1595662140159, 447.39177451085993, 514.2071974034609, 3405.775397252442, 3956.5449156987315, 5702.289712977639, 702.8314009350671, 2382.8545945587543, 1212.4078359899884, 1727.2430935903762, 1006.6615274884837, 996.1721294321148, 1006.5969431913492, 796.9205497096044, 10234.88728582117, 622.0987616826056, 588.6172276193646, 557.3949291423502, 547.4447401672509, 401.0034108361637, 388.5741444994609, 382.1110053967643, 351.43179223573674, 344.2840182780914, 326.58396758619625, 302.10964591275615, 291.04243119785025, 281.1673031904632, 275.31223852324007, 259.7797552209254, 234.15401962024225, 228.68808845205342, 224.67354437858623, 204.5921602052775, 203.18858123698868, 202.952527594057, 197.66954943747433, 196.53142604913117, 195.81148533393286, 3265.72125814564, 551.2790127067703, 8099.9878179305415, 303.1734537278889, 455.1140637071979, 250.70243910783992, 534.4281759364627, 18745.008194871065, 1352.1239749658216, 12422.712905940461, 1915.6890518627363, 9701.024783311559, 2382.8545945587543, 522.1683010150364, 502.63805720662936, 574.5860585855186, 467.1274504410815, 757.7473893161387, 508.3939021163051, 1009.5417414804828, 15634.957608698098, 4315.508458958158, 1536.9391017785558, 1182.8990584597905, 1128.5821403746797, 1056.9621547779718, 6690.862136014018, 895.1284386758888, 741.5818273578735, 649.5207699290808, 642.4817001587928, 523.3192781751836, 483.40616296498695, 469.0973858096576, 354.09827796547023, 344.15804062966885, 337.51353863458627, 2673.504115439605, 299.14158212091723, 295.66732060366627, 293.0292646234673, 280.0323534762237, 273.72965954686566, 318.7061142222828, 240.89466736849874, 5418.051645215024, 227.77235053301018, 217.05517440160503, 215.48645291059572, 212.58740568214836, 7487.5587305505205, 1829.1941751719858, 6620.989189840062, 273.806933966937, 910.4121300543204, 19495.376863964044, 1623.5035464616951, 3956.5449156987315, 411.87306516377964, 562.840977200449, 546.1352364738477, 1531.9974643808268, 2304.3399718039836, 2181.267741318724, 17348.122511507216, 1213.7159522226402, 7871.3293920887145, 2976.743328939219, 2750.0564307014215, 1478.039760476388, 1445.9968102270507, 1205.218306053176, 885.9299021008421, 772.7235312770297, 672.8224326461261, 908.080334573082, 456.9765428975724, 468.3030752556267, 416.5086153482036, 384.1197134218534, 370.5373455302495, 358.38597738918196, 348.34717714936187, 333.6505196531731, 1823.113357443972, 315.4951396210063, 300.9741639462584, 284.09113425458133, 276.70911643103176, 256.73806404940547, 248.37925021736396, 243.99330942876784, 234.08502139728503, 204.0418350636215, 1370.162929790378, 191.11981108512708, 2063.1199042072094, 575.6975206983825, 702.8617824700932, 622.8203661422083, 344.10213021434964, 956.4070674988315, 1473.2445268798335, 1006.6829086543288, 5702.289712977639, 561.6238940029315, 2304.3399718039836, 1438.7836377950691, 2057.8037254541937, 19495.376863964044, 1212.4078359899884, 1073.325835697177, 1009.5417414804828, 22605.71603155428, 1383.3628351097884, 4535.477168260791, 4433.021518261232, 3724.1778491247314, 11952.618225816319, 1187.7363047412784, 1186.6312504427426, 1078.4770683852282, 676.6873393869483, 668.6780992806931, 629.194081688688, 498.48633858610873, 469.2683176758671, 457.3547344606555, 454.6420987660112, 426.34689568367867, 1193.8293342825875, 386.61728082394006, 372.1329668166578, 366.808741670013, 338.77439547703466, 333.8703301967847, 329.12680158173697, 310.4492992745613, 309.8756282118894, 301.0427667027963, 301.00128393577126, 284.71444741296193, 275.52030883785295, 275.0767803886074, 273.04713245403, 2655.712204175238, 1326.3384015867284, 1551.643933519205, 555.5300739073558, 502.7813387485602, 716.7790658545782, 2329.6894250221208, 1106.471560616712, 2037.7033208173916, 637.4824587881095, 605.1891237041023, 967.741166629794, 627.9132290393052, 1213.7159522226402, 1062.639374437593, 2057.8037254541937, 1383.3628351097884, 1915.6890518627363, 798.371750489747, 833.6889657244795, 11725.46368404193, 5697.606331009965, 3621.0511080452147, 1896.45535858142, 1731.9533848864596, 1014.4565362323643, 870.8438771649388, 673.7544636598681, 585.4352694090747, 424.1308177515034, 415.31968264753016, 381.1394447823566, 949.5952673149438, 346.1235898225827, 330.64847807920154, 322.31421821409765, 406.7405096015672, 261.72557313855435, 234.45023471839073, 233.2814127910501, 230.6940439567259, 218.91691253925416, 218.5377330693654, 193.11877759616854, 182.32716276376047, 172.4889634070198, 167.0711988702412, 21713.248164723966, 162.16642833961245, 161.51168862502348, 290.58211693893435, 486.081752508462, 176.60826735104484, 4560.96196236141, 1044.359335843787, 498.4099972406648, 3630.8685112062126, 1287.8331127496251, 9701.024783311559, 3405.775397252442, 12422.712905940461, 561.3341332892552, 18745.008194871065, 3228.6432728464197, 780.4210818454208, 1438.7836377950691, 627.9583086068665, 7838.372825719936, 2424.3249664357563, 2355.733498203677, 1324.1396977251252, 1203.771380879304, 1278.893523755135, 802.8612450332537, 680.6818624433463, 648.0528838334664, 545.8659687022839, 540.4626846220166, 514.4627917964029, 489.5722132607424, 475.035191501221, 448.3622587099813, 444.10689425474476, 435.96517050391344, 423.2218518069363, 387.2214911776739, 387.34049635737125, 385.2482376132782, 370.43765413578234, 303.5469965886543, 327.82978557164205, 257.5464288035381, 236.34847499646273, 228.56771794424878, 224.48453177893148, 209.33997912937807, 208.79082260538954, 4867.397631836138, 1902.4748500259375, 686.9683527356636, 570.8789256549128, 741.9637808565228, 1351.5163647223967, 1238.1916862039443, 520.2714138617173, 1540.91313644322, 1080.7555471193375, 3228.6432728464197, 1076.2019521553148, 584.6865073338541, 1531.9974643808268, 2181.267741318724, 759.9774970926916, 559.2390813229574], \"Category\": [\"Default\", \"Default\", \"Default\", \"Default\", \"Default\", \"Default\", \"Default\", \"Default\", \"Default\", \"Default\", \"Default\", \"Default\", \"Default\", \"Default\", \"Default\", \"Default\", \"Default\", \"Default\", \"Default\", \"Default\", \"Default\", \"Default\", \"Default\", \"Default\", \"Default\", \"Default\", \"Default\", \"Default\", \"Default\", \"Default\", \"Topic1\", \"Topic1\", \"Topic1\", \"Topic1\", \"Topic1\", \"Topic1\", \"Topic1\", \"Topic1\", \"Topic1\", \"Topic1\", \"Topic1\", \"Topic1\", \"Topic1\", \"Topic1\", \"Topic1\", \"Topic1\", \"Topic1\", \"Topic1\", \"Topic1\", \"Topic1\", \"Topic1\", \"Topic1\", \"Topic1\", \"Topic1\", \"Topic1\", \"Topic1\", \"Topic1\", \"Topic1\", \"Topic1\", \"Topic1\", \"Topic1\", \"Topic1\", \"Topic1\", \"Topic1\", \"Topic1\", \"Topic1\", \"Topic1\", \"Topic1\", \"Topic1\", \"Topic1\", \"Topic1\", \"Topic1\", \"Topic1\", \"Topic1\", \"Topic1\", \"Topic1\", \"Topic1\", \"Topic2\", \"Topic2\", \"Topic2\", \"Topic2\", \"Topic2\", \"Topic2\", \"Topic2\", \"Topic2\", \"Topic2\", \"Topic2\", \"Topic2\", \"Topic2\", \"Topic2\", \"Topic2\", \"Topic2\", \"Topic2\", \"Topic2\", \"Topic2\", \"Topic2\", \"Topic2\", \"Topic2\", \"Topic2\", \"Topic2\", \"Topic2\", \"Topic2\", \"Topic2\", \"Topic2\", \"Topic2\", \"Topic2\", \"Topic2\", \"Topic2\", \"Topic2\", \"Topic2\", \"Topic2\", \"Topic2\", \"Topic2\", \"Topic2\", \"Topic2\", \"Topic2\", \"Topic2\", \"Topic2\", \"Topic2\", \"Topic2\", \"Topic2\", \"Topic2\", \"Topic2\", \"Topic2\", \"Topic2\", \"Topic2\", \"Topic2\", \"Topic3\", \"Topic3\", \"Topic3\", \"Topic3\", \"Topic3\", \"Topic3\", \"Topic3\", \"Topic3\", \"Topic3\", \"Topic3\", \"Topic3\", \"Topic3\", \"Topic3\", \"Topic3\", \"Topic3\", \"Topic3\", \"Topic3\", \"Topic3\", \"Topic3\", \"Topic3\", \"Topic3\", \"Topic3\", \"Topic3\", \"Topic3\", \"Topic3\", \"Topic3\", \"Topic3\", \"Topic3\", \"Topic3\", \"Topic3\", \"Topic3\", \"Topic3\", \"Topic3\", \"Topic3\", \"Topic3\", \"Topic3\", \"Topic3\", \"Topic3\", \"Topic3\", \"Topic3\", \"Topic3\", \"Topic3\", \"Topic3\", \"Topic3\", \"Topic3\", \"Topic3\", \"Topic4\", \"Topic4\", \"Topic4\", \"Topic4\", \"Topic4\", \"Topic4\", \"Topic4\", \"Topic4\", \"Topic4\", \"Topic4\", \"Topic4\", \"Topic4\", \"Topic4\", \"Topic4\", \"Topic4\", \"Topic4\", \"Topic4\", \"Topic4\", \"Topic4\", \"Topic4\", \"Topic4\", \"Topic4\", \"Topic4\", \"Topic4\", \"Topic4\", \"Topic4\", \"Topic4\", \"Topic4\", \"Topic4\", \"Topic4\", \"Topic4\", \"Topic4\", \"Topic4\", \"Topic4\", \"Topic4\", \"Topic4\", \"Topic4\", \"Topic4\", \"Topic4\", \"Topic4\", \"Topic4\", \"Topic4\", \"Topic4\", \"Topic4\", \"Topic4\", \"Topic4\", \"Topic4\", \"Topic4\", \"Topic4\", \"Topic5\", \"Topic5\", \"Topic5\", \"Topic5\", \"Topic5\", \"Topic5\", \"Topic5\", \"Topic5\", \"Topic5\", \"Topic5\", \"Topic5\", \"Topic5\", \"Topic5\", \"Topic5\", \"Topic5\", \"Topic5\", \"Topic5\", \"Topic5\", \"Topic5\", \"Topic5\", \"Topic5\", \"Topic5\", \"Topic5\", \"Topic5\", \"Topic5\", \"Topic5\", \"Topic5\", \"Topic5\", \"Topic5\", \"Topic5\", \"Topic5\", \"Topic5\", \"Topic5\", \"Topic5\", \"Topic5\", \"Topic5\", \"Topic5\", \"Topic5\", \"Topic5\", \"Topic5\", \"Topic5\", \"Topic5\", \"Topic5\", \"Topic5\", \"Topic5\", \"Topic5\", \"Topic5\", \"Topic5\", \"Topic5\", \"Topic5\", \"Topic6\", \"Topic6\", \"Topic6\", \"Topic6\", \"Topic6\", \"Topic6\", \"Topic6\", \"Topic6\", \"Topic6\", \"Topic6\", \"Topic6\", \"Topic6\", \"Topic6\", \"Topic6\", \"Topic6\", \"Topic6\", \"Topic6\", \"Topic6\", \"Topic6\", \"Topic6\", \"Topic6\", \"Topic6\", \"Topic6\", \"Topic6\", \"Topic6\", \"Topic6\", \"Topic6\", \"Topic6\", \"Topic6\", \"Topic6\", \"Topic6\", \"Topic6\", \"Topic6\", \"Topic6\", \"Topic6\", \"Topic6\", \"Topic6\", \"Topic6\", \"Topic6\", \"Topic6\", \"Topic6\", \"Topic6\", \"Topic6\", \"Topic6\", \"Topic6\", \"Topic6\", \"Topic6\", \"Topic7\", \"Topic7\", \"Topic7\", \"Topic7\", \"Topic7\", \"Topic7\", \"Topic7\", \"Topic7\", \"Topic7\", \"Topic7\", \"Topic7\", \"Topic7\", \"Topic7\", \"Topic7\", \"Topic7\", \"Topic7\", \"Topic7\", \"Topic7\", \"Topic7\", \"Topic7\", \"Topic7\", \"Topic7\", \"Topic7\", \"Topic7\", \"Topic7\", \"Topic7\", \"Topic7\", \"Topic7\", \"Topic7\", \"Topic7\", \"Topic7\", \"Topic7\", \"Topic7\", \"Topic7\", \"Topic7\", \"Topic7\", \"Topic7\", \"Topic7\", \"Topic7\", \"Topic7\", \"Topic7\", \"Topic7\", \"Topic7\", \"Topic7\", \"Topic7\", \"Topic7\", \"Topic7\"], \"logprob\": [30.0, 29.0, 28.0, 27.0, 26.0, 25.0, 24.0, 23.0, 22.0, 21.0, 20.0, 19.0, 18.0, 17.0, 16.0, 15.0, 14.0, 13.0, 12.0, 11.0, 10.0, 9.0, 8.0, 7.0, 6.0, 5.0, 4.0, 3.0, 2.0, 1.0, -3.2384, -3.2775, -3.4021, -2.0553, -4.7185, -3.6918, -4.8745, -4.8492, -4.9071, -5.2362, -5.2825, -5.6071, -5.6247, -5.5268, -6.12, -6.2382, -6.2965, -6.3015, -6.3407, -6.431, -6.497, -6.5159, -6.5336, -6.5882, -6.6131, -6.6362, -6.6453, -6.711, -6.6581, -6.7609, -1.7329, -3.1628, -5.6253, -2.0445, -4.2601, -5.1977, -4.5037, -5.2229, -5.2202, -5.7783, -5.7356, -4.7543, -4.8025, -4.6744, -5.7724, -5.3852, -5.6634, -4.2369, -4.7771, -4.7876, -4.7773, -5.011, -2.4583, -5.2589, -5.3143, -5.3689, -5.387, -5.6989, -5.7304, -5.7472, -5.8311, -5.8517, -5.9046, -5.9827, -6.0201, -6.0547, -6.0759, -6.1341, -6.2383, -6.262, -6.2798, -6.3738, -6.3807, -6.3819, -6.4084, -6.4142, -6.4179, -3.6104, -5.3833, -2.724, -5.9849, -5.588, -6.1751, -5.4414, -2.0503, -4.6611, -2.7492, -4.5807, -3.3576, -4.4696, -5.5948, -5.6275, -5.5928, -5.7372, -5.5275, -5.7336, -5.6446, -1.9769, -3.2645, -4.2971, -4.5591, -4.6062, -4.6718, -2.8266, -4.8382, -5.0265, -5.1592, -5.1701, -5.3755, -5.455, -5.4851, -5.7669, -5.7955, -5.815, -3.7458, -5.936, -5.9477, -5.9567, -6.0023, -6.0251, -5.873, -6.1533, -3.0401, -6.2095, -6.2579, -6.2651, -6.2787, -2.728, -4.1322, -2.8641, -6.029, -4.8974, -2.0746, -4.432, -3.6444, -5.6693, -5.4651, -5.5124, -5.1197, -4.9291, -4.9769, -4.3235, -5.5841, -2.6395, -3.6121, -3.6913, -4.3125, -4.3344, -4.5167, -4.8247, -4.9616, -5.1002, -4.8005, -5.4876, -5.4633, -5.5805, -5.6616, -5.6977, -5.7311, -5.7596, -5.8028, -4.1047, -5.8589, -5.9062, -5.964, -5.9904, -6.0656, -6.0988, -6.1167, -6.1583, -6.2962, -4.3919, -6.3619, -3.992, -5.26, -5.0668, -5.1868, -5.7794, -4.8119, -4.414, -4.7864, -3.1862, -5.348, -4.3058, -4.7164, -4.5413, -3.032, -5.0226, -5.2172, -5.3767, -4.7868, -5.3536, -3.1889, -3.2118, -3.386, -2.2203, -4.5293, -4.5302, -4.6261, -5.0924, -5.1044, -5.1654, -5.3985, -5.459, -5.4848, -5.4907, -5.5551, -4.5256, -5.6532, -5.6914, -5.7059, -5.7856, -5.8002, -5.8145, -5.8731, -5.8749, -5.9039, -5.9041, -5.9599, -5.9928, -5.9944, -6.0018, -3.7284, -4.4215, -4.2682, -5.2921, -5.3917, -5.0437, -3.8957, -4.6279, -4.1198, -5.2325, -5.285, -4.9216, -5.3069, -4.9667, -5.1092, -4.8296, -5.1198, -5.0705, -5.3137, -5.387, -2.2209, -2.9428, -3.3961, -4.043, -4.1338, -4.6691, -4.8219, -5.0787, -5.2194, -5.5423, -5.5633, -5.6494, -4.7367, -5.746, -5.7919, -5.8174, -5.585, -6.0263, -6.1367, -6.1417, -6.1529, -6.2055, -6.2073, -6.3314, -6.3892, -6.4449, -6.477, -1.6098, -6.507, -6.511, -5.9264, -5.418, -6.4217, -3.2351, -4.6823, -5.408, -3.4841, -4.6425, -2.9704, -4.0105, -3.1183, -5.5488, -3.4706, -4.5266, -5.5123, -5.4773, -5.6872, -2.6143, -3.788, -3.8167, -4.3931, -4.4884, -4.4279, -4.8938, -5.0591, -5.1083, -5.2801, -5.2901, -5.3394, -5.3891, -5.4193, -5.4772, -5.4868, -5.5053, -5.535, -5.6241, -5.6238, -5.6292, -5.6685, -5.8682, -5.7914, -6.033, -6.1192, -6.1528, -6.1709, -6.241, -6.2436, -3.1024, -4.0385, -5.0547, -5.2504, -5.0041, -4.4228, -4.5392, -5.3574, -4.3668, -4.6921, -3.9549, -4.8287, -5.3272, -4.9017, -4.7985, -5.305, -5.4104], \"loglift\": [30.0, 29.0, 28.0, 27.0, 26.0, 25.0, 24.0, 23.0, 22.0, 21.0, 20.0, 19.0, 18.0, 17.0, 16.0, 15.0, 14.0, 13.0, 12.0, 11.0, 10.0, 9.0, 8.0, 7.0, 6.0, 5.0, 4.0, 3.0, 2.0, 1.0, 1.8642, 1.8642, 1.8642, 1.8642, 1.8636, 1.8636, 1.8635, 1.8634, 1.8634, 1.8631, 1.8631, 1.8625, 1.8625, 1.8617, 1.8613, 1.8609, 1.8607, 1.8607, 1.8605, 1.8601, 1.8598, 1.8598, 1.8597, 1.8594, 1.8593, 1.8592, 1.8591, 1.8588, 1.8587, 1.8585, 1.8211, 1.8238, 1.8479, 1.7742, 1.7471, 1.7806, 1.5652, 1.6032, 1.591, 1.6982, 1.6017, 0.6925, 0.4943, 0.257, 1.2524, 0.4187, 0.8162, 1.8888, 1.8885, 1.8885, 1.8884, 1.8882, 1.8881, 1.8879, 1.8879, 1.8878, 1.8878, 1.8871, 1.8871, 1.8871, 1.8869, 1.8868, 1.8866, 1.8865, 1.8864, 1.8863, 1.8862, 1.886, 1.8857, 1.8856, 1.8855, 1.8851, 1.8851, 1.8851, 1.885, 1.8849, 1.8849, 1.8783, 1.8844, 1.8564, 1.8807, 1.8714, 1.8806, 1.8574, 1.691, 1.7094, 1.4035, 1.4414, 1.0424, 1.3343, 1.7272, 1.7325, 1.6335, 1.6962, 1.4221, 1.6152, 1.0181, 1.9458, 1.9455, 1.9453, 1.9451, 1.9451, 1.945, 1.9449, 1.9448, 1.9447, 1.9445, 1.9445, 1.9442, 1.9441, 1.944, 1.9435, 1.9434, 1.9434, 1.943, 1.943, 1.943, 1.943, 1.9428, 1.9428, 1.9427, 1.9424, 1.9423, 1.9421, 1.942, 1.9419, 1.9419, 1.9309, 1.9361, 1.9179, 1.9386, 1.8687, 1.6274, 1.7556, 1.6525, 1.8899, 1.7819, 1.7647, 1.126, 0.9083, 0.9154, -0.5047, 0.8944, 1.9694, 1.9693, 1.9692, 1.969, 1.969, 1.9689, 1.9686, 1.9684, 1.9683, 1.9681, 1.9677, 1.9676, 1.9676, 1.9674, 1.9673, 1.9672, 1.9672, 1.9671, 1.967, 1.9669, 1.9668, 1.9666, 1.9666, 1.9663, 1.9662, 1.9662, 1.966, 1.9655, 1.9653, 1.9652, 1.956, 1.9644, 1.9581, 1.9589, 1.9596, 1.9049, 1.8707, 1.8791, 1.7451, 1.9011, 1.5316, 1.5921, 1.4093, 0.6701, 1.457, 1.3842, 1.286, -1.2328, 0.9941, 1.9714, 1.9714, 1.9713, 1.971, 1.9708, 1.9708, 1.9705, 1.9703, 1.9703, 1.9701, 1.9699, 1.9698, 1.9697, 1.9697, 1.9696, 1.9694, 1.9694, 1.9693, 1.9693, 1.9691, 1.969, 1.969, 1.9689, 1.9689, 1.9688, 1.9688, 1.9686, 1.9685, 1.9685, 1.9685, 1.9671, 1.9683, 1.9646, 1.9679, 1.9681, 1.9615, 1.9308, 1.9432, 1.8405, 1.8899, 1.8894, 1.7834, 1.8306, 1.5118, 1.5023, 1.1209, 1.2279, 0.9516, 1.5837, 1.4671, 1.9895, 1.9894, 1.9894, 1.9892, 1.9891, 1.9888, 1.9886, 1.9884, 1.9882, 1.9876, 1.9876, 1.9874, 1.9872, 1.9872, 1.9871, 1.987, 1.9868, 1.9864, 1.986, 1.986, 1.9859, 1.9857, 1.9857, 1.9852, 1.9849, 1.9847, 1.9845, 1.9845, 1.9844, 1.9844, 1.9817, 1.9756, 1.9843, 1.9196, 1.9465, 1.9605, 1.8986, 1.7768, 1.4296, 1.4362, 1.0344, 1.7008, 0.2707, 0.9736, 1.4078, 0.8311, 1.4503, 1.9989, 1.9987, 1.9987, 1.9984, 1.9983, 1.9983, 1.998, 1.9978, 1.9977, 1.9975, 1.9975, 1.9974, 1.9973, 1.9973, 1.9972, 1.9971, 1.9971, 1.997, 1.9969, 1.9969, 1.9968, 1.9968, 1.9963, 1.9961, 1.9958, 1.9955, 1.9954, 1.9953, 1.995, 1.995, 1.9873, 1.9905, 1.9929, 1.9824, 1.9666, 1.9482, 1.9193, 1.9682, 1.873, 1.9024, 1.5453, 1.7701, 1.8817, 1.344, 1.0938, 1.6417, 1.843]}, \"token.table\": {\"Topic\": [3, 4, 6, 7, 1, 5, 6, 7, 1, 2, 2, 6, 2, 4, 5, 6, 1, 3, 4, 5, 2, 7, 7, 1, 7, 1, 1, 5, 2, 4, 1, 1, 3, 6, 5, 6, 6, 1, 5, 4, 4, 1, 3, 4, 5, 7, 3, 3, 6, 6, 5, 6, 7, 6, 1, 5, 4, 3, 1, 2, 7, 5, 6, 7, 6, 2, 5, 7, 2, 5, 7, 2, 3, 3, 4, 7, 7, 1, 4, 2, 5, 7, 1, 3, 4, 4, 4, 1, 2, 3, 4, 5, 6, 4, 5, 3, 1, 5, 4, 5, 7, 2, 4, 7, 1, 7, 3, 2, 3, 4, 6, 7, 4, 3, 7, 6, 6, 4, 7, 4, 2, 4, 5, 7, 1, 5, 7, 7, 4, 7, 5, 7, 4, 4, 3, 4, 3, 4, 4, 6, 3, 1, 3, 4, 6, 1, 3, 4, 2, 6, 2, 4, 6, 6, 2, 5, 1, 3, 4, 7, 5, 5, 3, 4, 3, 4, 5, 7, 3, 4, 6, 5, 6, 5, 5, 2, 4, 5, 7, 1, 3, 6, 6, 1, 7, 4, 4, 1, 5, 5, 6, 7, 7, 1, 1, 3, 1, 3, 4, 4, 2, 3, 4, 5, 6, 7, 6, 6, 7, 5, 7, 2, 5, 7, 1, 2, 5, 7, 6, 3, 1, 1, 1, 1, 2, 5, 7, 2, 4, 7, 2, 5, 6, 7, 6, 2, 2, 1, 4, 4, 5, 7, 1, 1, 3, 2, 5, 7, 1, 3, 7, 2, 5, 7, 6, 6, 3, 3, 1, 3, 5, 7, 2, 5, 3, 5, 5, 2, 5, 5, 3, 4, 5, 4, 5, 5, 1, 5, 1, 7, 3, 4, 4, 2, 6, 7, 2, 5, 6, 2, 2, 2, 5, 2, 4, 4, 1, 4, 7, 7, 7, 3, 4, 2, 5, 6, 5, 5, 1, 1, 3, 2, 6, 7, 2, 5, 5, 1, 2, 3, 7, 3, 7, 5, 5, 6, 5, 7, 1, 3, 4, 2, 1, 2, 3, 4, 7, 7, 2, 5, 6, 6, 2, 4, 7, 2, 5, 7, 3, 4, 3, 4, 5, 2, 7, 4, 5, 4, 2, 5, 5, 1, 4, 2, 4, 2, 3, 4, 3, 5, 7, 1, 2, 4, 3, 3, 1, 3, 2, 2, 2, 6, 3, 3, 3, 3, 5, 1, 2, 5, 2, 5, 7, 3, 4, 5, 1, 3, 1, 2, 4, 7, 1, 2, 4, 7, 2, 2, 4, 3, 1, 2, 4, 6, 7, 6, 4, 1, 5, 6, 2, 4, 7, 5, 4, 6, 4, 5, 6, 2, 4, 6, 1, 3, 4, 6, 1, 2, 3, 6, 7, 7, 6, 1, 3, 5, 1, 3, 2, 6, 4, 3, 1, 3, 4, 5, 1, 1, 2, 5, 6, 7, 1, 3, 4, 5, 7, 5, 7, 2, 6, 1, 3, 6, 1, 7, 4, 3, 4, 7, 2, 3, 1, 3, 4, 5, 6, 7, 7, 2, 5, 3, 6, 1, 4, 5, 7, 6, 2, 4, 7, 3, 7, 1, 7, 1, 1, 5, 7, 4, 2, 4, 5, 6, 7, 2], \"Freq\": [0.9934007004835196, 0.0036522084576599985, 0.99592255587923, 0.9977861293304742, 0.889150561477872, 0.0030855427234628293, 0.051425712057713825, 0.05605402614290807, 0.9944246605934779, 0.9952336353433511, 0.9988385523465765, 0.001172460395985417, 0.9963270093233746, 0.009765910213427154, 0.9905423216476114, 0.9928072144675365, 0.9985967347982755, 0.14209900708781611, 0.23244009768669258, 0.6258002630026338, 0.9964182844626472, 0.9994534699538634, 0.9991392919288778, 0.7412032130197727, 0.2581903443138987, 0.9998383907085314, 0.9985006871043404, 0.9993800772626557, 0.9958659541643342, 0.003627926973276263, 0.9952490621488345, 0.9137011794495827, 0.08623411547893355, 0.9981794053356214, 0.012343602632759906, 0.9854309435153324, 0.9935883690457433, 0.9968194161292904, 0.0020468571173086047, 0.9984305950906215, 0.9990033587979587, 0.018796408722944174, 0.3566733167426968, 0.14762057582409815, 0.07197649193907892, 0.40435201203992105, 0.9963134492732414, 0.9972368744975109, 0.9980387688975051, 0.9972277331181151, 0.9984033801525256, 0.007884466908876874, 0.9913403060094524, 0.9968318786746669, 0.9993985154373503, 0.997714126311275, 0.9941407901212904, 0.9977425359969263, 0.7607800059939593, 0.2355889746658031, 0.0022984290211297866, 0.9994462948877574, 0.0005019820667442278, 0.9999524358271511, 0.9988802097788417, 0.6268579828809229, 0.019795515248871246, 0.3523601714299082, 0.2157958632030358, 0.08421301978655055, 0.7000207269757015, 0.9966127841168266, 0.9991982243629598, 0.3541144145328449, 0.6453040862871818, 0.9996886327743626, 0.9978208109215034, 0.9937822150511255, 0.9978630349571547, 0.0019334332672547188, 0.9931402216131738, 0.00451134429026101, 0.9985624856771825, 0.0036492010484949792, 0.9955020460294303, 0.9993106414758314, 0.9959289480883989, 0.23543190645415077, 0.5741013333855227, 0.000419664717387078, 0.18549180508508847, 0.000839329434774156, 0.0037769824564837023, 0.995314343728439, 0.0034740465749683734, 0.9999387520758249, 0.9968116189180983, 0.9971742591795871, 0.018075475874727985, 0.9724606020603656, 0.009941511731100392, 0.0017103182431213572, 0.10775004931664552, 0.8893654864231058, 0.8471322487195173, 0.15199206573331708, 0.9994841843106905, 0.9969911487007873, 0.08542908522700506, 0.9138925396377285, 0.9971652481563936, 0.9988311974306482, 0.9990636608725582, 0.9992399533558163, 0.9968454974594542, 0.9942067901936081, 0.9965558387488407, 0.1430515188794548, 0.8547328253047424, 0.9971252254622305, 0.12939483081153755, 0.37734135018783577, 0.4756525065586129, 0.017349027594843025, 0.9990117599654802, 0.0006546603931621757, 0.9989982655907729, 0.996212368936904, 0.9987788599576064, 0.9974688524101154, 0.9974906527594447, 0.9967599135014572, 0.9953648405574675, 0.9980502962985063, 0.8266073720163956, 0.17308246761297105, 0.9992502507718527, 0.9984731002407324, 0.6853010932978371, 0.3141542537227407, 0.9992154239270581, 0.9997480705054793, 0.9259542707869037, 0.0735930440601691, 0.9973337996104638, 0.0016455367340438105, 0.0005485122446812702, 0.9971952608305492, 0.0001755123014655066, 0.9997180691475256, 0.9970021197624795, 0.9987776378934162, 0.9997097229467766, 0.9994495320169821, 0.9928309893192705, 0.00659688364996193, 0.9601889122224664, 0.0022239465251244154, 0.035397815524896944, 0.002038617648030714, 0.996576390690999, 0.999468031503041, 0.9964836722750974, 0.0033222274682259217, 0.00569101934372168, 0.9888146109716419, 0.00284550967186084, 0.00284550967186084, 0.998974401822288, 0.0008967454235388582, 0.9992565029272765, 0.028089324205990775, 0.9710880654071096, 0.9985527450839438, 0.9973932089255378, 0.9941503541697435, 0.16725485364481374, 0.03716774525440305, 0.7953897484442253, 0.9984565363467913, 0.06752961382745996, 0.9324787260006079, 0.9970104254546331, 0.9997875049760786, 0.00019127367610026374, 0.9992965273978469, 0.9972174531313607, 0.13059129224822733, 0.8679543204302913, 0.0024778209681080936, 0.3620715889647952, 0.6352513506987125, 0.9988185484631594, 0.9972330513002086, 0.9846146303442074, 0.015593444371967085, 0.9977694291265933, 0.8349580278763721, 0.1647943476071787, 0.9997502878625805, 0.008969516793994683, 0.012813595419992403, 0.3869705816837706, 0.005125438167996961, 0.5586727603116688, 0.02690855038198405, 0.9927209816483566, 0.9980796149812708, 0.9983753118615287, 0.9976300345440182, 0.001675281334246882, 0.7592537959113737, 0.2360374495061265, 0.0019669787458843875, 0.5420930247184554, 0.12663065406809065, 0.25752975714971243, 0.07256363323002947, 0.9990309661845633, 0.9964875022814192, 0.9923307328035363, 0.9985361937846143, 0.99561005615672, 0.019430850996762148, 0.002775835856680307, 0.06939589641700768, 0.9076983251344604, 0.9974977498718243, 0.004367013397419722, 0.9942233834792232, 0.8201116713411893, 0.0001066950720537552, 0.17924772105030873, 0.0004801278242418984, 0.9968224895118921, 0.9970924538129681, 0.998951393893344, 0.0011012241559774912, 0.9988103094715844, 0.5709971196308612, 0.4271544409834272, 0.0014578649862915605, 0.9965280070120958, 0.25400950107058634, 0.7458527737903486, 0.9982337825594866, 0.9967290386966566, 0.003015821599687312, 0.012261794376048466, 0.003503369821728133, 0.9826952349947413, 0.0019889361894159276, 0.9964570308973798, 0.9971129756138072, 0.9975394040113214, 0.9967537901038221, 0.9962860640367345, 0.9996504562619899, 0.18352168049512602, 0.0011994881078112812, 0.6033425182290745, 0.2111099069747855, 0.989061755329993, 0.01071738744165627, 0.07686486008281984, 0.922378320993838, 0.9997695661397031, 0.9992914733850237, 0.9961650120819111, 0.9969554785044992, 0.9725132930107596, 0.027488339699946924, 0.9981115408876841, 0.07766167328377156, 0.9203734472140587, 0.9981022045129807, 0.0018000825643271425, 0.9972457406372369, 0.048834036880904874, 0.9507838998782236, 0.7273006363990313, 0.27268003266078356, 0.9998311095848624, 0.029651043039598517, 0.0013477746836181143, 0.9677022228378062, 0.0019150496685933353, 0.04021604304046004, 0.9575248342966677, 0.9958483679388834, 0.9958557827568236, 0.6389345905640759, 0.36070572065341205, 0.9953066482819952, 0.9996158512641313, 0.998950366051945, 0.010888775483092533, 0.0006163457820618415, 0.9884131858331732, 0.9993013306123316, 0.9978415805530484, 0.061689213730190345, 0.9368395847839076, 0.6151635361665361, 8.049771475615495e-05, 0.3846985788196645, 0.9990243692786283, 0.9960855278766669, 0.9983322057471917, 0.9960872953041853, 0.9993889791876145, 0.42871759354275935, 0.5711767698534334, 0.9978783289441185, 0.9994069690004654, 0.9998947920487551, 0.9991863534431923, 0.037859070493593355, 0.0019582277841513804, 0.4406012514340606, 0.519583105394833, 0.9974790185834851, 0.9989272803506439, 0.997795195211731, 0.9955898066978701, 0.004142015080815647, 0.8287339917480253, 0.17050013545938175, 0.2004457959052285, 0.0005261044511948255, 0.7989772932145417, 0.9993428501334166, 0.9988409628244306, 0.4180114428761918, 0.01287712975684951, 0.5051797058456347, 0.06339510034141298, 0.9983759474382676, 0.004651538048742417, 0.0004144934894918986, 0.9948764844448882, 0.999759889638657, 0.0032111987801364556, 0.9890492242820283, 0.006422397560272911, 0.9992803018897634, 0.8769677026796884, 0.12268714363174152, 0.9444657417578781, 0.0534145149580291, 0.8492629701155645, 0.1492428650412289, 0.9965361509455373, 0.99884486639234, 0.9993591965288787, 0.996763297110006, 0.9966734894858956, 0.9989891407664012, 0.9972959741868543, 0.9972972441818603, 0.9992243778539347, 0.7681728338198898, 0.22947947947024555, 0.9950715361533666, 0.9985498208568409, 0.9692602735481225, 0.013098111804704358, 0.01684042946319132, 0.9966351487021773, 0.9989842585387055, 0.9985255881322359, 0.0019388112110415954, 0.011148164463489174, 0.9863702036174117, 0.9991597894356669, 0.9966091119874612, 0.002618286599812841, 0.997193153585862, 0.9969983988157112, 0.9971056554430856, 0.08675610230108655, 0.9130046956447679, 0.996898380947288, 0.9973343789340419, 0.9984784650812415, 0.9961838066348937, 0.9989859107372852, 0.9941696482095821, 0.039490242352422766, 0.9602138276344536, 0.9985224325715226, 0.9985876829977822, 0.9981979838548838, 0.3493403866230332, 0.018950068142287176, 0.6311196607387817, 0.9975082524437352, 0.9951386811924018, 0.04199672843824523, 0.02826702875651121, 0.00646103514434542, 0.9231203962483518, 0.05973210719226232, 0.004072643672199704, 0.906163217064434, 0.02986605359613116, 0.998211891445522, 0.9962704679569114, 0.9974373217616468, 0.9990896979862312, 0.0015924624076055507, 0.15446885353773843, 0.24842413558646592, 0.5828412411836316, 0.012739699260844405, 0.9995499696477289, 0.9948940124788789, 0.9997149732873617, 0.19101853925371637, 0.8083345502565802, 0.9821713624028587, 0.008789005480115067, 0.0065917541100863, 0.9996837290880165, 0.0021061604547115732, 0.9972669753059299, 0.2476243501985178, 0.0017814701453130778, 0.7499989311768057, 0.774470583389152, 0.03828843333609291, 0.18622101668008822, 0.3505421091682135, 0.0008248049627487377, 0.5988084029555836, 0.049488297764924256, 0.003988792464718897, 0.9932093237150054, 0.9977844346538318, 0.11811178430219475, 0.8812956213317609, 0.9984135873054284, 0.9969914959882706, 0.7698001679607126, 0.005831819454247823, 0.2239418670431164, 0.9194221406697936, 0.08012689261376339, 0.8554863561062019, 0.14324422706894543, 0.9961592104679918, 0.9976606439454708, 0.00013355487896473238, 0.9852343421228308, 0.014423926928191097, 0.00013355487896473238, 0.9931454461719978, 0.017901261490668008, 0.9675323193266565, 0.0001234569757977104, 0.005061736007706126, 0.00938273016062599, 0.9576338997527242, 4.423659921252421e-05, 0.04065343467630975, 0.0003538927937001937, 0.001238624777950678, 0.9986304128028982, 0.9975075949752993, 0.9987713341670378, 0.9945070086136788, 0.0005466888171705321, 0.9906001367130042, 0.008747021074728514, 0.02883110545832688, 0.9687251433997831, 0.997084988396251, 0.008718341842671031, 0.9909848561169405, 0.9991439101436944, 0.8241862036505598, 0.17340021427453337, 0.3097679315116039, 0.0026425700318525452, 0.02701293810338157, 0.043749214971781025, 0.5749057913741425, 0.0416938827247846, 0.9991920401350828, 0.8357221829666645, 0.16418612798106152, 0.9977430018227791, 0.9958115956934586, 0.9989178518875477, 0.5571467490219968, 0.08012478330416677, 0.36242489192233573, 0.9999604549504886, 0.850300562360668, 0.1474620344634492, 0.9991209378813386, 0.9987393555749854, 0.9991004367977965, 0.9951487261973045, 0.9975161936718148, 0.9933572547907599, 0.3194000787773049, 0.6788817360678402, 0.0012525493285384505, 0.9989230120218604, 0.9988233665673993, 0.9330087369773924, 0.06409983689157657, 0.9911139853817055, 0.0034413680047975883, 0.9991876071964542], \"Term\": [\"air\", \"air\", \"alat_kesehatan\", \"alokasi\", \"anggaran\", \"anggaran\", \"anggaran\", \"anggaran\", \"anggota_dprd\", \"aplikasi\", \"aset\", \"aset\", \"aset_berwujud\", \"badan\", \"badan\", \"badan_layanan\", \"bahan_bakar\", \"bangunan\", \"bangunan\", \"bangunan\", \"bangunan_perdesaan\", \"bantuan\", \"bantuan_operasional\", \"bantuan_sosial\", \"bantuan_sosial\", \"barang\", \"barang_diserahkan\", \"barang_milik\", \"barat\", \"barat\", \"bbm\", \"belanja\", \"belanja\", \"bendahara\", \"bendahara_pengeluaran\", \"bendahara_pengeluaran\", \"bengkulu\", \"berlaku\", \"berlaku\", \"berlarut_larut\", \"berpotensi\", \"biaya\", \"biaya\", \"biaya\", \"biaya\", \"biaya\", \"biaya_langsung\", \"bina_marga\", \"blud\", \"blud_rsud\", \"bmd\", \"bos\", \"bos\", \"bpjs\", \"bukti\", \"bupati\", \"cermat\", \"cipta_karya\", \"covid\", \"covid\", \"covid\", \"daerah\", \"daerah\", \"dana\", \"dana_kapitasi\", \"dasar\", \"dasar\", \"dasar\", \"data\", \"data\", \"data\", \"dd_add\", \"delapan\", \"denda_keterlambatan\", \"denda_keterlambatan\", \"desa\", \"desa_alokasi\", \"dianggarkan\", \"dicairkan\", \"didukung\", \"didukung\", \"didukung\", \"didukung_bukti\", \"dikenakan\", \"dikenakan\", \"dikenakan_denda\", \"dikenakan_sanksi\", \"dilaksanakan\", \"dilaksanakan\", \"dilaksanakan\", \"dilaksanakan\", \"dilaksanakan\", \"dilaksanakan\", \"dimanfaatkan\", \"dimanfaatkan\", \"dinas\", \"diserahkan_masyarakat\", \"disetor_kas\", \"ditetapkan\", \"ditetapkan\", \"ditetapkan\", \"dokumen\", \"dokumen\", \"dokumen\", \"dprd\", \"dprd\", \"enam\", \"evaluasi\", \"fisik\", \"fisik\", \"fktp\", \"gaji_tunjangan\", \"gedung\", \"gedung_bangunan\", \"guru\", \"guru_kepala\", \"hak_tanah\", \"harga\", \"harga\", \"harga_satuan\", \"hasil\", \"hasil\", \"hasil\", \"hasil\", \"hibah\", \"hibah\", \"honorarium\", \"hukum\", \"infrastruktur\", \"insentif\", \"insentif_pemungutan\", \"investasi\", \"item\", \"jakarta\", \"jalan\", \"jalan\", \"jalan_irigasi\", \"jalan_jembatan\", \"jaminan\", \"jaminan\", \"jaringan\", \"jasa\", \"jasa_konsultansi\", \"jasa_konsultansi\", \"jkn\", \"juta\", \"juta\", \"juta\", \"kabupaten\", \"kabupaten\", \"kabupaten_bolaang\", \"kantor\", \"kas\", \"kas_bendahara\", \"kebijakan_akuntansi\", \"kebijakan_akuntansi\", \"kegiatan\", \"kegiatan\", \"kegiatan\", \"kegiatan\", \"kekayaan_daerah\", \"kekurangan\", \"kekurangan_volume\", \"kekurangan_volume\", \"kelebihan\", \"kelebihan\", \"kelebihan\", \"kelebihan\", \"kelebihan_pembayaran\", \"kelebihan_pembayaran\", \"kelemahan\", \"kelemahan_pengendalian\", \"kelemahan_pengendalian\", \"kendaraan_bermotor\", \"kepala\", \"kepala_sekolah\", \"kerja\", \"kerja\", \"kerja\", \"kesalahan_penganggaran\", \"kesehatan\", \"kesehatan\", \"kesehatan_nasional\", \"ketentuan\", \"ketentuan\", \"keterlambatan\", \"keterlambatan_penyelesaian\", \"ketiga\", \"ketiga\", \"keuangan\", \"keuangan\", \"keuangan\", \"khusus\", \"kinerja\", \"kondisi\", \"kondisi\", \"kondisi_senyatanya\", \"konstruksi\", \"konstruksi\", \"kontrak\", \"kota\", \"kota\", \"kota\", \"kota\", \"kota\", \"kota\", \"kota_bitung\", \"kpu\", \"kredit\", \"laporan\", \"laporan\", \"laporan_keuangan\", \"laporan_keuangan\", \"laporan_keuangan\", \"lengkap\", \"lengkap\", \"lengkap\", \"lengkap\", \"lingkungan\", \"lingkungan_hidup\", \"makan_minum\", \"masyarakat\", \"masyarakat_ketiga\", \"mekanisme\", \"mekanisme\", \"mekanisme\", \"mekanisme\", \"melaksanakan\", \"melebihi\", \"melebihi\", \"memadai\", \"memadai\", \"memadai\", \"memadai\", \"memenuhi_kebutuhan\", \"mendukung\", \"mendukung_pelayanan\", \"miliar\", \"miliar\", \"minimal\", \"minimal\", \"minimal\", \"minyak\", \"modal\", \"modal\", \"monitoring_evaluasi\", \"negara\", \"negara\", \"negeri\", \"negeri\", \"negeri\", \"nomor\", \"nomor\", \"non\", \"non_kapitasi\", \"obat\", \"olahraga\", \"opd\", \"operasional\", \"operasional\", \"operasional\", \"operasional\", \"optimal\", \"optimal\", \"organisasi_perangkat\", \"organisasi_perangkat\", \"pajak\", \"pajak_bumi\", \"pajak_reklame\", \"pajak_restoran\", \"paket\", \"paket\", \"parkir\", \"pasar\", \"pasar\", \"pbb\", \"pedoman\", \"pedoman\", \"pegawai\", \"pegawai\", \"pekerjaan\", \"pekerjaan\", \"pelaksanaan\", \"pelaporan\", \"pelaporan\", \"pelaporan\", \"pelayanan\", \"pelayanan\", \"pelayanan\", \"pelayanan_perizinan\", \"pelayanan_vaksinasi\", \"pemanfaatan\", \"pemanfaatan\", \"pemanfaatan_dak\", \"pembangunan\", \"pembangunan_gedung\", \"pembayaran\", \"pembayaran\", \"pembayaran\", \"pemberian\", \"pembiayaan\", \"pemeliharaan\", \"pemeliharaan\", \"pemerintah\", \"pemerintah\", \"pemerintah\", \"pemungutan\", \"pemungutan_pajak\", \"penanganan_covid\", \"penanganan_pandemi\", \"penataan_ruang\", \"penatausahaan\", \"penatausahaan\", \"pencairan\", \"pencatatan\", \"pendapatan\", \"pendapatan_asli\", \"pendidikan\", \"pendidikan\", \"pendidikan\", \"pendidikan\", \"pendidikan_kebudayaan\", \"penerima\", \"penerima_hibah\", \"penerimaan\", \"penerimaan\", \"penetapan\", \"penetapan\", \"pengadaan\", \"pengadaan\", \"pengadaan\", \"pengamanan\", \"penganggaran\", \"pengawasan\", \"pengawasan\", \"pengawasan\", \"pengawasan\", \"pengelola\", \"pengelolaan\", \"pengelolaan\", \"pengelolaan\", \"pengeluaran\", \"pengembangan\", \"pengembangan\", \"pengembangan\", \"pengendalian\", \"penggunaan\", \"penggunaan\", \"peningkatan\", \"peningkatan\", \"peningkatan_jalan\", \"peningkatan_jalan\", \"penjualan\", \"penyajian\", \"penyaluran\", \"penyedia\", \"penyediaan\", \"penyelesaian\", \"penyerahan\", \"penyertaan_modal\", \"penyetoran\", \"penyusunan\", \"penyusunan\", \"penyusunan_laporan\", \"peralatan\", \"peralatan_mesin\", \"peralatan_mesin\", \"peralatan_mesin\", \"perangkat_daerah\", \"peraturan\", \"peraturan_menteri\", \"perencanaan\", \"perencanaan\", \"perencanaan\", \"perhubungan\", \"perindustrian_perdagangan\", \"perjalanan\", \"perjalanan\", \"perkotaan\", \"perkotaan_pbb\", \"persediaan\", \"persediaan\", \"personil\", \"pertanian\", \"perumahan_kawasan\", \"perumahan_rakyat\", \"perusahaan\", \"pimpinan_anggota\", \"piutang\", \"piutang\", \"piutang_pbb\", \"pnbp\", \"pns\", \"potensi\", \"potensi\", \"potensi\", \"pph_pasal\", \"produksi\", \"program\", \"program\", \"program\", \"program\", \"proses\", \"proses\", \"proses\", \"proses\", \"provinsi_kalimantan\", \"provinsi_sulawesi\", \"proyek\", \"pupr\", \"pusat\", \"pusat\", \"pusat\", \"pusat\", \"pusat\", \"puskesmas\", \"putus_kontrak\", \"realisasi\", \"rekening\", \"rekening\", \"rencana\", \"rencana\", \"rencana\", \"retribusi\", \"rsud\", \"rsud\", \"rumah_sakit\", \"rumah_sakit\", \"rumah_sakit\", \"sarana_prasarana\", \"sarana_prasarana\", \"sarana_prasarana\", \"satker\", \"satker\", \"satker\", \"satker\", \"satuan_pendidikan\", \"satuan_pendidikan\", \"sebesarrp\", \"sekolah\", \"sekolah\", \"sekolah_bos\", \"sekolah_pengawas\", \"sekretariat\", \"sekretariat\", \"sekretariat\", \"sekretariat_dprd\", \"sekretariat_dprd\", \"selatan\", \"selatan\", \"selesai\", \"sembilan\", \"senilai\", \"senilai\", \"senilai\", \"senilai\", \"senyatanya\", \"sepenuhnya\", \"sepenuhnya\", \"sepenuhnya\", \"sepenuhnya\", \"sepenuhnya\", \"sesuai\", \"sesuai\", \"sesuai\", \"sesuai\", \"sesuai\", \"sewa\", \"sipil\", \"sistem_informasi\", \"sistem_pengendalian\", \"skpd\", \"skpd\", \"skpd\", \"sosial\", \"sosial\", \"spesifikasi\", \"spesifikasi_kontrak\", \"spesifikasi_kontrak\", \"standar\", \"sumber_daya\", \"sumber_daya\", \"ta\", \"ta\", \"ta\", \"ta\", \"ta\", \"ta\", \"tambahan_penghasilan\", \"tanah\", \"tanah\", \"tata_ruang\", \"tenaga\", \"terduga\", \"terlambat\", \"terlambat\", \"terlambat\", \"tertib\", \"timur\", \"timur\", \"transfer\", \"tujuh\", \"tunjangan\", \"tunjangan_perumahan\", \"tunjangan_profesi\", \"tunjangan_transportasi\", \"uang\", \"uang\", \"uang\", \"uang_muka\", \"upaya\", \"usd\", \"usd\", \"utang\", \"utang\", \"utara\"]}, \"R\": 30, \"lambda.step\": 0.01, \"plot.opts\": {\"xlab\": \"PC1\", \"ylab\": \"PC2\"}, \"topic.order\": [7, 1, 4, 6, 5, 3, 2]};\n",
       "\n",
       "function LDAvis_load_lib(url, callback){\n",
       "  var s = document.createElement('script');\n",
       "  s.src = url;\n",
       "  s.async = true;\n",
       "  s.onreadystatechange = s.onload = callback;\n",
       "  s.onerror = function(){console.warn(\"failed to load library \" + url);};\n",
       "  document.getElementsByTagName(\"head\")[0].appendChild(s);\n",
       "}\n",
       "\n",
       "if(typeof(LDAvis) !== \"undefined\"){\n",
       "   // already loaded: just create the visualization\n",
       "   !function(LDAvis){\n",
       "       new LDAvis(\"#\" + \"ldavis_el430021402727138486402115117491\", ldavis_el430021402727138486402115117491_data);\n",
       "   }(LDAvis);\n",
       "}else if(typeof define === \"function\" && define.amd){\n",
       "   // require.js is available: use it to load d3/LDAvis\n",
       "   require.config({paths: {d3: \"https://d3js.org/d3.v5\"}});\n",
       "   require([\"d3\"], function(d3){\n",
       "      window.d3 = d3;\n",
       "      LDAvis_load_lib(\"https://cdn.jsdelivr.net/gh/bmabey/pyLDAvis@3.3.1/pyLDAvis/js/ldavis.v3.0.0.js\", function(){\n",
       "        new LDAvis(\"#\" + \"ldavis_el430021402727138486402115117491\", ldavis_el430021402727138486402115117491_data);\n",
       "      });\n",
       "    });\n",
       "}else{\n",
       "    // require.js not available: dynamically load d3 & LDAvis\n",
       "    LDAvis_load_lib(\"https://d3js.org/d3.v5.js\", function(){\n",
       "         LDAvis_load_lib(\"https://cdn.jsdelivr.net/gh/bmabey/pyLDAvis@3.3.1/pyLDAvis/js/ldavis.v3.0.0.js\", function(){\n",
       "                 new LDAvis(\"#\" + \"ldavis_el430021402727138486402115117491\", ldavis_el430021402727138486402115117491_data);\n",
       "            })\n",
       "         });\n",
       "}\n",
       "</script>"
      ],
      "text/plain": [
       "PreparedData(topic_coordinates=              x         y  topics  cluster       Freq\n",
       "topic                                                \n",
       "6     -0.135432 -0.049245       1        1  15.498548\n",
       "0      0.287896 -0.075073       2        1  15.117495\n",
       "3     -0.233772 -0.199099       3        1  14.286751\n",
       "5     -0.186846 -0.081089       4        1  13.951661\n",
       "4     -0.020673  0.292051       5        1  13.924126\n",
       "2      0.290572 -0.138607       6        1  13.674719\n",
       "1     -0.001745  0.251062       7        1  13.546701, topic_info=            Term          Freq         Total Category  logprob  loglift\n",
       "42   pengelolaan  21713.000000  21713.000000  Default  30.0000  30.0000\n",
       "7         sesuai  22605.000000  22605.000000  Default  29.0000  29.0000\n",
       "4          dinas  15634.000000  15634.000000  Default  28.0000  28.0000\n",
       "5      ketentuan  15684.000000  15684.000000  Default  27.0000  27.0000\n",
       "3        belanja  17348.000000  17348.000000  Default  26.0000  26.0000\n",
       "..           ...           ...           ...      ...      ...      ...\n",
       "149      dokumen    519.963469    584.686507   Topic7  -5.3272   1.8817\n",
       "283   pendidikan    795.723065   1531.997464   Topic7  -4.9017   1.3440\n",
       "399        biaya    882.207746   2181.267741   Topic7  -4.7985   1.0938\n",
       "509         data    531.627659    759.977497   Topic7  -5.3050   1.6417\n",
       "499        harga    478.462755    559.239081   Topic7  -5.4104   1.8430\n",
       "\n",
       "[366 rows x 6 columns], token_table=      Topic      Freq            Term\n",
       "term                                 \n",
       "1815      3  0.993401             air\n",
       "1815      4  0.003652             air\n",
       "610       6  0.995923  alat_kesehatan\n",
       "888       7  0.997786         alokasi\n",
       "205       1  0.889151        anggaran\n",
       "...     ...       ...             ...\n",
       "2825      4  0.933009             usd\n",
       "2825      5  0.064100             usd\n",
       "383       6  0.991114           utang\n",
       "383       7  0.003441           utang\n",
       "2273      2  0.999188           utara\n",
       "\n",
       "[516 rows x 3 columns], R=30, lambda_step=0.01, plot_opts={'xlab': 'PC1', 'ylab': 'PC2'}, topic_order=[7, 1, 4, 6, 5, 3, 2])"
      ]
     },
     "execution_count": 47,
     "metadata": {},
     "output_type": "execute_result"
    }
   ],
   "source": [
    "# Visualise model\n",
    "\n",
    "pyLDAvis.enable_notebook()\n",
    "\n",
    "LDAvis = pyLDAvis.gensim_models.prepare(best_lda_model, corpus, id2word)\n",
    "\n",
    "LDAvis"
   ]
  },
  {
   "cell_type": "code",
   "execution_count": 48,
   "metadata": {},
   "outputs": [],
   "source": [
    "# Annotate each sample of data with a topic\n",
    "\n",
    "def get_topic(text, dictionary, lda_model):\n",
    "    bow = dictionary.doc2bow(text.split())\n",
    "    topic = lda_model.get_document_topics(bow)\n",
    "\n",
    "    return max(topic, key=itemgetter(1))[0]\n",
    "\n",
    "df[\"topic\"] = df[\"clean\"].apply(lambda x: get_topic(x, id2word, best_lda_model))"
   ]
  },
  {
   "cell_type": "code",
   "execution_count": 60,
   "metadata": {},
   "outputs": [
    {
     "data": {
      "application/vnd.plotly.v1+json": {
       "config": {
        "plotlyServerURL": "https://plot.ly"
       },
       "data": [
        {
         "domain": {
          "x": [
           0,
           1
          ],
          "y": [
           0,
           1
          ]
         },
         "hovertemplate": "topic=%{label}<br>value=%{value}<extra></extra>",
         "labels": [
          0,
          1,
          2,
          3,
          4,
          5,
          6
         ],
         "legendgroup": "",
         "name": "",
         "showlegend": true,
         "type": "pie",
         "values": [
          15254,
          16224,
          16460,
          8937,
          14173,
          14074,
          15108
         ]
        }
       ],
       "layout": {
        "legend": {
         "tracegroupgap": 0
        },
        "template": {
         "data": {
          "bar": [
           {
            "error_x": {
             "color": "#2a3f5f"
            },
            "error_y": {
             "color": "#2a3f5f"
            },
            "marker": {
             "line": {
              "color": "#E5ECF6",
              "width": 0.5
             },
             "pattern": {
              "fillmode": "overlay",
              "size": 10,
              "solidity": 0.2
             }
            },
            "type": "bar"
           }
          ],
          "barpolar": [
           {
            "marker": {
             "line": {
              "color": "#E5ECF6",
              "width": 0.5
             },
             "pattern": {
              "fillmode": "overlay",
              "size": 10,
              "solidity": 0.2
             }
            },
            "type": "barpolar"
           }
          ],
          "carpet": [
           {
            "aaxis": {
             "endlinecolor": "#2a3f5f",
             "gridcolor": "white",
             "linecolor": "white",
             "minorgridcolor": "white",
             "startlinecolor": "#2a3f5f"
            },
            "baxis": {
             "endlinecolor": "#2a3f5f",
             "gridcolor": "white",
             "linecolor": "white",
             "minorgridcolor": "white",
             "startlinecolor": "#2a3f5f"
            },
            "type": "carpet"
           }
          ],
          "choropleth": [
           {
            "colorbar": {
             "outlinewidth": 0,
             "ticks": ""
            },
            "type": "choropleth"
           }
          ],
          "contour": [
           {
            "colorbar": {
             "outlinewidth": 0,
             "ticks": ""
            },
            "colorscale": [
             [
              0,
              "#0d0887"
             ],
             [
              0.1111111111111111,
              "#46039f"
             ],
             [
              0.2222222222222222,
              "#7201a8"
             ],
             [
              0.3333333333333333,
              "#9c179e"
             ],
             [
              0.4444444444444444,
              "#bd3786"
             ],
             [
              0.5555555555555556,
              "#d8576b"
             ],
             [
              0.6666666666666666,
              "#ed7953"
             ],
             [
              0.7777777777777778,
              "#fb9f3a"
             ],
             [
              0.8888888888888888,
              "#fdca26"
             ],
             [
              1,
              "#f0f921"
             ]
            ],
            "type": "contour"
           }
          ],
          "contourcarpet": [
           {
            "colorbar": {
             "outlinewidth": 0,
             "ticks": ""
            },
            "type": "contourcarpet"
           }
          ],
          "heatmap": [
           {
            "colorbar": {
             "outlinewidth": 0,
             "ticks": ""
            },
            "colorscale": [
             [
              0,
              "#0d0887"
             ],
             [
              0.1111111111111111,
              "#46039f"
             ],
             [
              0.2222222222222222,
              "#7201a8"
             ],
             [
              0.3333333333333333,
              "#9c179e"
             ],
             [
              0.4444444444444444,
              "#bd3786"
             ],
             [
              0.5555555555555556,
              "#d8576b"
             ],
             [
              0.6666666666666666,
              "#ed7953"
             ],
             [
              0.7777777777777778,
              "#fb9f3a"
             ],
             [
              0.8888888888888888,
              "#fdca26"
             ],
             [
              1,
              "#f0f921"
             ]
            ],
            "type": "heatmap"
           }
          ],
          "heatmapgl": [
           {
            "colorbar": {
             "outlinewidth": 0,
             "ticks": ""
            },
            "colorscale": [
             [
              0,
              "#0d0887"
             ],
             [
              0.1111111111111111,
              "#46039f"
             ],
             [
              0.2222222222222222,
              "#7201a8"
             ],
             [
              0.3333333333333333,
              "#9c179e"
             ],
             [
              0.4444444444444444,
              "#bd3786"
             ],
             [
              0.5555555555555556,
              "#d8576b"
             ],
             [
              0.6666666666666666,
              "#ed7953"
             ],
             [
              0.7777777777777778,
              "#fb9f3a"
             ],
             [
              0.8888888888888888,
              "#fdca26"
             ],
             [
              1,
              "#f0f921"
             ]
            ],
            "type": "heatmapgl"
           }
          ],
          "histogram": [
           {
            "marker": {
             "pattern": {
              "fillmode": "overlay",
              "size": 10,
              "solidity": 0.2
             }
            },
            "type": "histogram"
           }
          ],
          "histogram2d": [
           {
            "colorbar": {
             "outlinewidth": 0,
             "ticks": ""
            },
            "colorscale": [
             [
              0,
              "#0d0887"
             ],
             [
              0.1111111111111111,
              "#46039f"
             ],
             [
              0.2222222222222222,
              "#7201a8"
             ],
             [
              0.3333333333333333,
              "#9c179e"
             ],
             [
              0.4444444444444444,
              "#bd3786"
             ],
             [
              0.5555555555555556,
              "#d8576b"
             ],
             [
              0.6666666666666666,
              "#ed7953"
             ],
             [
              0.7777777777777778,
              "#fb9f3a"
             ],
             [
              0.8888888888888888,
              "#fdca26"
             ],
             [
              1,
              "#f0f921"
             ]
            ],
            "type": "histogram2d"
           }
          ],
          "histogram2dcontour": [
           {
            "colorbar": {
             "outlinewidth": 0,
             "ticks": ""
            },
            "colorscale": [
             [
              0,
              "#0d0887"
             ],
             [
              0.1111111111111111,
              "#46039f"
             ],
             [
              0.2222222222222222,
              "#7201a8"
             ],
             [
              0.3333333333333333,
              "#9c179e"
             ],
             [
              0.4444444444444444,
              "#bd3786"
             ],
             [
              0.5555555555555556,
              "#d8576b"
             ],
             [
              0.6666666666666666,
              "#ed7953"
             ],
             [
              0.7777777777777778,
              "#fb9f3a"
             ],
             [
              0.8888888888888888,
              "#fdca26"
             ],
             [
              1,
              "#f0f921"
             ]
            ],
            "type": "histogram2dcontour"
           }
          ],
          "mesh3d": [
           {
            "colorbar": {
             "outlinewidth": 0,
             "ticks": ""
            },
            "type": "mesh3d"
           }
          ],
          "parcoords": [
           {
            "line": {
             "colorbar": {
              "outlinewidth": 0,
              "ticks": ""
             }
            },
            "type": "parcoords"
           }
          ],
          "pie": [
           {
            "automargin": true,
            "type": "pie"
           }
          ],
          "scatter": [
           {
            "marker": {
             "colorbar": {
              "outlinewidth": 0,
              "ticks": ""
             }
            },
            "type": "scatter"
           }
          ],
          "scatter3d": [
           {
            "line": {
             "colorbar": {
              "outlinewidth": 0,
              "ticks": ""
             }
            },
            "marker": {
             "colorbar": {
              "outlinewidth": 0,
              "ticks": ""
             }
            },
            "type": "scatter3d"
           }
          ],
          "scattercarpet": [
           {
            "marker": {
             "colorbar": {
              "outlinewidth": 0,
              "ticks": ""
             }
            },
            "type": "scattercarpet"
           }
          ],
          "scattergeo": [
           {
            "marker": {
             "colorbar": {
              "outlinewidth": 0,
              "ticks": ""
             }
            },
            "type": "scattergeo"
           }
          ],
          "scattergl": [
           {
            "marker": {
             "colorbar": {
              "outlinewidth": 0,
              "ticks": ""
             }
            },
            "type": "scattergl"
           }
          ],
          "scattermapbox": [
           {
            "marker": {
             "colorbar": {
              "outlinewidth": 0,
              "ticks": ""
             }
            },
            "type": "scattermapbox"
           }
          ],
          "scatterpolar": [
           {
            "marker": {
             "colorbar": {
              "outlinewidth": 0,
              "ticks": ""
             }
            },
            "type": "scatterpolar"
           }
          ],
          "scatterpolargl": [
           {
            "marker": {
             "colorbar": {
              "outlinewidth": 0,
              "ticks": ""
             }
            },
            "type": "scatterpolargl"
           }
          ],
          "scatterternary": [
           {
            "marker": {
             "colorbar": {
              "outlinewidth": 0,
              "ticks": ""
             }
            },
            "type": "scatterternary"
           }
          ],
          "surface": [
           {
            "colorbar": {
             "outlinewidth": 0,
             "ticks": ""
            },
            "colorscale": [
             [
              0,
              "#0d0887"
             ],
             [
              0.1111111111111111,
              "#46039f"
             ],
             [
              0.2222222222222222,
              "#7201a8"
             ],
             [
              0.3333333333333333,
              "#9c179e"
             ],
             [
              0.4444444444444444,
              "#bd3786"
             ],
             [
              0.5555555555555556,
              "#d8576b"
             ],
             [
              0.6666666666666666,
              "#ed7953"
             ],
             [
              0.7777777777777778,
              "#fb9f3a"
             ],
             [
              0.8888888888888888,
              "#fdca26"
             ],
             [
              1,
              "#f0f921"
             ]
            ],
            "type": "surface"
           }
          ],
          "table": [
           {
            "cells": {
             "fill": {
              "color": "#EBF0F8"
             },
             "line": {
              "color": "white"
             }
            },
            "header": {
             "fill": {
              "color": "#C8D4E3"
             },
             "line": {
              "color": "white"
             }
            },
            "type": "table"
           }
          ]
         },
         "layout": {
          "annotationdefaults": {
           "arrowcolor": "#2a3f5f",
           "arrowhead": 0,
           "arrowwidth": 1
          },
          "autotypenumbers": "strict",
          "coloraxis": {
           "colorbar": {
            "outlinewidth": 0,
            "ticks": ""
           }
          },
          "colorscale": {
           "diverging": [
            [
             0,
             "#8e0152"
            ],
            [
             0.1,
             "#c51b7d"
            ],
            [
             0.2,
             "#de77ae"
            ],
            [
             0.3,
             "#f1b6da"
            ],
            [
             0.4,
             "#fde0ef"
            ],
            [
             0.5,
             "#f7f7f7"
            ],
            [
             0.6,
             "#e6f5d0"
            ],
            [
             0.7,
             "#b8e186"
            ],
            [
             0.8,
             "#7fbc41"
            ],
            [
             0.9,
             "#4d9221"
            ],
            [
             1,
             "#276419"
            ]
           ],
           "sequential": [
            [
             0,
             "#0d0887"
            ],
            [
             0.1111111111111111,
             "#46039f"
            ],
            [
             0.2222222222222222,
             "#7201a8"
            ],
            [
             0.3333333333333333,
             "#9c179e"
            ],
            [
             0.4444444444444444,
             "#bd3786"
            ],
            [
             0.5555555555555556,
             "#d8576b"
            ],
            [
             0.6666666666666666,
             "#ed7953"
            ],
            [
             0.7777777777777778,
             "#fb9f3a"
            ],
            [
             0.8888888888888888,
             "#fdca26"
            ],
            [
             1,
             "#f0f921"
            ]
           ],
           "sequentialminus": [
            [
             0,
             "#0d0887"
            ],
            [
             0.1111111111111111,
             "#46039f"
            ],
            [
             0.2222222222222222,
             "#7201a8"
            ],
            [
             0.3333333333333333,
             "#9c179e"
            ],
            [
             0.4444444444444444,
             "#bd3786"
            ],
            [
             0.5555555555555556,
             "#d8576b"
            ],
            [
             0.6666666666666666,
             "#ed7953"
            ],
            [
             0.7777777777777778,
             "#fb9f3a"
            ],
            [
             0.8888888888888888,
             "#fdca26"
            ],
            [
             1,
             "#f0f921"
            ]
           ]
          },
          "colorway": [
           "#636efa",
           "#EF553B",
           "#00cc96",
           "#ab63fa",
           "#FFA15A",
           "#19d3f3",
           "#FF6692",
           "#B6E880",
           "#FF97FF",
           "#FECB52"
          ],
          "font": {
           "color": "#2a3f5f"
          },
          "geo": {
           "bgcolor": "white",
           "lakecolor": "white",
           "landcolor": "#E5ECF6",
           "showlakes": true,
           "showland": true,
           "subunitcolor": "white"
          },
          "hoverlabel": {
           "align": "left"
          },
          "hovermode": "closest",
          "mapbox": {
           "style": "light"
          },
          "paper_bgcolor": "white",
          "plot_bgcolor": "#E5ECF6",
          "polar": {
           "angularaxis": {
            "gridcolor": "white",
            "linecolor": "white",
            "ticks": ""
           },
           "bgcolor": "#E5ECF6",
           "radialaxis": {
            "gridcolor": "white",
            "linecolor": "white",
            "ticks": ""
           }
          },
          "scene": {
           "xaxis": {
            "backgroundcolor": "#E5ECF6",
            "gridcolor": "white",
            "gridwidth": 2,
            "linecolor": "white",
            "showbackground": true,
            "ticks": "",
            "zerolinecolor": "white"
           },
           "yaxis": {
            "backgroundcolor": "#E5ECF6",
            "gridcolor": "white",
            "gridwidth": 2,
            "linecolor": "white",
            "showbackground": true,
            "ticks": "",
            "zerolinecolor": "white"
           },
           "zaxis": {
            "backgroundcolor": "#E5ECF6",
            "gridcolor": "white",
            "gridwidth": 2,
            "linecolor": "white",
            "showbackground": true,
            "ticks": "",
            "zerolinecolor": "white"
           }
          },
          "shapedefaults": {
           "line": {
            "color": "#2a3f5f"
           }
          },
          "ternary": {
           "aaxis": {
            "gridcolor": "white",
            "linecolor": "white",
            "ticks": ""
           },
           "baxis": {
            "gridcolor": "white",
            "linecolor": "white",
            "ticks": ""
           },
           "bgcolor": "#E5ECF6",
           "caxis": {
            "gridcolor": "white",
            "linecolor": "white",
            "ticks": ""
           }
          },
          "title": {
           "x": 0.05
          },
          "xaxis": {
           "automargin": true,
           "gridcolor": "white",
           "linecolor": "white",
           "ticks": "",
           "title": {
            "standoff": 15
           },
           "zerolinecolor": "white",
           "zerolinewidth": 2
          },
          "yaxis": {
           "automargin": true,
           "gridcolor": "white",
           "linecolor": "white",
           "ticks": "",
           "title": {
            "standoff": 15
           },
           "zerolinecolor": "white",
           "zerolinewidth": 2
          }
         }
        },
        "title": {
         "text": "Banyak Topik"
        }
       }
      }
     },
     "metadata": {},
     "output_type": "display_data"
    }
   ],
   "source": [
    "# Banyak topik\n",
    "\n",
    "df4 = df.groupby([\"topic\"]).size().reset_index(name=\"value\")\n",
    "\n",
    "fig = px.pie(df4, values=\"value\", names=\"topic\", title=\"Banyak Topik\")\n",
    "fig.show()"
   ]
  },
  {
   "cell_type": "code",
   "execution_count": 67,
   "metadata": {},
   "outputs": [
    {
     "data": {
      "application/vnd.plotly.v1+json": {
       "config": {
        "plotlyServerURL": "https://plot.ly"
       },
       "data": [
        {
         "hovertemplate": "topic=0<br>tahun_lhp=%{x}<br>value=%{y}<extra></extra>",
         "legendgroup": "0",
         "line": {
          "color": "#636efa",
          "dash": "solid"
         },
         "marker": {
          "symbol": "circle"
         },
         "mode": "markers+lines",
         "name": "0",
         "orientation": "v",
         "showlegend": true,
         "type": "scatter",
         "x": [
          2017,
          2018,
          2019,
          2020,
          2021
         ],
         "xaxis": "x",
         "y": [
          3007,
          2667,
          2706,
          3483,
          3391
         ],
         "yaxis": "y"
        },
        {
         "hovertemplate": "topic=1<br>tahun_lhp=%{x}<br>value=%{y}<extra></extra>",
         "legendgroup": "1",
         "line": {
          "color": "#EF553B",
          "dash": "solid"
         },
         "marker": {
          "symbol": "circle"
         },
         "mode": "markers+lines",
         "name": "1",
         "orientation": "v",
         "showlegend": true,
         "type": "scatter",
         "x": [
          2017,
          2018,
          2019,
          2020,
          2021
         ],
         "xaxis": "x",
         "y": [
          3433,
          3673,
          3179,
          3181,
          2758
         ],
         "yaxis": "y"
        },
        {
         "hovertemplate": "topic=2<br>tahun_lhp=%{x}<br>value=%{y}<extra></extra>",
         "legendgroup": "2",
         "line": {
          "color": "#00cc96",
          "dash": "solid"
         },
         "marker": {
          "symbol": "circle"
         },
         "mode": "markers+lines",
         "name": "2",
         "orientation": "v",
         "showlegend": true,
         "type": "scatter",
         "x": [
          2017,
          2018,
          2019,
          2020,
          2021
         ],
         "xaxis": "x",
         "y": [
          3147,
          3588,
          3474,
          3045,
          3206
         ],
         "yaxis": "y"
        },
        {
         "hovertemplate": "topic=3<br>tahun_lhp=%{x}<br>value=%{y}<extra></extra>",
         "legendgroup": "3",
         "line": {
          "color": "#ab63fa",
          "dash": "solid"
         },
         "marker": {
          "symbol": "circle"
         },
         "mode": "markers+lines",
         "name": "3",
         "orientation": "v",
         "showlegend": true,
         "type": "scatter",
         "x": [
          2017,
          2018,
          2019,
          2020,
          2021
         ],
         "xaxis": "x",
         "y": [
          1552,
          1867,
          1872,
          1671,
          1975
         ],
         "yaxis": "y"
        },
        {
         "hovertemplate": "topic=4<br>tahun_lhp=%{x}<br>value=%{y}<extra></extra>",
         "legendgroup": "4",
         "line": {
          "color": "#FFA15A",
          "dash": "solid"
         },
         "marker": {
          "symbol": "circle"
         },
         "mode": "markers+lines",
         "name": "4",
         "orientation": "v",
         "showlegend": true,
         "type": "scatter",
         "x": [
          2017,
          2018,
          2019,
          2020,
          2021
         ],
         "xaxis": "x",
         "y": [
          3120,
          2830,
          2841,
          2505,
          2877
         ],
         "yaxis": "y"
        },
        {
         "hovertemplate": "topic=5<br>tahun_lhp=%{x}<br>value=%{y}<extra></extra>",
         "legendgroup": "5",
         "line": {
          "color": "#19d3f3",
          "dash": "solid"
         },
         "marker": {
          "symbol": "circle"
         },
         "mode": "markers+lines",
         "name": "5",
         "orientation": "v",
         "showlegend": true,
         "type": "scatter",
         "x": [
          2017,
          2018,
          2019,
          2020,
          2021
         ],
         "xaxis": "x",
         "y": [
          3193,
          3166,
          3221,
          2232,
          2262
         ],
         "yaxis": "y"
        },
        {
         "hovertemplate": "topic=6<br>tahun_lhp=%{x}<br>value=%{y}<extra></extra>",
         "legendgroup": "6",
         "line": {
          "color": "#FF6692",
          "dash": "solid"
         },
         "marker": {
          "symbol": "circle"
         },
         "mode": "markers+lines",
         "name": "6",
         "orientation": "v",
         "showlegend": true,
         "type": "scatter",
         "x": [
          2017,
          2018,
          2019,
          2020,
          2021
         ],
         "xaxis": "x",
         "y": [
          2836,
          3016,
          3147,
          3033,
          3076
         ],
         "yaxis": "y"
        }
       ],
       "layout": {
        "legend": {
         "title": {
          "text": "topic"
         },
         "tracegroupgap": 0
        },
        "margin": {
         "t": 60
        },
        "template": {
         "data": {
          "bar": [
           {
            "error_x": {
             "color": "#2a3f5f"
            },
            "error_y": {
             "color": "#2a3f5f"
            },
            "marker": {
             "line": {
              "color": "#E5ECF6",
              "width": 0.5
             },
             "pattern": {
              "fillmode": "overlay",
              "size": 10,
              "solidity": 0.2
             }
            },
            "type": "bar"
           }
          ],
          "barpolar": [
           {
            "marker": {
             "line": {
              "color": "#E5ECF6",
              "width": 0.5
             },
             "pattern": {
              "fillmode": "overlay",
              "size": 10,
              "solidity": 0.2
             }
            },
            "type": "barpolar"
           }
          ],
          "carpet": [
           {
            "aaxis": {
             "endlinecolor": "#2a3f5f",
             "gridcolor": "white",
             "linecolor": "white",
             "minorgridcolor": "white",
             "startlinecolor": "#2a3f5f"
            },
            "baxis": {
             "endlinecolor": "#2a3f5f",
             "gridcolor": "white",
             "linecolor": "white",
             "minorgridcolor": "white",
             "startlinecolor": "#2a3f5f"
            },
            "type": "carpet"
           }
          ],
          "choropleth": [
           {
            "colorbar": {
             "outlinewidth": 0,
             "ticks": ""
            },
            "type": "choropleth"
           }
          ],
          "contour": [
           {
            "colorbar": {
             "outlinewidth": 0,
             "ticks": ""
            },
            "colorscale": [
             [
              0,
              "#0d0887"
             ],
             [
              0.1111111111111111,
              "#46039f"
             ],
             [
              0.2222222222222222,
              "#7201a8"
             ],
             [
              0.3333333333333333,
              "#9c179e"
             ],
             [
              0.4444444444444444,
              "#bd3786"
             ],
             [
              0.5555555555555556,
              "#d8576b"
             ],
             [
              0.6666666666666666,
              "#ed7953"
             ],
             [
              0.7777777777777778,
              "#fb9f3a"
             ],
             [
              0.8888888888888888,
              "#fdca26"
             ],
             [
              1,
              "#f0f921"
             ]
            ],
            "type": "contour"
           }
          ],
          "contourcarpet": [
           {
            "colorbar": {
             "outlinewidth": 0,
             "ticks": ""
            },
            "type": "contourcarpet"
           }
          ],
          "heatmap": [
           {
            "colorbar": {
             "outlinewidth": 0,
             "ticks": ""
            },
            "colorscale": [
             [
              0,
              "#0d0887"
             ],
             [
              0.1111111111111111,
              "#46039f"
             ],
             [
              0.2222222222222222,
              "#7201a8"
             ],
             [
              0.3333333333333333,
              "#9c179e"
             ],
             [
              0.4444444444444444,
              "#bd3786"
             ],
             [
              0.5555555555555556,
              "#d8576b"
             ],
             [
              0.6666666666666666,
              "#ed7953"
             ],
             [
              0.7777777777777778,
              "#fb9f3a"
             ],
             [
              0.8888888888888888,
              "#fdca26"
             ],
             [
              1,
              "#f0f921"
             ]
            ],
            "type": "heatmap"
           }
          ],
          "heatmapgl": [
           {
            "colorbar": {
             "outlinewidth": 0,
             "ticks": ""
            },
            "colorscale": [
             [
              0,
              "#0d0887"
             ],
             [
              0.1111111111111111,
              "#46039f"
             ],
             [
              0.2222222222222222,
              "#7201a8"
             ],
             [
              0.3333333333333333,
              "#9c179e"
             ],
             [
              0.4444444444444444,
              "#bd3786"
             ],
             [
              0.5555555555555556,
              "#d8576b"
             ],
             [
              0.6666666666666666,
              "#ed7953"
             ],
             [
              0.7777777777777778,
              "#fb9f3a"
             ],
             [
              0.8888888888888888,
              "#fdca26"
             ],
             [
              1,
              "#f0f921"
             ]
            ],
            "type": "heatmapgl"
           }
          ],
          "histogram": [
           {
            "marker": {
             "pattern": {
              "fillmode": "overlay",
              "size": 10,
              "solidity": 0.2
             }
            },
            "type": "histogram"
           }
          ],
          "histogram2d": [
           {
            "colorbar": {
             "outlinewidth": 0,
             "ticks": ""
            },
            "colorscale": [
             [
              0,
              "#0d0887"
             ],
             [
              0.1111111111111111,
              "#46039f"
             ],
             [
              0.2222222222222222,
              "#7201a8"
             ],
             [
              0.3333333333333333,
              "#9c179e"
             ],
             [
              0.4444444444444444,
              "#bd3786"
             ],
             [
              0.5555555555555556,
              "#d8576b"
             ],
             [
              0.6666666666666666,
              "#ed7953"
             ],
             [
              0.7777777777777778,
              "#fb9f3a"
             ],
             [
              0.8888888888888888,
              "#fdca26"
             ],
             [
              1,
              "#f0f921"
             ]
            ],
            "type": "histogram2d"
           }
          ],
          "histogram2dcontour": [
           {
            "colorbar": {
             "outlinewidth": 0,
             "ticks": ""
            },
            "colorscale": [
             [
              0,
              "#0d0887"
             ],
             [
              0.1111111111111111,
              "#46039f"
             ],
             [
              0.2222222222222222,
              "#7201a8"
             ],
             [
              0.3333333333333333,
              "#9c179e"
             ],
             [
              0.4444444444444444,
              "#bd3786"
             ],
             [
              0.5555555555555556,
              "#d8576b"
             ],
             [
              0.6666666666666666,
              "#ed7953"
             ],
             [
              0.7777777777777778,
              "#fb9f3a"
             ],
             [
              0.8888888888888888,
              "#fdca26"
             ],
             [
              1,
              "#f0f921"
             ]
            ],
            "type": "histogram2dcontour"
           }
          ],
          "mesh3d": [
           {
            "colorbar": {
             "outlinewidth": 0,
             "ticks": ""
            },
            "type": "mesh3d"
           }
          ],
          "parcoords": [
           {
            "line": {
             "colorbar": {
              "outlinewidth": 0,
              "ticks": ""
             }
            },
            "type": "parcoords"
           }
          ],
          "pie": [
           {
            "automargin": true,
            "type": "pie"
           }
          ],
          "scatter": [
           {
            "marker": {
             "colorbar": {
              "outlinewidth": 0,
              "ticks": ""
             }
            },
            "type": "scatter"
           }
          ],
          "scatter3d": [
           {
            "line": {
             "colorbar": {
              "outlinewidth": 0,
              "ticks": ""
             }
            },
            "marker": {
             "colorbar": {
              "outlinewidth": 0,
              "ticks": ""
             }
            },
            "type": "scatter3d"
           }
          ],
          "scattercarpet": [
           {
            "marker": {
             "colorbar": {
              "outlinewidth": 0,
              "ticks": ""
             }
            },
            "type": "scattercarpet"
           }
          ],
          "scattergeo": [
           {
            "marker": {
             "colorbar": {
              "outlinewidth": 0,
              "ticks": ""
             }
            },
            "type": "scattergeo"
           }
          ],
          "scattergl": [
           {
            "marker": {
             "colorbar": {
              "outlinewidth": 0,
              "ticks": ""
             }
            },
            "type": "scattergl"
           }
          ],
          "scattermapbox": [
           {
            "marker": {
             "colorbar": {
              "outlinewidth": 0,
              "ticks": ""
             }
            },
            "type": "scattermapbox"
           }
          ],
          "scatterpolar": [
           {
            "marker": {
             "colorbar": {
              "outlinewidth": 0,
              "ticks": ""
             }
            },
            "type": "scatterpolar"
           }
          ],
          "scatterpolargl": [
           {
            "marker": {
             "colorbar": {
              "outlinewidth": 0,
              "ticks": ""
             }
            },
            "type": "scatterpolargl"
           }
          ],
          "scatterternary": [
           {
            "marker": {
             "colorbar": {
              "outlinewidth": 0,
              "ticks": ""
             }
            },
            "type": "scatterternary"
           }
          ],
          "surface": [
           {
            "colorbar": {
             "outlinewidth": 0,
             "ticks": ""
            },
            "colorscale": [
             [
              0,
              "#0d0887"
             ],
             [
              0.1111111111111111,
              "#46039f"
             ],
             [
              0.2222222222222222,
              "#7201a8"
             ],
             [
              0.3333333333333333,
              "#9c179e"
             ],
             [
              0.4444444444444444,
              "#bd3786"
             ],
             [
              0.5555555555555556,
              "#d8576b"
             ],
             [
              0.6666666666666666,
              "#ed7953"
             ],
             [
              0.7777777777777778,
              "#fb9f3a"
             ],
             [
              0.8888888888888888,
              "#fdca26"
             ],
             [
              1,
              "#f0f921"
             ]
            ],
            "type": "surface"
           }
          ],
          "table": [
           {
            "cells": {
             "fill": {
              "color": "#EBF0F8"
             },
             "line": {
              "color": "white"
             }
            },
            "header": {
             "fill": {
              "color": "#C8D4E3"
             },
             "line": {
              "color": "white"
             }
            },
            "type": "table"
           }
          ]
         },
         "layout": {
          "annotationdefaults": {
           "arrowcolor": "#2a3f5f",
           "arrowhead": 0,
           "arrowwidth": 1
          },
          "autotypenumbers": "strict",
          "coloraxis": {
           "colorbar": {
            "outlinewidth": 0,
            "ticks": ""
           }
          },
          "colorscale": {
           "diverging": [
            [
             0,
             "#8e0152"
            ],
            [
             0.1,
             "#c51b7d"
            ],
            [
             0.2,
             "#de77ae"
            ],
            [
             0.3,
             "#f1b6da"
            ],
            [
             0.4,
             "#fde0ef"
            ],
            [
             0.5,
             "#f7f7f7"
            ],
            [
             0.6,
             "#e6f5d0"
            ],
            [
             0.7,
             "#b8e186"
            ],
            [
             0.8,
             "#7fbc41"
            ],
            [
             0.9,
             "#4d9221"
            ],
            [
             1,
             "#276419"
            ]
           ],
           "sequential": [
            [
             0,
             "#0d0887"
            ],
            [
             0.1111111111111111,
             "#46039f"
            ],
            [
             0.2222222222222222,
             "#7201a8"
            ],
            [
             0.3333333333333333,
             "#9c179e"
            ],
            [
             0.4444444444444444,
             "#bd3786"
            ],
            [
             0.5555555555555556,
             "#d8576b"
            ],
            [
             0.6666666666666666,
             "#ed7953"
            ],
            [
             0.7777777777777778,
             "#fb9f3a"
            ],
            [
             0.8888888888888888,
             "#fdca26"
            ],
            [
             1,
             "#f0f921"
            ]
           ],
           "sequentialminus": [
            [
             0,
             "#0d0887"
            ],
            [
             0.1111111111111111,
             "#46039f"
            ],
            [
             0.2222222222222222,
             "#7201a8"
            ],
            [
             0.3333333333333333,
             "#9c179e"
            ],
            [
             0.4444444444444444,
             "#bd3786"
            ],
            [
             0.5555555555555556,
             "#d8576b"
            ],
            [
             0.6666666666666666,
             "#ed7953"
            ],
            [
             0.7777777777777778,
             "#fb9f3a"
            ],
            [
             0.8888888888888888,
             "#fdca26"
            ],
            [
             1,
             "#f0f921"
            ]
           ]
          },
          "colorway": [
           "#636efa",
           "#EF553B",
           "#00cc96",
           "#ab63fa",
           "#FFA15A",
           "#19d3f3",
           "#FF6692",
           "#B6E880",
           "#FF97FF",
           "#FECB52"
          ],
          "font": {
           "color": "#2a3f5f"
          },
          "geo": {
           "bgcolor": "white",
           "lakecolor": "white",
           "landcolor": "#E5ECF6",
           "showlakes": true,
           "showland": true,
           "subunitcolor": "white"
          },
          "hoverlabel": {
           "align": "left"
          },
          "hovermode": "closest",
          "mapbox": {
           "style": "light"
          },
          "paper_bgcolor": "white",
          "plot_bgcolor": "#E5ECF6",
          "polar": {
           "angularaxis": {
            "gridcolor": "white",
            "linecolor": "white",
            "ticks": ""
           },
           "bgcolor": "#E5ECF6",
           "radialaxis": {
            "gridcolor": "white",
            "linecolor": "white",
            "ticks": ""
           }
          },
          "scene": {
           "xaxis": {
            "backgroundcolor": "#E5ECF6",
            "gridcolor": "white",
            "gridwidth": 2,
            "linecolor": "white",
            "showbackground": true,
            "ticks": "",
            "zerolinecolor": "white"
           },
           "yaxis": {
            "backgroundcolor": "#E5ECF6",
            "gridcolor": "white",
            "gridwidth": 2,
            "linecolor": "white",
            "showbackground": true,
            "ticks": "",
            "zerolinecolor": "white"
           },
           "zaxis": {
            "backgroundcolor": "#E5ECF6",
            "gridcolor": "white",
            "gridwidth": 2,
            "linecolor": "white",
            "showbackground": true,
            "ticks": "",
            "zerolinecolor": "white"
           }
          },
          "shapedefaults": {
           "line": {
            "color": "#2a3f5f"
           }
          },
          "ternary": {
           "aaxis": {
            "gridcolor": "white",
            "linecolor": "white",
            "ticks": ""
           },
           "baxis": {
            "gridcolor": "white",
            "linecolor": "white",
            "ticks": ""
           },
           "bgcolor": "#E5ECF6",
           "caxis": {
            "gridcolor": "white",
            "linecolor": "white",
            "ticks": ""
           }
          },
          "title": {
           "x": 0.05
          },
          "xaxis": {
           "automargin": true,
           "gridcolor": "white",
           "linecolor": "white",
           "ticks": "",
           "title": {
            "standoff": 15
           },
           "zerolinecolor": "white",
           "zerolinewidth": 2
          },
          "yaxis": {
           "automargin": true,
           "gridcolor": "white",
           "linecolor": "white",
           "ticks": "",
           "title": {
            "standoff": 15
           },
           "zerolinecolor": "white",
           "zerolinewidth": 2
          }
         }
        },
        "xaxis": {
         "anchor": "y",
         "domain": [
          0,
          1
         ],
         "title": {
          "text": "tahun_lhp"
         },
         "type": "category"
        },
        "yaxis": {
         "anchor": "x",
         "domain": [
          0,
          1
         ],
         "title": {
          "text": "value"
         }
        }
       }
      }
     },
     "metadata": {},
     "output_type": "display_data"
    }
   ],
   "source": [
    "# Topik per Tahun\n",
    "\n",
    "df5 = df.groupby([\"tahun_lhp\", \"topic\"]).size().reset_index(name=\"value\")\n",
    "\n",
    "fig = px.line(df5, x=\"tahun_lhp\", y=\"value\", color=\"topic\", markers=True)\n",
    "fig.update_xaxes(type=\"category\")\n",
    "fig.show()"
   ]
  },
  {
   "cell_type": "code",
   "execution_count": 69,
   "metadata": {},
   "outputs": [
    {
     "data": {
      "application/vnd.plotly.v1+json": {
       "config": {
        "plotlyServerURL": "https://plot.ly"
       },
       "data": [
        {
         "alignmentgroup": "True",
         "hovertemplate": "jenis_pemeriksaan=%{x}<br>value=%{y}<br>topic=%{marker.color}<extra></extra>",
         "legendgroup": "",
         "marker": {
          "color": [
           0,
           1,
           2,
           3,
           4,
           5,
           6,
           0,
           1,
           2,
           3,
           4,
           5,
           6,
           0,
           1,
           2,
           3,
           4,
           5,
           6
          ],
          "coloraxis": "coloraxis",
          "pattern": {
           "shape": ""
          }
         },
         "name": "",
         "offsetgroup": "",
         "orientation": "v",
         "showlegend": false,
         "textposition": "auto",
         "type": "bar",
         "x": [
          "Kinerja",
          "Kinerja",
          "Kinerja",
          "Kinerja",
          "Kinerja",
          "Kinerja",
          "Kinerja",
          "LK",
          "LK",
          "LK",
          "LK",
          "LK",
          "LK",
          "LK",
          "PDTT",
          "PDTT",
          "PDTT",
          "PDTT",
          "PDTT",
          "PDTT",
          "PDTT"
         ],
         "xaxis": "x",
         "y": [
          6178,
          2875,
          1247,
          112,
          1166,
          1103,
          585,
          7937,
          9355,
          14545,
          6961,
          10157,
          7745,
          11673,
          1139,
          3994,
          668,
          1864,
          2850,
          5226,
          2850
         ],
         "yaxis": "y"
        }
       ],
       "layout": {
        "barmode": "group",
        "coloraxis": {
         "colorbar": {
          "title": {
           "text": "topic"
          }
         },
         "colorscale": [
          [
           0,
           "#0d0887"
          ],
          [
           0.1111111111111111,
           "#46039f"
          ],
          [
           0.2222222222222222,
           "#7201a8"
          ],
          [
           0.3333333333333333,
           "#9c179e"
          ],
          [
           0.4444444444444444,
           "#bd3786"
          ],
          [
           0.5555555555555556,
           "#d8576b"
          ],
          [
           0.6666666666666666,
           "#ed7953"
          ],
          [
           0.7777777777777778,
           "#fb9f3a"
          ],
          [
           0.8888888888888888,
           "#fdca26"
          ],
          [
           1,
           "#f0f921"
          ]
         ]
        },
        "height": 600,
        "legend": {
         "tracegroupgap": 0
        },
        "template": {
         "data": {
          "bar": [
           {
            "error_x": {
             "color": "#2a3f5f"
            },
            "error_y": {
             "color": "#2a3f5f"
            },
            "marker": {
             "line": {
              "color": "#E5ECF6",
              "width": 0.5
             },
             "pattern": {
              "fillmode": "overlay",
              "size": 10,
              "solidity": 0.2
             }
            },
            "type": "bar"
           }
          ],
          "barpolar": [
           {
            "marker": {
             "line": {
              "color": "#E5ECF6",
              "width": 0.5
             },
             "pattern": {
              "fillmode": "overlay",
              "size": 10,
              "solidity": 0.2
             }
            },
            "type": "barpolar"
           }
          ],
          "carpet": [
           {
            "aaxis": {
             "endlinecolor": "#2a3f5f",
             "gridcolor": "white",
             "linecolor": "white",
             "minorgridcolor": "white",
             "startlinecolor": "#2a3f5f"
            },
            "baxis": {
             "endlinecolor": "#2a3f5f",
             "gridcolor": "white",
             "linecolor": "white",
             "minorgridcolor": "white",
             "startlinecolor": "#2a3f5f"
            },
            "type": "carpet"
           }
          ],
          "choropleth": [
           {
            "colorbar": {
             "outlinewidth": 0,
             "ticks": ""
            },
            "type": "choropleth"
           }
          ],
          "contour": [
           {
            "colorbar": {
             "outlinewidth": 0,
             "ticks": ""
            },
            "colorscale": [
             [
              0,
              "#0d0887"
             ],
             [
              0.1111111111111111,
              "#46039f"
             ],
             [
              0.2222222222222222,
              "#7201a8"
             ],
             [
              0.3333333333333333,
              "#9c179e"
             ],
             [
              0.4444444444444444,
              "#bd3786"
             ],
             [
              0.5555555555555556,
              "#d8576b"
             ],
             [
              0.6666666666666666,
              "#ed7953"
             ],
             [
              0.7777777777777778,
              "#fb9f3a"
             ],
             [
              0.8888888888888888,
              "#fdca26"
             ],
             [
              1,
              "#f0f921"
             ]
            ],
            "type": "contour"
           }
          ],
          "contourcarpet": [
           {
            "colorbar": {
             "outlinewidth": 0,
             "ticks": ""
            },
            "type": "contourcarpet"
           }
          ],
          "heatmap": [
           {
            "colorbar": {
             "outlinewidth": 0,
             "ticks": ""
            },
            "colorscale": [
             [
              0,
              "#0d0887"
             ],
             [
              0.1111111111111111,
              "#46039f"
             ],
             [
              0.2222222222222222,
              "#7201a8"
             ],
             [
              0.3333333333333333,
              "#9c179e"
             ],
             [
              0.4444444444444444,
              "#bd3786"
             ],
             [
              0.5555555555555556,
              "#d8576b"
             ],
             [
              0.6666666666666666,
              "#ed7953"
             ],
             [
              0.7777777777777778,
              "#fb9f3a"
             ],
             [
              0.8888888888888888,
              "#fdca26"
             ],
             [
              1,
              "#f0f921"
             ]
            ],
            "type": "heatmap"
           }
          ],
          "heatmapgl": [
           {
            "colorbar": {
             "outlinewidth": 0,
             "ticks": ""
            },
            "colorscale": [
             [
              0,
              "#0d0887"
             ],
             [
              0.1111111111111111,
              "#46039f"
             ],
             [
              0.2222222222222222,
              "#7201a8"
             ],
             [
              0.3333333333333333,
              "#9c179e"
             ],
             [
              0.4444444444444444,
              "#bd3786"
             ],
             [
              0.5555555555555556,
              "#d8576b"
             ],
             [
              0.6666666666666666,
              "#ed7953"
             ],
             [
              0.7777777777777778,
              "#fb9f3a"
             ],
             [
              0.8888888888888888,
              "#fdca26"
             ],
             [
              1,
              "#f0f921"
             ]
            ],
            "type": "heatmapgl"
           }
          ],
          "histogram": [
           {
            "marker": {
             "pattern": {
              "fillmode": "overlay",
              "size": 10,
              "solidity": 0.2
             }
            },
            "type": "histogram"
           }
          ],
          "histogram2d": [
           {
            "colorbar": {
             "outlinewidth": 0,
             "ticks": ""
            },
            "colorscale": [
             [
              0,
              "#0d0887"
             ],
             [
              0.1111111111111111,
              "#46039f"
             ],
             [
              0.2222222222222222,
              "#7201a8"
             ],
             [
              0.3333333333333333,
              "#9c179e"
             ],
             [
              0.4444444444444444,
              "#bd3786"
             ],
             [
              0.5555555555555556,
              "#d8576b"
             ],
             [
              0.6666666666666666,
              "#ed7953"
             ],
             [
              0.7777777777777778,
              "#fb9f3a"
             ],
             [
              0.8888888888888888,
              "#fdca26"
             ],
             [
              1,
              "#f0f921"
             ]
            ],
            "type": "histogram2d"
           }
          ],
          "histogram2dcontour": [
           {
            "colorbar": {
             "outlinewidth": 0,
             "ticks": ""
            },
            "colorscale": [
             [
              0,
              "#0d0887"
             ],
             [
              0.1111111111111111,
              "#46039f"
             ],
             [
              0.2222222222222222,
              "#7201a8"
             ],
             [
              0.3333333333333333,
              "#9c179e"
             ],
             [
              0.4444444444444444,
              "#bd3786"
             ],
             [
              0.5555555555555556,
              "#d8576b"
             ],
             [
              0.6666666666666666,
              "#ed7953"
             ],
             [
              0.7777777777777778,
              "#fb9f3a"
             ],
             [
              0.8888888888888888,
              "#fdca26"
             ],
             [
              1,
              "#f0f921"
             ]
            ],
            "type": "histogram2dcontour"
           }
          ],
          "mesh3d": [
           {
            "colorbar": {
             "outlinewidth": 0,
             "ticks": ""
            },
            "type": "mesh3d"
           }
          ],
          "parcoords": [
           {
            "line": {
             "colorbar": {
              "outlinewidth": 0,
              "ticks": ""
             }
            },
            "type": "parcoords"
           }
          ],
          "pie": [
           {
            "automargin": true,
            "type": "pie"
           }
          ],
          "scatter": [
           {
            "marker": {
             "colorbar": {
              "outlinewidth": 0,
              "ticks": ""
             }
            },
            "type": "scatter"
           }
          ],
          "scatter3d": [
           {
            "line": {
             "colorbar": {
              "outlinewidth": 0,
              "ticks": ""
             }
            },
            "marker": {
             "colorbar": {
              "outlinewidth": 0,
              "ticks": ""
             }
            },
            "type": "scatter3d"
           }
          ],
          "scattercarpet": [
           {
            "marker": {
             "colorbar": {
              "outlinewidth": 0,
              "ticks": ""
             }
            },
            "type": "scattercarpet"
           }
          ],
          "scattergeo": [
           {
            "marker": {
             "colorbar": {
              "outlinewidth": 0,
              "ticks": ""
             }
            },
            "type": "scattergeo"
           }
          ],
          "scattergl": [
           {
            "marker": {
             "colorbar": {
              "outlinewidth": 0,
              "ticks": ""
             }
            },
            "type": "scattergl"
           }
          ],
          "scattermapbox": [
           {
            "marker": {
             "colorbar": {
              "outlinewidth": 0,
              "ticks": ""
             }
            },
            "type": "scattermapbox"
           }
          ],
          "scatterpolar": [
           {
            "marker": {
             "colorbar": {
              "outlinewidth": 0,
              "ticks": ""
             }
            },
            "type": "scatterpolar"
           }
          ],
          "scatterpolargl": [
           {
            "marker": {
             "colorbar": {
              "outlinewidth": 0,
              "ticks": ""
             }
            },
            "type": "scatterpolargl"
           }
          ],
          "scatterternary": [
           {
            "marker": {
             "colorbar": {
              "outlinewidth": 0,
              "ticks": ""
             }
            },
            "type": "scatterternary"
           }
          ],
          "surface": [
           {
            "colorbar": {
             "outlinewidth": 0,
             "ticks": ""
            },
            "colorscale": [
             [
              0,
              "#0d0887"
             ],
             [
              0.1111111111111111,
              "#46039f"
             ],
             [
              0.2222222222222222,
              "#7201a8"
             ],
             [
              0.3333333333333333,
              "#9c179e"
             ],
             [
              0.4444444444444444,
              "#bd3786"
             ],
             [
              0.5555555555555556,
              "#d8576b"
             ],
             [
              0.6666666666666666,
              "#ed7953"
             ],
             [
              0.7777777777777778,
              "#fb9f3a"
             ],
             [
              0.8888888888888888,
              "#fdca26"
             ],
             [
              1,
              "#f0f921"
             ]
            ],
            "type": "surface"
           }
          ],
          "table": [
           {
            "cells": {
             "fill": {
              "color": "#EBF0F8"
             },
             "line": {
              "color": "white"
             }
            },
            "header": {
             "fill": {
              "color": "#C8D4E3"
             },
             "line": {
              "color": "white"
             }
            },
            "type": "table"
           }
          ]
         },
         "layout": {
          "annotationdefaults": {
           "arrowcolor": "#2a3f5f",
           "arrowhead": 0,
           "arrowwidth": 1
          },
          "autotypenumbers": "strict",
          "coloraxis": {
           "colorbar": {
            "outlinewidth": 0,
            "ticks": ""
           }
          },
          "colorscale": {
           "diverging": [
            [
             0,
             "#8e0152"
            ],
            [
             0.1,
             "#c51b7d"
            ],
            [
             0.2,
             "#de77ae"
            ],
            [
             0.3,
             "#f1b6da"
            ],
            [
             0.4,
             "#fde0ef"
            ],
            [
             0.5,
             "#f7f7f7"
            ],
            [
             0.6,
             "#e6f5d0"
            ],
            [
             0.7,
             "#b8e186"
            ],
            [
             0.8,
             "#7fbc41"
            ],
            [
             0.9,
             "#4d9221"
            ],
            [
             1,
             "#276419"
            ]
           ],
           "sequential": [
            [
             0,
             "#0d0887"
            ],
            [
             0.1111111111111111,
             "#46039f"
            ],
            [
             0.2222222222222222,
             "#7201a8"
            ],
            [
             0.3333333333333333,
             "#9c179e"
            ],
            [
             0.4444444444444444,
             "#bd3786"
            ],
            [
             0.5555555555555556,
             "#d8576b"
            ],
            [
             0.6666666666666666,
             "#ed7953"
            ],
            [
             0.7777777777777778,
             "#fb9f3a"
            ],
            [
             0.8888888888888888,
             "#fdca26"
            ],
            [
             1,
             "#f0f921"
            ]
           ],
           "sequentialminus": [
            [
             0,
             "#0d0887"
            ],
            [
             0.1111111111111111,
             "#46039f"
            ],
            [
             0.2222222222222222,
             "#7201a8"
            ],
            [
             0.3333333333333333,
             "#9c179e"
            ],
            [
             0.4444444444444444,
             "#bd3786"
            ],
            [
             0.5555555555555556,
             "#d8576b"
            ],
            [
             0.6666666666666666,
             "#ed7953"
            ],
            [
             0.7777777777777778,
             "#fb9f3a"
            ],
            [
             0.8888888888888888,
             "#fdca26"
            ],
            [
             1,
             "#f0f921"
            ]
           ]
          },
          "colorway": [
           "#636efa",
           "#EF553B",
           "#00cc96",
           "#ab63fa",
           "#FFA15A",
           "#19d3f3",
           "#FF6692",
           "#B6E880",
           "#FF97FF",
           "#FECB52"
          ],
          "font": {
           "color": "#2a3f5f"
          },
          "geo": {
           "bgcolor": "white",
           "lakecolor": "white",
           "landcolor": "#E5ECF6",
           "showlakes": true,
           "showland": true,
           "subunitcolor": "white"
          },
          "hoverlabel": {
           "align": "left"
          },
          "hovermode": "closest",
          "mapbox": {
           "style": "light"
          },
          "paper_bgcolor": "white",
          "plot_bgcolor": "#E5ECF6",
          "polar": {
           "angularaxis": {
            "gridcolor": "white",
            "linecolor": "white",
            "ticks": ""
           },
           "bgcolor": "#E5ECF6",
           "radialaxis": {
            "gridcolor": "white",
            "linecolor": "white",
            "ticks": ""
           }
          },
          "scene": {
           "xaxis": {
            "backgroundcolor": "#E5ECF6",
            "gridcolor": "white",
            "gridwidth": 2,
            "linecolor": "white",
            "showbackground": true,
            "ticks": "",
            "zerolinecolor": "white"
           },
           "yaxis": {
            "backgroundcolor": "#E5ECF6",
            "gridcolor": "white",
            "gridwidth": 2,
            "linecolor": "white",
            "showbackground": true,
            "ticks": "",
            "zerolinecolor": "white"
           },
           "zaxis": {
            "backgroundcolor": "#E5ECF6",
            "gridcolor": "white",
            "gridwidth": 2,
            "linecolor": "white",
            "showbackground": true,
            "ticks": "",
            "zerolinecolor": "white"
           }
          },
          "shapedefaults": {
           "line": {
            "color": "#2a3f5f"
           }
          },
          "ternary": {
           "aaxis": {
            "gridcolor": "white",
            "linecolor": "white",
            "ticks": ""
           },
           "baxis": {
            "gridcolor": "white",
            "linecolor": "white",
            "ticks": ""
           },
           "bgcolor": "#E5ECF6",
           "caxis": {
            "gridcolor": "white",
            "linecolor": "white",
            "ticks": ""
           }
          },
          "title": {
           "x": 0.05
          },
          "xaxis": {
           "automargin": true,
           "gridcolor": "white",
           "linecolor": "white",
           "ticks": "",
           "title": {
            "standoff": 15
           },
           "zerolinecolor": "white",
           "zerolinewidth": 2
          },
          "yaxis": {
           "automargin": true,
           "gridcolor": "white",
           "linecolor": "white",
           "ticks": "",
           "title": {
            "standoff": 15
           },
           "zerolinecolor": "white",
           "zerolinewidth": 2
          }
         }
        },
        "title": {
         "text": "Topik per Jenis Pemeriksaan"
        },
        "xaxis": {
         "anchor": "y",
         "domain": [
          0,
          1
         ],
         "title": {
          "text": "jenis_pemeriksaan"
         }
        },
        "yaxis": {
         "anchor": "x",
         "domain": [
          0,
          1
         ],
         "title": {
          "text": "value"
         }
        }
       }
      }
     },
     "metadata": {},
     "output_type": "display_data"
    }
   ],
   "source": [
    "# Jenis Pemeriksaan dan Topik\n",
    "\n",
    "df6 = df.groupby([\"jenis_pemeriksaan\", \"topic\"]).size().reset_index(name=\"value\")\n",
    "\n",
    "fig = px.bar(df6, x=\"jenis_pemeriksaan\", y=\"value\", color=\"topic\", title=\"Topik per Jenis Pemeriksaan\", barmode=\"group\", height=600)\n",
    "fig.show()"
   ]
  },
  {
   "cell_type": "code",
   "execution_count": 61,
   "metadata": {},
   "outputs": [
    {
     "data": {
      "application/vnd.plotly.v1+json": {
       "config": {
        "plotlyServerURL": "https://plot.ly"
       },
       "data": [
        {
         "alignmentgroup": "True",
         "hovertemplate": "opini_lhp=%{x}<br>value=%{y}<br>topic=%{marker.color}<extra></extra>",
         "legendgroup": "",
         "marker": {
          "color": [
           0,
           1,
           2,
           3,
           4,
           5,
           6,
           0,
           1,
           2,
           3,
           4,
           5,
           6,
           0,
           1,
           2,
           3,
           4,
           5,
           6,
           0,
           1,
           2,
           3,
           4,
           5,
           6,
           0,
           1,
           2,
           3,
           4,
           5,
           6,
           0,
           1,
           2,
           3,
           4,
           5,
           6
          ],
          "coloraxis": "coloraxis",
          "pattern": {
           "shape": ""
          }
         },
         "name": "",
         "offsetgroup": "",
         "orientation": "v",
         "showlegend": false,
         "textposition": "auto",
         "type": "bar",
         "x": [
          "BLANK",
          "BLANK",
          "BLANK",
          "BLANK",
          "BLANK",
          "BLANK",
          "BLANK",
          "TMP",
          "TMP",
          "TMP",
          "TMP",
          "TMP",
          "TMP",
          "TMP",
          "TW",
          "TW",
          "TW",
          "TW",
          "TW",
          "TW",
          "TW",
          "WDP",
          "WDP",
          "WDP",
          "WDP",
          "WDP",
          "WDP",
          "WDP",
          "WTP",
          "WTP",
          "WTP",
          "WTP",
          "WTP",
          "WTP",
          "WTP",
          "WTP-DPP",
          "WTP-DPP",
          "WTP-DPP",
          "WTP-DPP",
          "WTP-DPP",
          "WTP-DPP",
          "WTP-DPP"
         ],
         "xaxis": "x",
         "y": [
          7341,
          6934,
          1948,
          1979,
          4026,
          6336,
          3493,
          237,
          403,
          800,
          202,
          225,
          231,
          460,
          7,
          5,
          18,
          1,
          2,
          4,
          15,
          1306,
          1496,
          2798,
          1106,
          1384,
          1145,
          1966,
          6342,
          7373,
          10882,
          5633,
          8515,
          6309,
          9136,
          21,
          13,
          14,
          16,
          21,
          49,
          38
         ],
         "yaxis": "y"
        }
       ],
       "layout": {
        "barmode": "relative",
        "coloraxis": {
         "colorbar": {
          "title": {
           "text": "topic"
          }
         },
         "colorscale": [
          [
           0,
           "#0d0887"
          ],
          [
           0.1111111111111111,
           "#46039f"
          ],
          [
           0.2222222222222222,
           "#7201a8"
          ],
          [
           0.3333333333333333,
           "#9c179e"
          ],
          [
           0.4444444444444444,
           "#bd3786"
          ],
          [
           0.5555555555555556,
           "#d8576b"
          ],
          [
           0.6666666666666666,
           "#ed7953"
          ],
          [
           0.7777777777777778,
           "#fb9f3a"
          ],
          [
           0.8888888888888888,
           "#fdca26"
          ],
          [
           1,
           "#f0f921"
          ]
         ]
        },
        "height": 600,
        "legend": {
         "tracegroupgap": 0
        },
        "template": {
         "data": {
          "bar": [
           {
            "error_x": {
             "color": "#2a3f5f"
            },
            "error_y": {
             "color": "#2a3f5f"
            },
            "marker": {
             "line": {
              "color": "#E5ECF6",
              "width": 0.5
             },
             "pattern": {
              "fillmode": "overlay",
              "size": 10,
              "solidity": 0.2
             }
            },
            "type": "bar"
           }
          ],
          "barpolar": [
           {
            "marker": {
             "line": {
              "color": "#E5ECF6",
              "width": 0.5
             },
             "pattern": {
              "fillmode": "overlay",
              "size": 10,
              "solidity": 0.2
             }
            },
            "type": "barpolar"
           }
          ],
          "carpet": [
           {
            "aaxis": {
             "endlinecolor": "#2a3f5f",
             "gridcolor": "white",
             "linecolor": "white",
             "minorgridcolor": "white",
             "startlinecolor": "#2a3f5f"
            },
            "baxis": {
             "endlinecolor": "#2a3f5f",
             "gridcolor": "white",
             "linecolor": "white",
             "minorgridcolor": "white",
             "startlinecolor": "#2a3f5f"
            },
            "type": "carpet"
           }
          ],
          "choropleth": [
           {
            "colorbar": {
             "outlinewidth": 0,
             "ticks": ""
            },
            "type": "choropleth"
           }
          ],
          "contour": [
           {
            "colorbar": {
             "outlinewidth": 0,
             "ticks": ""
            },
            "colorscale": [
             [
              0,
              "#0d0887"
             ],
             [
              0.1111111111111111,
              "#46039f"
             ],
             [
              0.2222222222222222,
              "#7201a8"
             ],
             [
              0.3333333333333333,
              "#9c179e"
             ],
             [
              0.4444444444444444,
              "#bd3786"
             ],
             [
              0.5555555555555556,
              "#d8576b"
             ],
             [
              0.6666666666666666,
              "#ed7953"
             ],
             [
              0.7777777777777778,
              "#fb9f3a"
             ],
             [
              0.8888888888888888,
              "#fdca26"
             ],
             [
              1,
              "#f0f921"
             ]
            ],
            "type": "contour"
           }
          ],
          "contourcarpet": [
           {
            "colorbar": {
             "outlinewidth": 0,
             "ticks": ""
            },
            "type": "contourcarpet"
           }
          ],
          "heatmap": [
           {
            "colorbar": {
             "outlinewidth": 0,
             "ticks": ""
            },
            "colorscale": [
             [
              0,
              "#0d0887"
             ],
             [
              0.1111111111111111,
              "#46039f"
             ],
             [
              0.2222222222222222,
              "#7201a8"
             ],
             [
              0.3333333333333333,
              "#9c179e"
             ],
             [
              0.4444444444444444,
              "#bd3786"
             ],
             [
              0.5555555555555556,
              "#d8576b"
             ],
             [
              0.6666666666666666,
              "#ed7953"
             ],
             [
              0.7777777777777778,
              "#fb9f3a"
             ],
             [
              0.8888888888888888,
              "#fdca26"
             ],
             [
              1,
              "#f0f921"
             ]
            ],
            "type": "heatmap"
           }
          ],
          "heatmapgl": [
           {
            "colorbar": {
             "outlinewidth": 0,
             "ticks": ""
            },
            "colorscale": [
             [
              0,
              "#0d0887"
             ],
             [
              0.1111111111111111,
              "#46039f"
             ],
             [
              0.2222222222222222,
              "#7201a8"
             ],
             [
              0.3333333333333333,
              "#9c179e"
             ],
             [
              0.4444444444444444,
              "#bd3786"
             ],
             [
              0.5555555555555556,
              "#d8576b"
             ],
             [
              0.6666666666666666,
              "#ed7953"
             ],
             [
              0.7777777777777778,
              "#fb9f3a"
             ],
             [
              0.8888888888888888,
              "#fdca26"
             ],
             [
              1,
              "#f0f921"
             ]
            ],
            "type": "heatmapgl"
           }
          ],
          "histogram": [
           {
            "marker": {
             "pattern": {
              "fillmode": "overlay",
              "size": 10,
              "solidity": 0.2
             }
            },
            "type": "histogram"
           }
          ],
          "histogram2d": [
           {
            "colorbar": {
             "outlinewidth": 0,
             "ticks": ""
            },
            "colorscale": [
             [
              0,
              "#0d0887"
             ],
             [
              0.1111111111111111,
              "#46039f"
             ],
             [
              0.2222222222222222,
              "#7201a8"
             ],
             [
              0.3333333333333333,
              "#9c179e"
             ],
             [
              0.4444444444444444,
              "#bd3786"
             ],
             [
              0.5555555555555556,
              "#d8576b"
             ],
             [
              0.6666666666666666,
              "#ed7953"
             ],
             [
              0.7777777777777778,
              "#fb9f3a"
             ],
             [
              0.8888888888888888,
              "#fdca26"
             ],
             [
              1,
              "#f0f921"
             ]
            ],
            "type": "histogram2d"
           }
          ],
          "histogram2dcontour": [
           {
            "colorbar": {
             "outlinewidth": 0,
             "ticks": ""
            },
            "colorscale": [
             [
              0,
              "#0d0887"
             ],
             [
              0.1111111111111111,
              "#46039f"
             ],
             [
              0.2222222222222222,
              "#7201a8"
             ],
             [
              0.3333333333333333,
              "#9c179e"
             ],
             [
              0.4444444444444444,
              "#bd3786"
             ],
             [
              0.5555555555555556,
              "#d8576b"
             ],
             [
              0.6666666666666666,
              "#ed7953"
             ],
             [
              0.7777777777777778,
              "#fb9f3a"
             ],
             [
              0.8888888888888888,
              "#fdca26"
             ],
             [
              1,
              "#f0f921"
             ]
            ],
            "type": "histogram2dcontour"
           }
          ],
          "mesh3d": [
           {
            "colorbar": {
             "outlinewidth": 0,
             "ticks": ""
            },
            "type": "mesh3d"
           }
          ],
          "parcoords": [
           {
            "line": {
             "colorbar": {
              "outlinewidth": 0,
              "ticks": ""
             }
            },
            "type": "parcoords"
           }
          ],
          "pie": [
           {
            "automargin": true,
            "type": "pie"
           }
          ],
          "scatter": [
           {
            "marker": {
             "colorbar": {
              "outlinewidth": 0,
              "ticks": ""
             }
            },
            "type": "scatter"
           }
          ],
          "scatter3d": [
           {
            "line": {
             "colorbar": {
              "outlinewidth": 0,
              "ticks": ""
             }
            },
            "marker": {
             "colorbar": {
              "outlinewidth": 0,
              "ticks": ""
             }
            },
            "type": "scatter3d"
           }
          ],
          "scattercarpet": [
           {
            "marker": {
             "colorbar": {
              "outlinewidth": 0,
              "ticks": ""
             }
            },
            "type": "scattercarpet"
           }
          ],
          "scattergeo": [
           {
            "marker": {
             "colorbar": {
              "outlinewidth": 0,
              "ticks": ""
             }
            },
            "type": "scattergeo"
           }
          ],
          "scattergl": [
           {
            "marker": {
             "colorbar": {
              "outlinewidth": 0,
              "ticks": ""
             }
            },
            "type": "scattergl"
           }
          ],
          "scattermapbox": [
           {
            "marker": {
             "colorbar": {
              "outlinewidth": 0,
              "ticks": ""
             }
            },
            "type": "scattermapbox"
           }
          ],
          "scatterpolar": [
           {
            "marker": {
             "colorbar": {
              "outlinewidth": 0,
              "ticks": ""
             }
            },
            "type": "scatterpolar"
           }
          ],
          "scatterpolargl": [
           {
            "marker": {
             "colorbar": {
              "outlinewidth": 0,
              "ticks": ""
             }
            },
            "type": "scatterpolargl"
           }
          ],
          "scatterternary": [
           {
            "marker": {
             "colorbar": {
              "outlinewidth": 0,
              "ticks": ""
             }
            },
            "type": "scatterternary"
           }
          ],
          "surface": [
           {
            "colorbar": {
             "outlinewidth": 0,
             "ticks": ""
            },
            "colorscale": [
             [
              0,
              "#0d0887"
             ],
             [
              0.1111111111111111,
              "#46039f"
             ],
             [
              0.2222222222222222,
              "#7201a8"
             ],
             [
              0.3333333333333333,
              "#9c179e"
             ],
             [
              0.4444444444444444,
              "#bd3786"
             ],
             [
              0.5555555555555556,
              "#d8576b"
             ],
             [
              0.6666666666666666,
              "#ed7953"
             ],
             [
              0.7777777777777778,
              "#fb9f3a"
             ],
             [
              0.8888888888888888,
              "#fdca26"
             ],
             [
              1,
              "#f0f921"
             ]
            ],
            "type": "surface"
           }
          ],
          "table": [
           {
            "cells": {
             "fill": {
              "color": "#EBF0F8"
             },
             "line": {
              "color": "white"
             }
            },
            "header": {
             "fill": {
              "color": "#C8D4E3"
             },
             "line": {
              "color": "white"
             }
            },
            "type": "table"
           }
          ]
         },
         "layout": {
          "annotationdefaults": {
           "arrowcolor": "#2a3f5f",
           "arrowhead": 0,
           "arrowwidth": 1
          },
          "autotypenumbers": "strict",
          "coloraxis": {
           "colorbar": {
            "outlinewidth": 0,
            "ticks": ""
           }
          },
          "colorscale": {
           "diverging": [
            [
             0,
             "#8e0152"
            ],
            [
             0.1,
             "#c51b7d"
            ],
            [
             0.2,
             "#de77ae"
            ],
            [
             0.3,
             "#f1b6da"
            ],
            [
             0.4,
             "#fde0ef"
            ],
            [
             0.5,
             "#f7f7f7"
            ],
            [
             0.6,
             "#e6f5d0"
            ],
            [
             0.7,
             "#b8e186"
            ],
            [
             0.8,
             "#7fbc41"
            ],
            [
             0.9,
             "#4d9221"
            ],
            [
             1,
             "#276419"
            ]
           ],
           "sequential": [
            [
             0,
             "#0d0887"
            ],
            [
             0.1111111111111111,
             "#46039f"
            ],
            [
             0.2222222222222222,
             "#7201a8"
            ],
            [
             0.3333333333333333,
             "#9c179e"
            ],
            [
             0.4444444444444444,
             "#bd3786"
            ],
            [
             0.5555555555555556,
             "#d8576b"
            ],
            [
             0.6666666666666666,
             "#ed7953"
            ],
            [
             0.7777777777777778,
             "#fb9f3a"
            ],
            [
             0.8888888888888888,
             "#fdca26"
            ],
            [
             1,
             "#f0f921"
            ]
           ],
           "sequentialminus": [
            [
             0,
             "#0d0887"
            ],
            [
             0.1111111111111111,
             "#46039f"
            ],
            [
             0.2222222222222222,
             "#7201a8"
            ],
            [
             0.3333333333333333,
             "#9c179e"
            ],
            [
             0.4444444444444444,
             "#bd3786"
            ],
            [
             0.5555555555555556,
             "#d8576b"
            ],
            [
             0.6666666666666666,
             "#ed7953"
            ],
            [
             0.7777777777777778,
             "#fb9f3a"
            ],
            [
             0.8888888888888888,
             "#fdca26"
            ],
            [
             1,
             "#f0f921"
            ]
           ]
          },
          "colorway": [
           "#636efa",
           "#EF553B",
           "#00cc96",
           "#ab63fa",
           "#FFA15A",
           "#19d3f3",
           "#FF6692",
           "#B6E880",
           "#FF97FF",
           "#FECB52"
          ],
          "font": {
           "color": "#2a3f5f"
          },
          "geo": {
           "bgcolor": "white",
           "lakecolor": "white",
           "landcolor": "#E5ECF6",
           "showlakes": true,
           "showland": true,
           "subunitcolor": "white"
          },
          "hoverlabel": {
           "align": "left"
          },
          "hovermode": "closest",
          "mapbox": {
           "style": "light"
          },
          "paper_bgcolor": "white",
          "plot_bgcolor": "#E5ECF6",
          "polar": {
           "angularaxis": {
            "gridcolor": "white",
            "linecolor": "white",
            "ticks": ""
           },
           "bgcolor": "#E5ECF6",
           "radialaxis": {
            "gridcolor": "white",
            "linecolor": "white",
            "ticks": ""
           }
          },
          "scene": {
           "xaxis": {
            "backgroundcolor": "#E5ECF6",
            "gridcolor": "white",
            "gridwidth": 2,
            "linecolor": "white",
            "showbackground": true,
            "ticks": "",
            "zerolinecolor": "white"
           },
           "yaxis": {
            "backgroundcolor": "#E5ECF6",
            "gridcolor": "white",
            "gridwidth": 2,
            "linecolor": "white",
            "showbackground": true,
            "ticks": "",
            "zerolinecolor": "white"
           },
           "zaxis": {
            "backgroundcolor": "#E5ECF6",
            "gridcolor": "white",
            "gridwidth": 2,
            "linecolor": "white",
            "showbackground": true,
            "ticks": "",
            "zerolinecolor": "white"
           }
          },
          "shapedefaults": {
           "line": {
            "color": "#2a3f5f"
           }
          },
          "ternary": {
           "aaxis": {
            "gridcolor": "white",
            "linecolor": "white",
            "ticks": ""
           },
           "baxis": {
            "gridcolor": "white",
            "linecolor": "white",
            "ticks": ""
           },
           "bgcolor": "#E5ECF6",
           "caxis": {
            "gridcolor": "white",
            "linecolor": "white",
            "ticks": ""
           }
          },
          "title": {
           "x": 0.05
          },
          "xaxis": {
           "automargin": true,
           "gridcolor": "white",
           "linecolor": "white",
           "ticks": "",
           "title": {
            "standoff": 15
           },
           "zerolinecolor": "white",
           "zerolinewidth": 2
          },
          "yaxis": {
           "automargin": true,
           "gridcolor": "white",
           "linecolor": "white",
           "ticks": "",
           "title": {
            "standoff": 15
           },
           "zerolinecolor": "white",
           "zerolinewidth": 2
          }
         }
        },
        "title": {
         "text": "Topik per Opini LHP"
        },
        "xaxis": {
         "anchor": "y",
         "domain": [
          0,
          1
         ],
         "title": {
          "text": "opini_lhp"
         }
        },
        "yaxis": {
         "anchor": "x",
         "domain": [
          0,
          1
         ],
         "title": {
          "text": "value"
         }
        }
       }
      }
     },
     "metadata": {},
     "output_type": "display_data"
    }
   ],
   "source": [
    "# Opini LHP dan Topik\n",
    "\n",
    "df7 = df.groupby([\"opini_lhp\", \"topic\"]).size().reset_index(name=\"value\")\n",
    "\n",
    "fig = px.bar(df7, x=\"opini_lhp\", y=\"value\", color=\"topic\", title=\"Topik per Opini LHP\", height=600)\n",
    "fig.show()"
   ]
  }
 ],
 "metadata": {
  "interpreter": {
   "hash": "12f778ceb2e0f12d6e913bcb8a96e29d7b8bb80717a399bc7cc72b7889b2b680"
  },
  "kernelspec": {
   "display_name": "Python 3.9.12 ('magang-bpk')",
   "language": "python",
   "name": "python3"
  },
  "language_info": {
   "codemirror_mode": {
    "name": "ipython",
    "version": 3
   },
   "file_extension": ".py",
   "mimetype": "text/x-python",
   "name": "python",
   "nbconvert_exporter": "python",
   "pygments_lexer": "ipython3",
   "version": "3.9.12"
  },
  "orig_nbformat": 4
 },
 "nbformat": 4,
 "nbformat_minor": 2
}
